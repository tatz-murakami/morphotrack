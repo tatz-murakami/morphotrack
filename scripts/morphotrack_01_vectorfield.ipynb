{
 "cells": [
  {
   "cell_type": "code",
   "execution_count": null,
   "id": "e4ca8588-929b-422c-8011-1d8bfc2a6cd5",
   "metadata": {},
   "outputs": [],
   "source": [
    "import numpy as np\n",
    "from skimage import io\n",
    "\n",
    "import os\n",
    "import napari\n",
    "import pickle\n",
    "\n",
    "from sklearn.preprocessing import normalize\n",
    "\n",
    "import morphotrack.flow"
   ]
  },
  {
   "cell_type": "code",
   "execution_count": null,
   "id": "c118ef00-20ae-4fb0-bcef-739ed08c6030",
   "metadata": {},
   "outputs": [],
   "source": [
    "io_directory = '/mnt/ampa_data01/tmurakami/220715_prefrontal_q2_R01/morphotrack'"
   ]
  },
  {
   "cell_type": "code",
   "execution_count": null,
   "id": "ee234884-d127-450b-9a52-4e78c430b317",
   "metadata": {
    "tags": []
   },
   "outputs": [],
   "source": [
    "# get binary data for blood vesssel\n",
    "vessel = io.imread(os.path.join(io_directory,'vessel_labkit.tif'))==1"
   ]
  },
  {
   "cell_type": "code",
   "execution_count": null,
   "id": "94bad0ff-858a-44d7-be68-de79e76ae775",
   "metadata": {},
   "outputs": [],
   "source": [
    "# make guide vector from the binary image.\n",
    "# load a mask of a white matter \n",
    "white_matter = io.imread(os.path.join(io_directory,'white_matter.tif'))!=0\n",
    "# load a mask of a layer 1\n",
    "layer1 = io.imread(os.path.join(io_directory,'l1.tif'))!=0\n",
    "\n",
    "# make guide vector \n",
    "guide_vector = morphotrack.flow.guide_vector_generator_from_binaries(layer1, white_matter)\n",
    "\n",
    "# or manually make a guide vector\n",
    "# guide_coordinate1 = np.array([155.,122.,197.])\n",
    "# guide_coordinate2 = np.array([110.,315.,213.])\n",
    "# guide_vector = morphotrack.flow.guide_vector_generator(guide_coordinate1, guide_coordinate2)"
   ]
  },
  {
   "cell_type": "code",
   "execution_count": null,
   "id": "9245fc1a-175d-4b3e-911f-fe22ab3d49a1",
   "metadata": {},
   "outputs": [],
   "source": [
    "vectors, img = morphotrack.flow.get_vectors_from_vessel(vessel, guide_vector, threshold=10, k=27, return_image=True)"
   ]
  },
  {
   "cell_type": "code",
   "execution_count": null,
   "id": "fa5f906f-813d-4f03-88ec-e318206e2fd9",
   "metadata": {
    "tags": []
   },
   "outputs": [],
   "source": [
    "# visualize if needed\n",
    "viewer = napari.Viewer()\n",
    "for i, c in enumerate(['red','green','blue']):\n",
    "    viewer.add_image(img[...,i], contrast_limits=[0,1], rgb=False, name='vessel', colormap=c, blending='additive')"
   ]
  },
  {
   "cell_type": "code",
   "execution_count": null,
   "id": "ce00f78c-1e52-40dd-bf1a-9e9a54b03c4b",
   "metadata": {
    "scrolled": true,
    "tags": []
   },
   "outputs": [],
   "source": [
    "# Extract the vectors and positions using vessel.\n",
    "vessel_position = np.array(np.where(vessel)).T\n",
    "\n",
    "# The first smoothing\n",
    "smoothed_vectors = morphotrack.flow.smooth_vectors(vessel_position,vectors)"
   ]
  },
  {
   "cell_type": "code",
   "execution_count": null,
   "id": "2b7db69a-d840-4708-88d6-02c77efe9095",
   "metadata": {},
   "outputs": [],
   "source": [
    "# visualize if needed\n",
    "viewer = napari.Viewer()\n",
    "\n",
    "img = np.zeros(vessel.shape+(vessel.ndim,))\n",
    "img[tuple(vessel_position.T)] = smoothed_vectors\n",
    "\n",
    "for i, c in enumerate(['red','green','blue']):\n",
    "    viewer.add_image(img[...,i], contrast_limits=[0,1], rgb=False, name='vessel', colormap=c, blending='additive')"
   ]
  },
  {
   "cell_type": "code",
   "execution_count": null,
   "id": "22906f3a-fa3b-4dec-874c-c28fdafb52d5",
   "metadata": {},
   "outputs": [],
   "source": [
    "# remove sub-branches for the better fitting\n",
    "keep = morphotrack.flow.remove_dissimilar_vectors(smoothed_vectors, vectors, threshold='otsu') # dots>=thresh"
   ]
  },
  {
   "cell_type": "code",
   "execution_count": null,
   "id": "71d0346d-5f86-42cc-9f6f-1c77a10b97c2",
   "metadata": {},
   "outputs": [],
   "source": [
    "# visualize if needed\n",
    "viewer = napari.Viewer()\n",
    "\n",
    "img = np.zeros(vessel.shape)\n",
    "img[tuple(vessel_position[keep].T)] = 1\n",
    "viewer.add_image(img, contrast_limits=[0,1], rgb=False, name='keep', colormap='green', blending='additive')\n",
    "img = np.zeros(vessel.shape)\n",
    "img[tuple(vessel_position[~keep].T)] = 1\n",
    "viewer.add_image(img, contrast_limits=[0,1], rgb=False, name='keep', colormap='magenta', blending='additive')"
   ]
  },
  {
   "cell_type": "code",
   "execution_count": null,
   "id": "2de39927-1808-4a1f-ae6d-675d6b2cf0a0",
   "metadata": {
    "scrolled": true,
    "tags": []
   },
   "outputs": [],
   "source": [
    "# repeat the process to sophisticate the vector smoothing\n",
    "vessel_position = np.array(np.where(vessel)).T[keep]\n",
    "\n",
    "# The second smoothing\n",
    "smoothed_vectors = morphotrack.flow.smooth_vectors(vessel_position,vectors[keep])"
   ]
  },
  {
   "cell_type": "code",
   "execution_count": null,
   "id": "76eeb0d3-6b06-464d-91c1-1d64d2e36334",
   "metadata": {},
   "outputs": [],
   "source": [
    "reg = morphotrack.flow.polynomial_fitting(vessel_position, smoothed_vectors, degree=5)"
   ]
  },
  {
   "cell_type": "code",
   "execution_count": null,
   "id": "faa97953-c748-480b-b161-6e70c04b5500",
   "metadata": {},
   "outputs": [],
   "source": [
    "# visualize if needed\n",
    "img = np.zeros(vessel.shape+(vessel.ndim,))\n",
    "img[tuple(vessel_position.T)] = smoothed_vectors\n",
    "\n",
    "viewer = napari.Viewer()\n",
    "for i, c in enumerate(['red','green','blue']):\n",
    "    viewer.add_image(img[...,i], contrast_limits=[0,1], rgb=False, name='vessel', colormap=c, blending='additive')\n",
    "\n",
    "\n",
    "pred = normalize(morphotrack.flow.wrap_prediction(reg, vessel_position), axis=1)\n",
    "img = np.zeros(vessel.shape+(vessel.ndim,))\n",
    "img[tuple(vessel_position.T)] = pred\n",
    "\n",
    "for i, c in enumerate(['red','green','blue']):\n",
    "    viewer.add_image(img[...,i], contrast_limits=[0,1], rgb=False, name='prediction', colormap=c, blending='additive')"
   ]
  },
  {
   "cell_type": "code",
   "execution_count": null,
   "id": "5bae6522-6ef0-4715-9199-9ced0ad28280",
   "metadata": {},
   "outputs": [],
   "source": [
    "pickle.dump(reg, open(os.path.join(io_directory,'model_.pkl'), 'wb'))"
   ]
  },
  {
   "cell_type": "code",
   "execution_count": null,
   "id": "d6672531-eb48-48d8-af76-7a6fbb323a44",
   "metadata": {},
   "outputs": [],
   "source": []
  }
 ],
 "metadata": {
  "kernelspec": {
   "display_name": "segment",
   "language": "python",
   "name": "segment"
  },
  "language_info": {
   "codemirror_mode": {
    "name": "ipython",
    "version": 3
   },
   "file_extension": ".py",
   "mimetype": "text/x-python",
   "name": "python",
   "nbconvert_exporter": "python",
   "pygments_lexer": "ipython3",
   "version": "3.8.10"
  }
 },
 "nbformat": 4,
 "nbformat_minor": 5
}
