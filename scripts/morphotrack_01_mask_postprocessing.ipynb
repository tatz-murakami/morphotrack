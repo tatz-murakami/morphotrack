{
 "cells": [
  {
   "cell_type": "code",
   "execution_count": 1,
   "id": "29ab4109-145e-4e20-a283-ebaeccf009f6",
   "metadata": {},
   "outputs": [
    {
     "name": "stderr",
     "output_type": "stream",
     "text": [
      "/home/tmurakami/app/miniconda3/envs/segment/lib/python3.8/site-packages/skimage/io/manage_plugins.py:23: UserWarning: Your installed pillow version is < 8.1.2. Several security issues (CVE-2021-27921, CVE-2021-25290, CVE-2021-25291, CVE-2021-25293, and more) have been fixed in pillow 8.1.2 or higher. We recommend to upgrade this library.\n",
      "  from .collection import imread_collection_wrapper\n"
     ]
    }
   ],
   "source": [
    "import numpy as np\n",
    "\n",
    "from skimage import io\n",
    "from skimage import filters\n",
    "from skimage.transform import resize\n",
    "from skimage.morphology import binary_opening, binary_closing, ball\n",
    "from scipy.ndimage.morphology import binary_fill_holes\n",
    "\n",
    "import os\n",
    "import napari\n",
    "from napari.types import ImageData\n",
    "\n",
    "from magicgui import magicgui\n",
    "import morphotrack.binary\n",
    "# https://napari.org/magicgui/examples/napari/napari_parameter_sweep.html"
   ]
  },
  {
   "cell_type": "code",
   "execution_count": 2,
   "id": "b3cb1317-1bd1-4867-9ab4-15c023ae371c",
   "metadata": {},
   "outputs": [],
   "source": [
    "nuclei = io.imread('/mnt/ampa_data01/tmurakami/220615_slc17a7_nuc_sma_human_03/morphotrack/R02_ch488_10um.tif')\n",
    "\n",
    "masks = {\n",
    "    'white_matter': io.imread('/mnt/ampa_data01/tmurakami/220615_slc17a7_nuc_sma_human_03/morphotrack/white_matter_labkit.tif')==1,\n",
    "    'layer1': io.imread('/mnt/ampa_data01/tmurakami/220615_slc17a7_nuc_sma_human_03/morphotrack/l1_labkit.tif')==1,\n",
    "    'tissue': io.imread('/mnt/ampa_data01/tmurakami/220615_slc17a7_nuc_sma_human_03/morphotrack/l1_labkit.tif')!=2\n",
    "}"
   ]
  },
  {
   "cell_type": "code",
   "execution_count": 3,
   "id": "6280970d-d7b6-4b19-b010-18066a9e5817",
   "metadata": {},
   "outputs": [],
   "source": [
    "mask = masks['white_matter'].copy()\n",
    "mask = morphotrack.binary.extract_largest_object_from_binary(mask)\n",
    "mask = binary_fill_holes(mask)"
   ]
  },
  {
   "cell_type": "code",
   "execution_count": 5,
   "id": "245e0e10-e266-4044-b1fe-5468089879f9",
   "metadata": {},
   "outputs": [],
   "source": [
    "@magicgui(auto_call=True,sigma={\"widget_type\": \"FloatSlider\", \"max\": 10},mode={\"choices\": [\"reflect\", \"constant\", \"nearest\", \"mirror\", \"wrap\"]},layout='horizontal')\n",
    "def gaussian_blur(layer: ImageData, sigma: float = 2.0, mode=\"nearest\") -> ImageData:\n",
    "    \"\"\"Apply a gaussian blur to ``layer``.\"\"\"\n",
    "    if layer is not None:\n",
    "        return filters.gaussian(layer, sigma=sigma, mode=mode)>=0.5"
   ]
  },
  {
   "cell_type": "code",
   "execution_count": 6,
   "id": "3af6d76c-82a7-4d87-91b9-80c354b8cf49",
   "metadata": {
    "tags": []
   },
   "outputs": [],
   "source": [
    "viewer = napari.Viewer()\n",
    "viewer.add_image(mask, name=\"image\")\n",
    "\n",
    "viewer.window.add_dock_widget(gaussian_blur)\n",
    "viewer.layers.events.changed.connect(gaussian_blur.reset_choices)\n",
    "\n",
    "napari.run()"
   ]
  },
  {
   "cell_type": "code",
   "execution_count": 6,
   "id": "8c5b54ce-1bfc-4a34-a0bd-f982b4076cdf",
   "metadata": {},
   "outputs": [],
   "source": [
    "mask_gauss = filters.gaussian(mask, sigma=3, mode='nearest')>=0.5\n",
    "# mask_gauss = morphotrack.binary.extract_largest_object_from_binary(mask_gauss)"
   ]
  },
  {
   "cell_type": "code",
   "execution_count": 8,
   "id": "cc2406d7-8f12-4b1d-bec4-9d8271a5fae5",
   "metadata": {},
   "outputs": [],
   "source": [
    "mask_gauss_opened = binary_opening(mask_gauss,ball(5))\n",
    "mask_gauss_opened = morphotrack.binary.extract_largest_object_from_binary(mask_gauss_opened)"
   ]
  },
  {
   "cell_type": "code",
   "execution_count": 7,
   "id": "8a3f61c3-b682-4831-bd78-7caf667d49b7",
   "metadata": {},
   "outputs": [
    {
     "data": {
      "text/plain": [
       "<Image layer 'image2' at 0x7f7b6978e340>"
      ]
     },
     "execution_count": 7,
     "metadata": {},
     "output_type": "execute_result"
    }
   ],
   "source": [
    "viewer = napari.Viewer()\n",
    "viewer.add_image(nuclei, name=\"orig\",blending='additive',colormap='gray')\n",
    "viewer.add_image(mask, name=\"image1\",blending='additive',colormap='magenta')\n",
    "viewer.add_image(mask_gauss, name=\"image2\",blending='additive',colormap='green')"
   ]
  },
  {
   "cell_type": "code",
   "execution_count": 8,
   "id": "e8e9ad47-9eaa-4f3d-b25b-bedb39a75cad",
   "metadata": {},
   "outputs": [
    {
     "name": "stderr",
     "output_type": "stream",
     "text": [
      "/tmp/ipykernel_2820542/2784746542.py:1: UserWarning: /mnt/ampa_data01/tmurakami/220615_slc17a7_nuc_sma_human_03/morphotrack/white_matter.tif is a boolean image: setting True to 255 and False to 0. To silence this warning, please convert the image using img_as_ubyte.\n",
      "  io.imsave('/mnt/ampa_data01/tmurakami/220615_slc17a7_nuc_sma_human_03/morphotrack/white_matter.tif',mask_gauss)\n"
     ]
    }
   ],
   "source": [
    "io.imsave('/mnt/ampa_data01/tmurakami/220615_slc17a7_nuc_sma_human_03/morphotrack/white_matter.tif',mask_gauss)"
   ]
  },
  {
   "cell_type": "code",
   "execution_count": 12,
   "id": "3c4468be-d559-4a90-b769-f234a5b88940",
   "metadata": {},
   "outputs": [],
   "source": [
    "#"
   ]
  },
  {
   "cell_type": "code",
   "execution_count": null,
   "id": "8d28b254-14bb-4c69-8b9e-62d6afcf03a4",
   "metadata": {},
   "outputs": [],
   "source": []
  }
 ],
 "metadata": {
  "kernelspec": {
   "display_name": "segment",
   "language": "python",
   "name": "segment"
  },
  "language_info": {
   "codemirror_mode": {
    "name": "ipython",
    "version": 3
   },
   "file_extension": ".py",
   "mimetype": "text/x-python",
   "name": "python",
   "nbconvert_exporter": "python",
   "pygments_lexer": "ipython3",
   "version": "3.8.10"
  }
 },
 "nbformat": 4,
 "nbformat_minor": 5
}
