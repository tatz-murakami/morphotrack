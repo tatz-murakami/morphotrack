{
 "cells": [
  {
   "cell_type": "code",
   "execution_count": null,
   "id": "e4ca8588-929b-422c-8011-1d8bfc2a6cd5",
   "metadata": {
    "tags": []
   },
   "outputs": [],
   "source": [
    "import numpy as np\n",
    "import pandas as pd\n",
    "\n",
    "from skimage import io\n",
    "from skimage.filters import threshold_otsu\n",
    "\n",
    "import os\n",
    "import napari\n",
    "import pickle\n",
    "import xarray as xr\n",
    "\n",
    "import morphotrack.points\n",
    "import morphotrack.flow\n",
    "import morphotrack.track\n",
    "import morphotrack.image"
   ]
  },
  {
   "cell_type": "code",
   "execution_count": null,
   "id": "c118ef00-20ae-4fb0-bcef-739ed08c6030",
   "metadata": {},
   "outputs": [],
   "source": [
    "io_directory = '/mnt/ampa_data01/tmurakami/220715_prefrontal_q2_R01/morphotrack'\n",
    "# load blood vessel\n",
    "vessel = io.imread(os.path.join(io_directory,'R01_ch561_10um.tif'))\n",
    "\n",
    "# load nuclei\n",
    "nuclei = io.imread(os.path.join(io_directory,'R02_ch488_10um.tif'))\n",
    "\n",
    "# read cellular coordinate\n",
    "cells_info = pd.read_csv('/mnt/ampa_data01/tmurakami/220715_prefrontal_q2_R01/R02_R01/R02ch488_to_R01_segmentation/coord_centroids.csv',index_col=0) # the unit is original voxel.\n",
    "scaling_factor = np.asarray([3,0.65,0.65])\n",
    "cell_coords = cells_info.loc[:,['centroid-0','centroid-1','centroid-2']] * scaling_factor / 10# convert unit to 10 um for consistency\n",
    "cell_coords = cell_coords.to_numpy()\n",
    "\n",
    "# load regression model\n",
    "reg = pickle.load(open(os.path.join(io_directory,'model_debug2.pkl'), 'rb'))\n",
    "get_norm_flow = morphotrack.flow.flow_to_normflow(reg)"
   ]
  },
  {
   "cell_type": "code",
   "execution_count": null,
   "id": "8f7ac669-2a5f-4ee2-877b-34e1dfc45586",
   "metadata": {},
   "outputs": [],
   "source": [
    "# selection of the outer most cells. # Note the algorithm does not run in parallel\n",
    "ver, nor = morphotrack.points.cloud_to_alphashape(cell_coords, downsample=10, alpha=0.1, return_normal=True)"
   ]
  },
  {
   "cell_type": "code",
   "execution_count": null,
   "id": "3acd44ac-3d44-42a2-ba90-889f0e4b7404",
   "metadata": {
    "tags": []
   },
   "outputs": [],
   "source": [
    "# selection of the points using clustering\n",
    "selection = morphotrack.points.face_selection(ver, nor, get_norm_flow(ver), n_clusters=6, cluster_selection='min')\n",
    "points = ver[selection]\n",
    "\n",
    "viewer = napari.Viewer()\n",
    "viewer.add_image(nuclei, rgb=False, name='nuclei', colormap='gray', blending='additive')\n",
    "viewer.add_points(\n",
    "    ver,\n",
    "    size=5,\n",
    "    face_color = 'green',\n",
    "    edge_width=0,\n",
    "    symbol='disc',\n",
    ")\n",
    "\n",
    "viewer.add_points(\n",
    "    points,\n",
    "    size=5,\n",
    "    face_color = 'white',\n",
    "    edge_width=0,\n",
    "    symbol='disc',\n",
    ")"
   ]
  },
  {
   "cell_type": "markdown",
   "id": "009998ce-9ef4-472d-b15b-e43119b0af0a",
   "metadata": {},
   "source": [
    "## Seeding and tracking"
   ]
  },
  {
   "cell_type": "code",
   "execution_count": null,
   "id": "19512fb1-da68-4444-bfc8-4e728f6aa286",
   "metadata": {
    "scrolled": true,
    "tags": []
   },
   "outputs": [],
   "source": [
    "polynomial_vectorfield = morphotrack.track.polynomial_vectorfield_generator(reg)\n",
    "tracker = morphotrack.track.FieldTracker(polynomial_vectorfield, points) # make a FieldTracker object\n",
    "\n",
    "# tracking\n",
    "t_start = 0\n",
    "t_end = 500\n",
    "tracker.solve_ode(t_start,t_end)"
   ]
  },
  {
   "cell_type": "code",
   "execution_count": null,
   "id": "931de2ab-f072-4c8c-ab13-c6aaff369c0f",
   "metadata": {},
   "outputs": [],
   "source": [
    "# Visualize tracks\n",
    "position = tracker.t_positions.stack(pos=['time', 'track']).data.T\n",
    "position[np.isnan(position)] = 0\n",
    "flow_vector = abs(get_norm_flow(position))\n",
    "\n",
    "flow_img = np.zeros(vessel.shape+(vessel.ndim,))\n",
    "for i in range(vessel.ndim):\n",
    "    flow_img[...,i] = morphotrack.image.fill_value_in_range(flow_img[...,i],position.T,flow_vector[:,i])\n",
    "    \n",
    "viewer = napari.Viewer()\n",
    "viewer.add_image(vessel, contrast_limits=[0,20000], rgb=False, name='sma', colormap='gray', blending='additive')\n",
    "\n",
    "palette = ['red','green','blue']\n",
    "\n",
    "for i in range(vessel.ndim):\n",
    "    viewer.add_image(flow_img[...,i], contrast_limits=[0,1], rgb=False, name=i, colormap=palette[i], blending='additive')"
   ]
  },
  {
   "cell_type": "code",
   "execution_count": null,
   "id": "9c287077-4623-4d39-9307-4ec8b1690eaa",
   "metadata": {},
   "outputs": [],
   "source": [
    "tracks = tracker.t_positions\n",
    "flow = tracker.apply_function_to_position(get_norm_flow)\n",
    "seeds = tracker.seeds_xr\n",
    "\n",
    "ds = xr.Dataset(data_vars={'Position': tracks, 'Flow': flow, 'Seed': seeds})"
   ]
  },
  {
   "cell_type": "code",
   "execution_count": null,
   "id": "9e9e5c85-fbcc-4af1-9b26-c4cf96ac6f15",
   "metadata": {},
   "outputs": [],
   "source": [
    "ds.to_netcdf(os.path.join(io_directory,\"track_info.nc\"))"
   ]
  },
  {
   "cell_type": "code",
   "execution_count": null,
   "id": "7c7e3889-ffbf-4774-a191-5416786c78b2",
   "metadata": {},
   "outputs": [],
   "source": []
  }
 ],
 "metadata": {
  "kernelspec": {
   "display_name": "segment",
   "language": "python",
   "name": "segment"
  },
  "language_info": {
   "codemirror_mode": {
    "name": "ipython",
    "version": 3
   },
   "file_extension": ".py",
   "mimetype": "text/x-python",
   "name": "python",
   "nbconvert_exporter": "python",
   "pygments_lexer": "ipython3",
   "version": "3.8.10"
  }
 },
 "nbformat": 4,
 "nbformat_minor": 5
}
