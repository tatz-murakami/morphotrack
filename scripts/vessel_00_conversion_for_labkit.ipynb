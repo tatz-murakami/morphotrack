{
 "cells": [
  {
   "cell_type": "code",
   "execution_count": 92,
   "id": "a236ad02-f1dd-4296-8c65-e79a2c70e420",
   "metadata": {},
   "outputs": [],
   "source": [
    "import numpy as np\n",
    "\n",
    "from skimage import io\n",
    "import os\n",
    "import napari\n",
    "\n",
    "# import dask_image\n",
    "import dask.array as da\n",
    "import dask\n",
    "import zarr\n",
    "\n",
    "from fractions import Fraction\n",
    "from skimage.transform import resize"
   ]
  },
  {
   "cell_type": "code",
   "execution_count": null,
   "id": "754fb70b-f682-433a-85a3-e5c69be1c073",
   "metadata": {},
   "outputs": [],
   "source": [
    "level = 2\n",
    "\n",
    "imgs = {\n",
    "    'R02_ch488':zarr.open('/mnt/ampa_data01/tmurakami/220615_slc17a7_nuc_sma_human_03/R02_R01/R02ch488_to_R01.zarr',mode='r')[level][:],\n",
    "    'R01_ch561':zarr.open('/mnt/ampa_data01/tmurakami/220615_slc17a7_nuc_sma_human_03/ch561.zarr',mode='r')[level][:],\n",
    "    'R01_ch640':zarr.open('/mnt/ampa_data01/tmurakami/220615_slc17a7_nuc_sma_human_03/ch640.zarr',mode='r')[level][:],\n",
    "    'R02_ch640':zarr.open('/mnt/ampa_data01/tmurakami/220615_slc17a7_nuc_sma_human_03/R02_R01/R02ch640_to_R01.zarr',mode='r')[level][:]\n",
    "}"
   ]
  },
  {
   "cell_type": "code",
   "execution_count": 42,
   "id": "425d3849-aa55-46c3-b957-0b5b915aac02",
   "metadata": {},
   "outputs": [],
   "source": [
    "voxel_size = (Fraction(3,1),Fraction(65,100),Fraction(65,100))\n",
    "target_size = (10,10,10)\n",
    "\n",
    "voxel_size_d = (2**level) * np.asarray(voxel_size)\n",
    "fractions = voxel_size_d / np.asarray(target_size)\n",
    "\n",
    "denominators = np.asarray([i.denominator for i in fractions])"
   ]
  },
  {
   "cell_type": "code",
   "execution_count": 55,
   "id": "f22e5c0d-5e17-414e-afe7-c6621506dac0",
   "metadata": {},
   "outputs": [],
   "source": [
    "# add dark voxel until I can resize the voxels precisely\n",
    "shape = np.asarray(nuclei.shape)\n",
    "pad_target = np.ceil(shape / denominators).astype(int) * denominators"
   ]
  },
  {
   "cell_type": "code",
   "execution_count": 99,
   "id": "60f1b28c-2daa-4839-bd7e-790366c35bb0",
   "metadata": {
    "tags": []
   },
   "outputs": [],
   "source": [
    "outpath = '/mnt/ampa_data01/tmurakami/220615_slc17a7_nuc_sma_human_03'"
   ]
  },
  {
   "cell_type": "code",
   "execution_count": 103,
   "id": "b99ebf76-9356-4e98-a56e-927c7b3d47ef",
   "metadata": {},
   "outputs": [
    {
     "name": "stderr",
     "output_type": "stream",
     "text": [
      "/tmp/ipykernel_2602960/235802711.py:5: UserWarning: /mnt/ampa_data01/tmurakami/220615_slc17a7_nuc_sma_human_03/R01_ch561_10um.tif is a low contrast image\n",
      "  io.imsave(os.path.join(outpath,key+'_10um.tif'), img_adjusted)\n",
      "/tmp/ipykernel_2602960/235802711.py:5: UserWarning: /mnt/ampa_data01/tmurakami/220615_slc17a7_nuc_sma_human_03/R01_ch640_10um.tif is a low contrast image\n",
      "  io.imsave(os.path.join(outpath,key+'_10um.tif'), img_adjusted)\n",
      "/tmp/ipykernel_2602960/235802711.py:5: UserWarning: /mnt/ampa_data01/tmurakami/220615_slc17a7_nuc_sma_human_03/R02_ch640_10um.tif is a low contrast image\n",
      "  io.imsave(os.path.join(outpath,key+'_10um.tif'), img_adjusted)\n"
     ]
    }
   ],
   "source": [
    "for key in imgs:\n",
    "    img = imgs[key]\n",
    "    pad_img = np.pad(img,tuple((0, i) for i in pad_target - shape), mode='constant', constant_values=0)\n",
    "    img_adjusted = (resize(pad_img,tuple((pad_img.shape * fractions).astype(int)),preserve_range=True)).astype(np.uint16)\n",
    "    io.imsave(os.path.join(outpath,key+'_10um.tif'), img_adjusted)"
   ]
  },
  {
   "cell_type": "code",
   "execution_count": null,
   "id": "f327fc25-b76d-4fa5-a80d-c26699c354f6",
   "metadata": {},
   "outputs": [],
   "source": [
    "#"
   ]
  },
  {
   "cell_type": "code",
   "execution_count": null,
   "id": "d1d945d5-5f4b-4a1d-a785-c3f753bd1f22",
   "metadata": {},
   "outputs": [],
   "source": []
  }
 ],
 "metadata": {
  "kernelspec": {
   "display_name": "segment",
   "language": "python",
   "name": "segment"
  },
  "language_info": {
   "codemirror_mode": {
    "name": "ipython",
    "version": 3
   },
   "file_extension": ".py",
   "mimetype": "text/x-python",
   "name": "python",
   "nbconvert_exporter": "python",
   "pygments_lexer": "ipython3",
   "version": "3.8.10"
  }
 },
 "nbformat": 4,
 "nbformat_minor": 5
}
