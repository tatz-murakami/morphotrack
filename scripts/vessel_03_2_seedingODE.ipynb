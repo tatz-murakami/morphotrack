{
 "cells": [
  {
   "cell_type": "code",
   "execution_count": 182,
   "id": "e4ca8588-929b-422c-8011-1d8bfc2a6cd5",
   "metadata": {},
   "outputs": [],
   "source": [
    "import numpy as np\n",
    "import pandas as pd\n",
    "\n",
    "from skimage import io\n",
    "from skimage.filters import threshold_otsu, gaussian\n",
    "from skimage import measure\n",
    "from skimage.transform import resize\n",
    "from skimage.morphology import binary_dilation, binary_opening, binary_closing, ball\n",
    "\n",
    "import os\n",
    "from matplotlib import pyplot as plt\n",
    "import pandas as pd\n",
    "import napari\n",
    "import tifffile\n",
    "# from threadpoolctl import threadpool_limits\n",
    "\n",
    "from scipy import spatial\n",
    "from scipy import ndimage as ndi\n",
    "from scipy.ndimage import map_coordinates\n",
    "from scipy.ndimage.morphology import binary_fill_holes\n",
    "from scipy.integrate import solve_ivp\n",
    "from scipy import interpolate\n",
    "\n",
    "from sklearn.preprocessing import normalize\n",
    "from sklearn.preprocessing import PolynomialFeatures\n",
    "from sklearn import linear_model\n",
    "from sklearn.preprocessing import StandardScaler\n",
    "from sklearn.cluster import KMeans\n",
    "from sklearn import manifold\n",
    "\n",
    "# from sklearn_extra.cluster import KMedoids\n",
    "\n",
    "import zarr\n",
    "\n",
    "import pydeform.sitk_api as pydeform\n",
    "import itertools\n",
    "import ray\n",
    "from tqdm import tqdm\n",
    "import ants\n",
    "import SimpleITK as sitk\n",
    "\n",
    "from vispy import color\n",
    "from vispy.color import Colormap\n",
    "\n",
    "import pickle\n",
    "import xarray as xr"
   ]
  },
  {
   "cell_type": "code",
   "execution_count": 205,
   "id": "d7e491e1-7f93-479d-aec3-d983aeb22587",
   "metadata": {},
   "outputs": [],
   "source": [
    "import importlib\n",
    "from morphotrack import trace\n",
    "import morphotrack.variables\n",
    "import morphotrack.points\n",
    "import morphotrack.track\n",
    "import morphotrack.binary\n",
    "importlib.reload(morphotrack.binary)\n",
    "\n",
    "# num_cpus=48\n",
    "# ray.init(num_cpus=num_cpus, ignore_reinit_error=True)\n",
    "turbo_dark = Colormap(morphotrack.variables.turbo_list)"
   ]
  },
  {
   "cell_type": "code",
   "execution_count": 3,
   "id": "c118ef00-20ae-4fb0-bcef-739ed08c6030",
   "metadata": {},
   "outputs": [],
   "source": [
    "io_directory = '/mnt/ampa_data01/tmurakami/220615_slc17a7_nuc_sma_human_03/morphotrack'\n",
    "vessel_downscale = io.imread(os.path.join(io_directory,'R01_ch561_10um.tif'))# np.load()\n",
    "\n",
    "# load autofluorescence/nuclei for segmentation\n",
    "nuclei = io.imread(os.path.join(io_directory,'R02_ch488_10um.tif'))# autofl_zarr['0'][:]\n",
    "voxel_size = [10, 10, 10]\n",
    "\n",
    "# load a mask of a white matter \n",
    "white_matter = io.imread(os.path.join(io_directory,'white_matter.tif'))==1\n",
    "white_matter = morphotrack.binary.extract_largest_object_from_binary(white_matter)\n",
    "white_matter = binary_opening(white_matter,ball(5))\n",
    "white_matter = binary_fill_holes(white_matter)\n",
    "\n",
    "# load a mask of a layer 1\n",
    "layer1 = io.imread(os.path.join(io_directory,'l1.tif'))==1\n",
    "layer1 = morphotrack.binary.extract_largest_object_from_binary(layer1)\n",
    "layer1 = binary_opening(layer1,ball(5))\n",
    "layer1 = binary_fill_holes(layer1)"
   ]
  },
  {
   "cell_type": "code",
   "execution_count": 317,
   "id": "44394cc2-f4aa-4e44-b4d4-3a64edcdebed",
   "metadata": {},
   "outputs": [
    {
     "data": {
      "text/plain": [
       "<Image layer 'nuclei' at 0x7f06201578e0>"
      ]
     },
     "execution_count": 317,
     "metadata": {},
     "output_type": "execute_result"
    }
   ],
   "source": [
    "# visual sanity check\n",
    "viewer= napari.Viewer()\n",
    "viewer.add_image(layer1)\n",
    "viewer.add_image(white_matter)\n",
    "viewer.add_image(nuclei)"
   ]
  },
  {
   "cell_type": "code",
   "execution_count": 318,
   "id": "23e23ab2-cfa3-4364-a3e1-4f9c81c1e00c",
   "metadata": {},
   "outputs": [],
   "source": [
    "def seed_selection(seeds, normals, flow_on_seeds, n_clusters=6, cluster_selection='min'):\n",
    "    \"\"\"\n",
    "    Select the seeds on the surface of interest. \n",
    "    \"\"\"\n",
    "    # Calculate dot product of normal vector and flows\n",
    "    seeds_dot_product = np.sum(normals*flow_on_seeds, axis=1) # This will return the dot product.\n",
    "\n",
    "    # Start clusterings\n",
    "    features = np.concatenate((seeds,normals,seeds_dot_product[...,np.newaxis]),axis=1) # Make feature matrix, xyz coordinates + normal vectors + dot products\n",
    "    scaler = StandardScaler().fit(features)\n",
    "    kmeans = KMeans(n_clusters=n_clusters, random_state=0).fit(scaler.transform(features)) # Clustering \n",
    "\n",
    "    # Extract seeds in the cluster of interest.\n",
    "    if cluster_selection=='min':\n",
    "        cluster_of_interest = np.argmin(kmeans.cluster_centers_[:,-1]) # Minimum in this case. Could be maximum depending on the orientation of the tissue or guide vector.\n",
    "    elif cluster_selection=='max':\n",
    "        cluster_of_interest = np.argmax(kmeans.cluster_centers_[:,-1])\n",
    "    else:\n",
    "        print(\"error\")\n",
    "        return None\n",
    "    return (kmeans.labels_==cluster_of_interest)"
   ]
  },
  {
   "cell_type": "code",
   "execution_count": 5,
   "id": "e61cd6fa-1453-4f39-a053-1ede5dfee077",
   "metadata": {},
   "outputs": [],
   "source": [
    "# read cellular coordinate\n",
    "cells_info = pd.read_csv('/mnt/ampa_data01/tmurakami/220615_slc17a7_nuc_sma_human_03/R02_R01/R02ch488_to_R01_segmentation/coord_centroids.csv',index_col=0) # the unit is original voxel.\n",
    "scaling_factor = np.asarray([3,0.65,0.65])\n",
    "cell_coords = cells_info.loc[:,['centroid-0','centroid-1','centroid-2']] * scaling_factor / 10# convert unit to 10 um for consistency\n",
    "cell_coords = cell_coords.to_numpy()\n",
    "\n",
    "# make kdTree of the nuclei\n",
    "coords_tree = spatial.KDTree(cell_coords)"
   ]
  },
  {
   "cell_type": "code",
   "execution_count": 8,
   "id": "8f7ac669-2a5f-4ee2-877b-34e1dfc45586",
   "metadata": {},
   "outputs": [
    {
     "name": "stderr",
     "output_type": "stream",
     "text": [
      "/home/tmurakami/app/miniconda3/envs/segment/lib/python3.8/site-packages/numpy/core/numeric.py:2449: FutureWarning:\n",
      "\n",
      "elementwise comparison failed; returning scalar instead, but in the future will perform elementwise comparison\n",
      "\n"
     ]
    },
    {
     "name": "stdout",
     "output_type": "stream",
     "text": [
      "CPU times: user 3min 56s, sys: 813 ms, total: 3min 57s\n",
      "Wall time: 3min 51s\n"
     ]
    },
    {
     "data": {
      "text/plain": [
       "<Points layer 'ver' at 0x7f061c2bfe80>"
      ]
     },
     "execution_count": 8,
     "metadata": {},
     "output_type": "execute_result"
    }
   ],
   "source": [
    "%%time\n",
    "### selection of the outer most cells.\n",
    "import alphashape\n",
    "import networkx as nx\n",
    "\n",
    "# convex hull is not successful. Try alpha shape instead.\n",
    "# 750,000 takes ~7 min.\n",
    "downsample = 10\n",
    "alpha = alphashape.alphashape(cell_coords[::downsample,:], 0.1)\n",
    "\n",
    "# use network to select the largest point clouds\n",
    "groups = nx.connected_components(alpha.vertex_adjacency_graph)\n",
    "groups = list(groups)\n",
    "# select the largest point clouds\n",
    "idx = groups[np.asarray([len(c) for c in groups]).argmax()]\n",
    "ver = np.asarray(alpha.vertices[tuple(idx),:])\n",
    "nor = np.asarray(alpha.vertex_normals[tuple(idx),:])\n",
    "\n",
    "# check the selected vertices\n",
    "viewer = napari.Viewer()\n",
    "viewer.add_points(\n",
    "    ver,\n",
    "    size=2,\n",
    "    face_color = 'white',\n",
    "    edge_width=0,\n",
    "    symbol='disc',\n",
    ")"
   ]
  },
  {
   "cell_type": "code",
   "execution_count": 9,
   "id": "3b3eb1bf-1db6-4e2f-adb2-dc7e246febc8",
   "metadata": {},
   "outputs": [],
   "source": [
    "# load model\n",
    "clf = pickle.load(open(os.path.join(io_directory,'model.pkl'), 'rb'))\n",
    "norm_flow_on_coordinate = morphotrack.points.get_norm_flow_on_coordinate(clf.degree, clf)"
   ]
  },
  {
   "cell_type": "code",
   "execution_count": 14,
   "id": "3acd44ac-3d44-42a2-ba90-889f0e4b7404",
   "metadata": {},
   "outputs": [
    {
     "name": "stderr",
     "output_type": "stream",
     "text": [
      "/home/tmurakami/app/miniconda3/envs/segment/lib/python3.8/site-packages/numpy/core/numeric.py:2449: FutureWarning:\n",
      "\n",
      "elementwise comparison failed; returning scalar instead, but in the future will perform elementwise comparison\n",
      "\n"
     ]
    },
    {
     "data": {
      "text/plain": [
       "<Points layer 'points' at 0x7f0616b89040>"
      ]
     },
     "execution_count": 14,
     "metadata": {},
     "output_type": "execute_result"
    }
   ],
   "source": [
    "selection = seed_selection(ver, nor, norm_flow_on_coordinate(ver), n_clusters=4)\n",
    "points = ver[selection]\n",
    "\n",
    "# np.save('/mnt/ampa_data01/tmurakami/220305_SMA_nuc_middlehuman/vessel_analysis/surface_points.npy',points)\n",
    "# points = np.load('/mnt/ampa_data01/tmurakami/220305_SMA_nuc_middlehuman/vessel_analysis/surface_points.npy')\n",
    "\n",
    "viewer = napari.Viewer()\n",
    "viewer.add_points(\n",
    "    points,\n",
    "    size=2,\n",
    "    face_color = 'white',\n",
    "    edge_width=0,\n",
    "    symbol='disc',\n",
    ")\n",
    "\n",
    "# seeds_df = pd.DataFrame(ver[selection], columns=['x0','x1','x2'])\n"
   ]
  },
  {
   "cell_type": "code",
   "execution_count": 8,
   "id": "72074bf2-0f4a-4840-847f-2b6c1ad274a6",
   "metadata": {},
   "outputs": [],
   "source": [
    "# points = np.load('/mnt/ampa_data01/tmurakami/220305_SMA_nuc_middlehuman/vessel_analysis/surface_points.npy')"
   ]
  },
  {
   "cell_type": "markdown",
   "id": "009998ce-9ef4-472d-b15b-e43119b0af0a",
   "metadata": {},
   "source": [
    "## Seeding and extending"
   ]
  },
  {
   "cell_type": "code",
   "execution_count": 179,
   "id": "fc7c4e11-e2a4-489d-9997-0e8d29d62f00",
   "metadata": {},
   "outputs": [
    {
     "name": "stdout",
     "output_type": "stream",
     "text": [
      "CPU times: user 48.4 s, sys: 239 ms, total: 48.6 s\n",
      "Wall time: 47.9 s\n"
     ]
    }
   ],
   "source": [
    "%%time\n",
    "# Segmentation of the image\n",
    "background_val = 500\n",
    "segmented_tissue = (nuclei>background_val)\n",
    "segmented_tissue = morphotrack.binary.extract_largest_object_from_binary(segmented_tissue)\n",
    "segmented_tissue = binary_opening(segmented_tissue,ball(5))"
   ]
  },
  {
   "cell_type": "code",
   "execution_count": 18,
   "id": "19512fb1-da68-4444-bfc8-4e728f6aa286",
   "metadata": {},
   "outputs": [],
   "source": [
    "polynomial_vectorfield = morphotrack.track.polynomial_vectorfield_generator(clf.coef_, clf.degree)"
   ]
  },
  {
   "cell_type": "code",
   "execution_count": 19,
   "id": "61b390c3-96cd-476b-b567-3fa5a4fa35b2",
   "metadata": {
    "tags": []
   },
   "outputs": [],
   "source": [
    "tracker = morphotrack.track.FieldTracker(polynomial_vectorfield, points)"
   ]
  },
  {
   "cell_type": "code",
   "execution_count": 20,
   "id": "17672ba8-82f9-4502-9ec3-7ee9b4d00350",
   "metadata": {
    "collapsed": true,
    "jupyter": {
     "outputs_hidden": true
    },
    "tags": []
   },
   "outputs": [
    {
     "name": "stderr",
     "output_type": "stream",
     "text": [
      "\u001b[2m\u001b[36m(pid=3471472)\u001b[0m /home/tmurakami/src/morphotrack/morphotrack/track.py:31: RuntimeWarning: overflow encountered in double_scalars\n",
      "\u001b[2m\u001b[36m(pid=3471472)\u001b[0m   (b * (x0 ** ij_powers[i, 0]) * (x1 ** ij_powers[i, 1]) * (x2 ** ij_powers[i, 2]) for i, b in enumerate(coeff)))\n",
      "\u001b[2m\u001b[36m(pid=3471472)\u001b[0m /home/tmurakami/src/morphotrack/morphotrack/track.py:30: RuntimeWarning: invalid value encountered in double_scalars\n",
      "\u001b[2m\u001b[36m(pid=3471472)\u001b[0m   return sum(\n",
      "\u001b[2m\u001b[36m(pid=3471576)\u001b[0m /home/tmurakami/src/morphotrack/morphotrack/track.py:31: RuntimeWarning: overflow encountered in double_scalars\n",
      "\u001b[2m\u001b[36m(pid=3471576)\u001b[0m   (b * (x0 ** ij_powers[i, 0]) * (x1 ** ij_powers[i, 1]) * (x2 ** ij_powers[i, 2]) for i, b in enumerate(coeff)))\n",
      "\u001b[2m\u001b[36m(pid=3471576)\u001b[0m /home/tmurakami/src/morphotrack/morphotrack/track.py:30: RuntimeWarning: invalid value encountered in double_scalars\n",
      "\u001b[2m\u001b[36m(pid=3471576)\u001b[0m   return sum(\n",
      "\u001b[2m\u001b[36m(pid=3471544)\u001b[0m /home/tmurakami/src/morphotrack/morphotrack/track.py:31: RuntimeWarning: overflow encountered in double_scalars\n",
      "\u001b[2m\u001b[36m(pid=3471544)\u001b[0m   (b * (x0 ** ij_powers[i, 0]) * (x1 ** ij_powers[i, 1]) * (x2 ** ij_powers[i, 2]) for i, b in enumerate(coeff)))\n",
      "\u001b[2m\u001b[36m(pid=3471544)\u001b[0m /home/tmurakami/src/morphotrack/morphotrack/track.py:30: RuntimeWarning: invalid value encountered in double_scalars\n",
      "\u001b[2m\u001b[36m(pid=3471544)\u001b[0m   return sum(\n",
      "\u001b[2m\u001b[36m(pid=3471512)\u001b[0m /home/tmurakami/src/morphotrack/morphotrack/track.py:31: RuntimeWarning: overflow encountered in double_scalars\n",
      "\u001b[2m\u001b[36m(pid=3471512)\u001b[0m   (b * (x0 ** ij_powers[i, 0]) * (x1 ** ij_powers[i, 1]) * (x2 ** ij_powers[i, 2]) for i, b in enumerate(coeff)))\n",
      "\u001b[2m\u001b[36m(pid=3471512)\u001b[0m /home/tmurakami/src/morphotrack/morphotrack/track.py:30: RuntimeWarning: invalid value encountered in double_scalars\n",
      "\u001b[2m\u001b[36m(pid=3471512)\u001b[0m   return sum(\n",
      "\u001b[2m\u001b[36m(pid=3471536)\u001b[0m /home/tmurakami/src/morphotrack/morphotrack/track.py:31: RuntimeWarning: overflow encountered in double_scalars\n",
      "\u001b[2m\u001b[36m(pid=3471536)\u001b[0m   (b * (x0 ** ij_powers[i, 0]) * (x1 ** ij_powers[i, 1]) * (x2 ** ij_powers[i, 2]) for i, b in enumerate(coeff)))\n",
      "\u001b[2m\u001b[36m(pid=3471536)\u001b[0m /home/tmurakami/src/morphotrack/morphotrack/track.py:30: RuntimeWarning: invalid value encountered in double_scalars\n",
      "\u001b[2m\u001b[36m(pid=3471536)\u001b[0m   return sum(\n",
      "\u001b[2m\u001b[36m(pid=3471513)\u001b[0m /home/tmurakami/src/morphotrack/morphotrack/track.py:31: RuntimeWarning: overflow encountered in double_scalars\n",
      "\u001b[2m\u001b[36m(pid=3471513)\u001b[0m   (b * (x0 ** ij_powers[i, 0]) * (x1 ** ij_powers[i, 1]) * (x2 ** ij_powers[i, 2]) for i, b in enumerate(coeff)))\n",
      "\u001b[2m\u001b[36m(pid=3471513)\u001b[0m /home/tmurakami/src/morphotrack/morphotrack/track.py:30: RuntimeWarning: invalid value encountered in double_scalars\n",
      "\u001b[2m\u001b[36m(pid=3471513)\u001b[0m   return sum(\n",
      "\u001b[2m\u001b[36m(pid=3471505)\u001b[0m /home/tmurakami/src/morphotrack/morphotrack/track.py:31: RuntimeWarning: overflow encountered in double_scalars\n",
      "\u001b[2m\u001b[36m(pid=3471505)\u001b[0m   (b * (x0 ** ij_powers[i, 0]) * (x1 ** ij_powers[i, 1]) * (x2 ** ij_powers[i, 2]) for i, b in enumerate(coeff)))\n",
      "\u001b[2m\u001b[36m(pid=3471505)\u001b[0m /home/tmurakami/src/morphotrack/morphotrack/track.py:30: RuntimeWarning: invalid value encountered in double_scalars\n",
      "\u001b[2m\u001b[36m(pid=3471505)\u001b[0m   return sum(\n",
      "\u001b[2m\u001b[36m(pid=3471523)\u001b[0m /home/tmurakami/src/morphotrack/morphotrack/track.py:31: RuntimeWarning: overflow encountered in double_scalars\n",
      "\u001b[2m\u001b[36m(pid=3471523)\u001b[0m   (b * (x0 ** ij_powers[i, 0]) * (x1 ** ij_powers[i, 1]) * (x2 ** ij_powers[i, 2]) for i, b in enumerate(coeff)))\n",
      "\u001b[2m\u001b[36m(pid=3471523)\u001b[0m /home/tmurakami/src/morphotrack/morphotrack/track.py:30: RuntimeWarning: invalid value encountered in double_scalars\n",
      "\u001b[2m\u001b[36m(pid=3471523)\u001b[0m   return sum(\n",
      "\u001b[2m\u001b[36m(pid=3471527)\u001b[0m /home/tmurakami/src/morphotrack/morphotrack/track.py:31: RuntimeWarning: overflow encountered in double_scalars\n",
      "\u001b[2m\u001b[36m(pid=3471527)\u001b[0m   (b * (x0 ** ij_powers[i, 0]) * (x1 ** ij_powers[i, 1]) * (x2 ** ij_powers[i, 2]) for i, b in enumerate(coeff)))\n",
      "\u001b[2m\u001b[36m(pid=3471527)\u001b[0m /home/tmurakami/src/morphotrack/morphotrack/track.py:30: RuntimeWarning: invalid value encountered in double_scalars\n",
      "\u001b[2m\u001b[36m(pid=3471527)\u001b[0m   return sum(\n",
      "\u001b[2m\u001b[36m(pid=3471515)\u001b[0m /home/tmurakami/src/morphotrack/morphotrack/track.py:31: RuntimeWarning: overflow encountered in double_scalars\n",
      "\u001b[2m\u001b[36m(pid=3471515)\u001b[0m   (b * (x0 ** ij_powers[i, 0]) * (x1 ** ij_powers[i, 1]) * (x2 ** ij_powers[i, 2]) for i, b in enumerate(coeff)))\n",
      "\u001b[2m\u001b[36m(pid=3471525)\u001b[0m /home/tmurakami/src/morphotrack/morphotrack/track.py:31: RuntimeWarning: overflow encountered in double_scalars\n",
      "\u001b[2m\u001b[36m(pid=3471525)\u001b[0m   (b * (x0 ** ij_powers[i, 0]) * (x1 ** ij_powers[i, 1]) * (x2 ** ij_powers[i, 2]) for i, b in enumerate(coeff)))\n",
      "\u001b[2m\u001b[36m(pid=3471525)\u001b[0m /home/tmurakami/src/morphotrack/morphotrack/track.py:30: RuntimeWarning: invalid value encountered in double_scalars\n",
      "\u001b[2m\u001b[36m(pid=3471525)\u001b[0m   return sum(\n",
      "\u001b[2m\u001b[36m(pid=3471568)\u001b[0m /home/tmurakami/src/morphotrack/morphotrack/track.py:31: RuntimeWarning: overflow encountered in double_scalars\n",
      "\u001b[2m\u001b[36m(pid=3471568)\u001b[0m   (b * (x0 ** ij_powers[i, 0]) * (x1 ** ij_powers[i, 1]) * (x2 ** ij_powers[i, 2]) for i, b in enumerate(coeff)))\n",
      "\u001b[2m\u001b[36m(pid=3471568)\u001b[0m /home/tmurakami/src/morphotrack/morphotrack/track.py:30: RuntimeWarning: invalid value encountered in double_scalars\n",
      "\u001b[2m\u001b[36m(pid=3471568)\u001b[0m   return sum(\n",
      "\u001b[2m\u001b[36m(pid=3471557)\u001b[0m /home/tmurakami/src/morphotrack/morphotrack/track.py:31: RuntimeWarning: overflow encountered in double_scalars\n",
      "\u001b[2m\u001b[36m(pid=3471557)\u001b[0m   (b * (x0 ** ij_powers[i, 0]) * (x1 ** ij_powers[i, 1]) * (x2 ** ij_powers[i, 2]) for i, b in enumerate(coeff)))\n",
      "\u001b[2m\u001b[36m(pid=3471557)\u001b[0m /home/tmurakami/src/morphotrack/morphotrack/track.py:30: RuntimeWarning: invalid value encountered in double_scalars\n",
      "\u001b[2m\u001b[36m(pid=3471557)\u001b[0m   return sum(\n",
      "\u001b[2m\u001b[36m(pid=3471579)\u001b[0m /home/tmurakami/src/morphotrack/morphotrack/track.py:31: RuntimeWarning: overflow encountered in double_scalars\n",
      "\u001b[2m\u001b[36m(pid=3471579)\u001b[0m   (b * (x0 ** ij_powers[i, 0]) * (x1 ** ij_powers[i, 1]) * (x2 ** ij_powers[i, 2]) for i, b in enumerate(coeff)))\n",
      "\u001b[2m\u001b[36m(pid=3471579)\u001b[0m /home/tmurakami/src/morphotrack/morphotrack/track.py:30: RuntimeWarning: invalid value encountered in double_scalars\n",
      "\u001b[2m\u001b[36m(pid=3471579)\u001b[0m   return sum(\n",
      "\u001b[2m\u001b[36m(pid=3471501)\u001b[0m /home/tmurakami/src/morphotrack/morphotrack/track.py:31: RuntimeWarning: overflow encountered in double_scalars\n",
      "\u001b[2m\u001b[36m(pid=3471501)\u001b[0m   (b * (x0 ** ij_powers[i, 0]) * (x1 ** ij_powers[i, 1]) * (x2 ** ij_powers[i, 2]) for i, b in enumerate(coeff)))\n",
      "\u001b[2m\u001b[36m(pid=3471501)\u001b[0m /home/tmurakami/src/morphotrack/morphotrack/track.py:30: RuntimeWarning: invalid value encountered in double_scalars\n",
      "\u001b[2m\u001b[36m(pid=3471501)\u001b[0m   return sum(\n",
      "\u001b[2m\u001b[36m(pid=3471537)\u001b[0m /home/tmurakami/src/morphotrack/morphotrack/track.py:31: RuntimeWarning: overflow encountered in double_scalars\n",
      "\u001b[2m\u001b[36m(pid=3471537)\u001b[0m   (b * (x0 ** ij_powers[i, 0]) * (x1 ** ij_powers[i, 1]) * (x2 ** ij_powers[i, 2]) for i, b in enumerate(coeff)))\n",
      "\u001b[2m\u001b[36m(pid=3471537)\u001b[0m /home/tmurakami/src/morphotrack/morphotrack/track.py:30: RuntimeWarning: invalid value encountered in double_scalars\n",
      "\u001b[2m\u001b[36m(pid=3471537)\u001b[0m   return sum(\n",
      "\u001b[2m\u001b[36m(pid=3471529)\u001b[0m /home/tmurakami/src/morphotrack/morphotrack/track.py:31: RuntimeWarning: overflow encountered in double_scalars\n",
      "\u001b[2m\u001b[36m(pid=3471529)\u001b[0m   (b * (x0 ** ij_powers[i, 0]) * (x1 ** ij_powers[i, 1]) * (x2 ** ij_powers[i, 2]) for i, b in enumerate(coeff)))\n",
      "\u001b[2m\u001b[36m(pid=3471529)\u001b[0m /home/tmurakami/src/morphotrack/morphotrack/track.py:30: RuntimeWarning: invalid value encountered in double_scalars\n",
      "\u001b[2m\u001b[36m(pid=3471529)\u001b[0m   return sum(\n",
      "\u001b[2m\u001b[36m(pid=3471517)\u001b[0m /home/tmurakami/src/morphotrack/morphotrack/track.py:31: RuntimeWarning: overflow encountered in double_scalars\n",
      "\u001b[2m\u001b[36m(pid=3471517)\u001b[0m   (b * (x0 ** ij_powers[i, 0]) * (x1 ** ij_powers[i, 1]) * (x2 ** ij_powers[i, 2]) for i, b in enumerate(coeff)))\n",
      "\u001b[2m\u001b[36m(pid=3471517)\u001b[0m /home/tmurakami/src/morphotrack/morphotrack/track.py:30: RuntimeWarning: invalid value encountered in double_scalars\n",
      "\u001b[2m\u001b[36m(pid=3471517)\u001b[0m   return sum(\n",
      "\u001b[2m\u001b[36m(pid=3471590)\u001b[0m /home/tmurakami/src/morphotrack/morphotrack/track.py:31: RuntimeWarning: overflow encountered in double_scalars\n",
      "\u001b[2m\u001b[36m(pid=3471590)\u001b[0m   (b * (x0 ** ij_powers[i, 0]) * (x1 ** ij_powers[i, 1]) * (x2 ** ij_powers[i, 2]) for i, b in enumerate(coeff)))\n",
      "\u001b[2m\u001b[36m(pid=3471590)\u001b[0m /home/tmurakami/src/morphotrack/morphotrack/track.py:30: RuntimeWarning: invalid value encountered in double_scalars\n",
      "\u001b[2m\u001b[36m(pid=3471590)\u001b[0m   return sum(\n",
      "\u001b[2m\u001b[36m(pid=3471507)\u001b[0m /home/tmurakami/src/morphotrack/morphotrack/track.py:31: RuntimeWarning: overflow encountered in double_scalars\n",
      "\u001b[2m\u001b[36m(pid=3471507)\u001b[0m   (b * (x0 ** ij_powers[i, 0]) * (x1 ** ij_powers[i, 1]) * (x2 ** ij_powers[i, 2]) for i, b in enumerate(coeff)))\n",
      "\u001b[2m\u001b[36m(pid=3471507)\u001b[0m /home/tmurakami/src/morphotrack/morphotrack/track.py:30: RuntimeWarning: invalid value encountered in double_scalars\n",
      "\u001b[2m\u001b[36m(pid=3471507)\u001b[0m   return sum(\n",
      "\u001b[2m\u001b[36m(pid=3471586)\u001b[0m /home/tmurakami/src/morphotrack/morphotrack/track.py:31: RuntimeWarning: overflow encountered in double_scalars\n",
      "\u001b[2m\u001b[36m(pid=3471586)\u001b[0m   (b * (x0 ** ij_powers[i, 0]) * (x1 ** ij_powers[i, 1]) * (x2 ** ij_powers[i, 2]) for i, b in enumerate(coeff)))\n",
      "\u001b[2m\u001b[36m(pid=3471586)\u001b[0m /home/tmurakami/src/morphotrack/morphotrack/track.py:30: RuntimeWarning: invalid value encountered in double_scalars\n",
      "\u001b[2m\u001b[36m(pid=3471586)\u001b[0m   return sum(\n",
      "\u001b[2m\u001b[36m(pid=3471540)\u001b[0m /home/tmurakami/src/morphotrack/morphotrack/track.py:31: RuntimeWarning: overflow encountered in double_scalars\n",
      "\u001b[2m\u001b[36m(pid=3471540)\u001b[0m   (b * (x0 ** ij_powers[i, 0]) * (x1 ** ij_powers[i, 1]) * (x2 ** ij_powers[i, 2]) for i, b in enumerate(coeff)))\n",
      "\u001b[2m\u001b[36m(pid=3471540)\u001b[0m /home/tmurakami/src/morphotrack/morphotrack/track.py:30: RuntimeWarning: invalid value encountered in double_scalars\n",
      "\u001b[2m\u001b[36m(pid=3471540)\u001b[0m   return sum(\n",
      "\u001b[2m\u001b[36m(pid=3471502)\u001b[0m /home/tmurakami/src/morphotrack/morphotrack/track.py:31: RuntimeWarning: overflow encountered in double_scalars\n",
      "\u001b[2m\u001b[36m(pid=3471502)\u001b[0m   (b * (x0 ** ij_powers[i, 0]) * (x1 ** ij_powers[i, 1]) * (x2 ** ij_powers[i, 2]) for i, b in enumerate(coeff)))\n",
      "\u001b[2m\u001b[36m(pid=3471502)\u001b[0m /home/tmurakami/src/morphotrack/morphotrack/track.py:30: RuntimeWarning: invalid value encountered in double_scalars\n",
      "\u001b[2m\u001b[36m(pid=3471502)\u001b[0m   return sum(\n",
      "\u001b[2m\u001b[36m(pid=3471508)\u001b[0m /home/tmurakami/src/morphotrack/morphotrack/track.py:31: RuntimeWarning: overflow encountered in double_scalars\n",
      "\u001b[2m\u001b[36m(pid=3471508)\u001b[0m   (b * (x0 ** ij_powers[i, 0]) * (x1 ** ij_powers[i, 1]) * (x2 ** ij_powers[i, 2]) for i, b in enumerate(coeff)))\n",
      "\u001b[2m\u001b[36m(pid=3471508)\u001b[0m /home/tmurakami/src/morphotrack/morphotrack/track.py:30: RuntimeWarning: invalid value encountered in double_scalars\n",
      "\u001b[2m\u001b[36m(pid=3471508)\u001b[0m   return sum(\n",
      "\u001b[2m\u001b[36m(pid=3471580)\u001b[0m /home/tmurakami/src/morphotrack/morphotrack/track.py:31: RuntimeWarning: overflow encountered in double_scalars\n",
      "\u001b[2m\u001b[36m(pid=3471580)\u001b[0m   (b * (x0 ** ij_powers[i, 0]) * (x1 ** ij_powers[i, 1]) * (x2 ** ij_powers[i, 2]) for i, b in enumerate(coeff)))\n",
      "\u001b[2m\u001b[36m(pid=3471580)\u001b[0m /home/tmurakami/src/morphotrack/morphotrack/track.py:30: RuntimeWarning: invalid value encountered in double_scalars\n",
      "\u001b[2m\u001b[36m(pid=3471580)\u001b[0m   return sum(\n",
      "\u001b[2m\u001b[36m(pid=3471510)\u001b[0m /home/tmurakami/src/morphotrack/morphotrack/track.py:31: RuntimeWarning: overflow encountered in double_scalars\n",
      "\u001b[2m\u001b[36m(pid=3471510)\u001b[0m   (b * (x0 ** ij_powers[i, 0]) * (x1 ** ij_powers[i, 1]) * (x2 ** ij_powers[i, 2]) for i, b in enumerate(coeff)))\n",
      "\u001b[2m\u001b[36m(pid=3471510)\u001b[0m /home/tmurakami/src/morphotrack/morphotrack/track.py:30: RuntimeWarning: invalid value encountered in double_scalars\n",
      "\u001b[2m\u001b[36m(pid=3471510)\u001b[0m   return sum(\n",
      "\u001b[2m\u001b[36m(pid=3471549)\u001b[0m /home/tmurakami/src/morphotrack/morphotrack/track.py:31: RuntimeWarning: overflow encountered in double_scalars\n",
      "\u001b[2m\u001b[36m(pid=3471549)\u001b[0m   (b * (x0 ** ij_powers[i, 0]) * (x1 ** ij_powers[i, 1]) * (x2 ** ij_powers[i, 2]) for i, b in enumerate(coeff)))\n",
      "\u001b[2m\u001b[36m(pid=3471549)\u001b[0m /home/tmurakami/src/morphotrack/morphotrack/track.py:30: RuntimeWarning: invalid value encountered in double_scalars\n",
      "\u001b[2m\u001b[36m(pid=3471549)\u001b[0m   return sum(\n",
      "\u001b[2m\u001b[36m(pid=3471511)\u001b[0m /home/tmurakami/src/morphotrack/morphotrack/track.py:31: RuntimeWarning: overflow encountered in double_scalars\n",
      "\u001b[2m\u001b[36m(pid=3471511)\u001b[0m   (b * (x0 ** ij_powers[i, 0]) * (x1 ** ij_powers[i, 1]) * (x2 ** ij_powers[i, 2]) for i, b in enumerate(coeff)))\n",
      "\u001b[2m\u001b[36m(pid=3471511)\u001b[0m /home/tmurakami/src/morphotrack/morphotrack/track.py:30: RuntimeWarning: invalid value encountered in double_scalars\n",
      "\u001b[2m\u001b[36m(pid=3471511)\u001b[0m   return sum(\n",
      "\u001b[2m\u001b[36m(pid=3471573)\u001b[0m /home/tmurakami/src/morphotrack/morphotrack/track.py:31: RuntimeWarning: overflow encountered in double_scalars\n",
      "\u001b[2m\u001b[36m(pid=3471573)\u001b[0m   (b * (x0 ** ij_powers[i, 0]) * (x1 ** ij_powers[i, 1]) * (x2 ** ij_powers[i, 2]) for i, b in enumerate(coeff)))\n",
      "\u001b[2m\u001b[36m(pid=3471573)\u001b[0m /home/tmurakami/src/morphotrack/morphotrack/track.py:30: RuntimeWarning: invalid value encountered in double_scalars\n",
      "\u001b[2m\u001b[36m(pid=3471573)\u001b[0m   return sum(\n",
      "\u001b[2m\u001b[36m(pid=3471498)\u001b[0m /home/tmurakami/src/morphotrack/morphotrack/track.py:31: RuntimeWarning: overflow encountered in double_scalars\n",
      "\u001b[2m\u001b[36m(pid=3471498)\u001b[0m   (b * (x0 ** ij_powers[i, 0]) * (x1 ** ij_powers[i, 1]) * (x2 ** ij_powers[i, 2]) for i, b in enumerate(coeff)))\n",
      "\u001b[2m\u001b[36m(pid=3471498)\u001b[0m /home/tmurakami/src/morphotrack/morphotrack/track.py:30: RuntimeWarning: invalid value encountered in double_scalars\n",
      "\u001b[2m\u001b[36m(pid=3471498)\u001b[0m   return sum(\n",
      "\u001b[2m\u001b[36m(pid=3471565)\u001b[0m /home/tmurakami/src/morphotrack/morphotrack/track.py:31: RuntimeWarning: overflow encountered in double_scalars\n",
      "\u001b[2m\u001b[36m(pid=3471565)\u001b[0m   (b * (x0 ** ij_powers[i, 0]) * (x1 ** ij_powers[i, 1]) * (x2 ** ij_powers[i, 2]) for i, b in enumerate(coeff)))\n",
      "\u001b[2m\u001b[36m(pid=3471565)\u001b[0m /home/tmurakami/src/morphotrack/morphotrack/track.py:30: RuntimeWarning: invalid value encountered in double_scalars\n",
      "\u001b[2m\u001b[36m(pid=3471565)\u001b[0m   return sum(\n",
      "\u001b[2m\u001b[36m(pid=3471563)\u001b[0m /home/tmurakami/src/morphotrack/morphotrack/track.py:31: RuntimeWarning: overflow encountered in double_scalars\n",
      "\u001b[2m\u001b[36m(pid=3471563)\u001b[0m   (b * (x0 ** ij_powers[i, 0]) * (x1 ** ij_powers[i, 1]) * (x2 ** ij_powers[i, 2]) for i, b in enumerate(coeff)))\n",
      "\u001b[2m\u001b[36m(pid=3471563)\u001b[0m /home/tmurakami/src/morphotrack/morphotrack/track.py:30: RuntimeWarning: invalid value encountered in double_scalars\n",
      "\u001b[2m\u001b[36m(pid=3471563)\u001b[0m   return sum(\n",
      "\u001b[2m\u001b[36m(pid=3471582)\u001b[0m /home/tmurakami/src/morphotrack/morphotrack/track.py:31: RuntimeWarning: overflow encountered in double_scalars\n",
      "\u001b[2m\u001b[36m(pid=3471582)\u001b[0m   (b * (x0 ** ij_powers[i, 0]) * (x1 ** ij_powers[i, 1]) * (x2 ** ij_powers[i, 2]) for i, b in enumerate(coeff)))\n",
      "\u001b[2m\u001b[36m(pid=3471582)\u001b[0m /home/tmurakami/src/morphotrack/morphotrack/track.py:30: RuntimeWarning: invalid value encountered in double_scalars\n",
      "\u001b[2m\u001b[36m(pid=3471582)\u001b[0m   return sum(\n",
      "\u001b[2m\u001b[36m(pid=3471548)\u001b[0m /home/tmurakami/src/morphotrack/morphotrack/track.py:31: RuntimeWarning: overflow encountered in double_scalars\n",
      "\u001b[2m\u001b[36m(pid=3471548)\u001b[0m   (b * (x0 ** ij_powers[i, 0]) * (x1 ** ij_powers[i, 1]) * (x2 ** ij_powers[i, 2]) for i, b in enumerate(coeff)))\n",
      "\u001b[2m\u001b[36m(pid=3471548)\u001b[0m /home/tmurakami/src/morphotrack/morphotrack/track.py:30: RuntimeWarning: invalid value encountered in double_scalars\n",
      "\u001b[2m\u001b[36m(pid=3471548)\u001b[0m   return sum(\n",
      "\u001b[2m\u001b[36m(pid=3471503)\u001b[0m /home/tmurakami/src/morphotrack/morphotrack/track.py:31: RuntimeWarning: overflow encountered in double_scalars\n",
      "\u001b[2m\u001b[36m(pid=3471503)\u001b[0m   (b * (x0 ** ij_powers[i, 0]) * (x1 ** ij_powers[i, 1]) * (x2 ** ij_powers[i, 2]) for i, b in enumerate(coeff)))\n",
      "\u001b[2m\u001b[36m(pid=3471503)\u001b[0m /home/tmurakami/src/morphotrack/morphotrack/track.py:30: RuntimeWarning: invalid value encountered in double_scalars\n",
      "\u001b[2m\u001b[36m(pid=3471503)\u001b[0m   return sum(\n",
      "\u001b[2m\u001b[36m(pid=3471570)\u001b[0m /home/tmurakami/src/morphotrack/morphotrack/track.py:31: RuntimeWarning: overflow encountered in double_scalars\n",
      "\u001b[2m\u001b[36m(pid=3471570)\u001b[0m   (b * (x0 ** ij_powers[i, 0]) * (x1 ** ij_powers[i, 1]) * (x2 ** ij_powers[i, 2]) for i, b in enumerate(coeff)))\n",
      "\u001b[2m\u001b[36m(pid=3471570)\u001b[0m /home/tmurakami/src/morphotrack/morphotrack/track.py:30: RuntimeWarning: invalid value encountered in double_scalars\n",
      "\u001b[2m\u001b[36m(pid=3471570)\u001b[0m   return sum(\n",
      "\u001b[2m\u001b[36m(pid=3471571)\u001b[0m /home/tmurakami/src/morphotrack/morphotrack/track.py:31: RuntimeWarning: overflow encountered in double_scalars\n",
      "\u001b[2m\u001b[36m(pid=3471571)\u001b[0m   (b * (x0 ** ij_powers[i, 0]) * (x1 ** ij_powers[i, 1]) * (x2 ** ij_powers[i, 2]) for i, b in enumerate(coeff)))\n",
      "\u001b[2m\u001b[36m(pid=3471571)\u001b[0m /home/tmurakami/src/morphotrack/morphotrack/track.py:30: RuntimeWarning: invalid value encountered in double_scalars\n",
      "\u001b[2m\u001b[36m(pid=3471571)\u001b[0m   return sum(\n",
      "\u001b[2m\u001b[36m(pid=3471532)\u001b[0m /home/tmurakami/src/morphotrack/morphotrack/track.py:31: RuntimeWarning: overflow encountered in double_scalars\n",
      "\u001b[2m\u001b[36m(pid=3471532)\u001b[0m   (b * (x0 ** ij_powers[i, 0]) * (x1 ** ij_powers[i, 1]) * (x2 ** ij_powers[i, 2]) for i, b in enumerate(coeff)))\n",
      "\u001b[2m\u001b[36m(pid=3471532)\u001b[0m /home/tmurakami/src/morphotrack/morphotrack/track.py:30: RuntimeWarning: invalid value encountered in double_scalars\n",
      "\u001b[2m\u001b[36m(pid=3471532)\u001b[0m   return sum(\n",
      "\u001b[2m\u001b[36m(pid=3471497)\u001b[0m /home/tmurakami/src/morphotrack/morphotrack/track.py:31: RuntimeWarning: overflow encountered in double_scalars\n",
      "\u001b[2m\u001b[36m(pid=3471497)\u001b[0m   (b * (x0 ** ij_powers[i, 0]) * (x1 ** ij_powers[i, 1]) * (x2 ** ij_powers[i, 2]) for i, b in enumerate(coeff)))\n",
      "\u001b[2m\u001b[36m(pid=3471497)\u001b[0m /home/tmurakami/src/morphotrack/morphotrack/track.py:30: RuntimeWarning: invalid value encountered in double_scalars\n",
      "\u001b[2m\u001b[36m(pid=3471497)\u001b[0m   return sum(\n",
      "\u001b[2m\u001b[36m(pid=3471521)\u001b[0m /home/tmurakami/src/morphotrack/morphotrack/track.py:31: RuntimeWarning: overflow encountered in double_scalars\n",
      "\u001b[2m\u001b[36m(pid=3471521)\u001b[0m   (b * (x0 ** ij_powers[i, 0]) * (x1 ** ij_powers[i, 1]) * (x2 ** ij_powers[i, 2]) for i, b in enumerate(coeff)))\n",
      "\u001b[2m\u001b[36m(pid=3471506)\u001b[0m /home/tmurakami/src/morphotrack/morphotrack/track.py:31: RuntimeWarning: overflow encountered in double_scalars\n",
      "\u001b[2m\u001b[36m(pid=3471506)\u001b[0m   (b * (x0 ** ij_powers[i, 0]) * (x1 ** ij_powers[i, 1]) * (x2 ** ij_powers[i, 2]) for i, b in enumerate(coeff)))\n",
      "\u001b[2m\u001b[36m(pid=3471506)\u001b[0m /home/tmurakami/src/morphotrack/morphotrack/track.py:30: RuntimeWarning: invalid value encountered in double_scalars\n",
      "\u001b[2m\u001b[36m(pid=3471506)\u001b[0m   return sum(\n",
      "\u001b[2m\u001b[36m(pid=3471515)\u001b[0m /home/tmurakami/src/morphotrack/morphotrack/track.py:30: RuntimeWarning: invalid value encountered in double_scalars\n",
      "\u001b[2m\u001b[36m(pid=3471515)\u001b[0m   return sum(\n",
      "\u001b[2m\u001b[36m(pid=3471587)\u001b[0m /home/tmurakami/src/morphotrack/morphotrack/track.py:31: RuntimeWarning: overflow encountered in double_scalars\n",
      "\u001b[2m\u001b[36m(pid=3471587)\u001b[0m   (b * (x0 ** ij_powers[i, 0]) * (x1 ** ij_powers[i, 1]) * (x2 ** ij_powers[i, 2]) for i, b in enumerate(coeff)))\n",
      "\u001b[2m\u001b[36m(pid=3471587)\u001b[0m /home/tmurakami/src/morphotrack/morphotrack/track.py:30: RuntimeWarning: invalid value encountered in double_scalars\n",
      "\u001b[2m\u001b[36m(pid=3471587)\u001b[0m   return sum(\n",
      "\u001b[2m\u001b[36m(pid=3471509)\u001b[0m /home/tmurakami/src/morphotrack/morphotrack/track.py:31: RuntimeWarning: overflow encountered in double_scalars\n",
      "\u001b[2m\u001b[36m(pid=3471509)\u001b[0m   (b * (x0 ** ij_powers[i, 0]) * (x1 ** ij_powers[i, 1]) * (x2 ** ij_powers[i, 2]) for i, b in enumerate(coeff)))\n",
      "\u001b[2m\u001b[36m(pid=3471509)\u001b[0m /home/tmurakami/src/morphotrack/morphotrack/track.py:30: RuntimeWarning: invalid value encountered in double_scalars\n",
      "\u001b[2m\u001b[36m(pid=3471509)\u001b[0m   return sum(\n",
      "\u001b[2m\u001b[36m(pid=3471495)\u001b[0m /home/tmurakami/src/morphotrack/morphotrack/track.py:31: RuntimeWarning: overflow encountered in double_scalars\n",
      "\u001b[2m\u001b[36m(pid=3471495)\u001b[0m   (b * (x0 ** ij_powers[i, 0]) * (x1 ** ij_powers[i, 1]) * (x2 ** ij_powers[i, 2]) for i, b in enumerate(coeff)))\n",
      "\u001b[2m\u001b[36m(pid=3471495)\u001b[0m /home/tmurakami/src/morphotrack/morphotrack/track.py:30: RuntimeWarning: invalid value encountered in double_scalars\n",
      "\u001b[2m\u001b[36m(pid=3471495)\u001b[0m   return sum(\n",
      "\u001b[2m\u001b[36m(pid=3471504)\u001b[0m /home/tmurakami/src/morphotrack/morphotrack/track.py:31: RuntimeWarning: overflow encountered in double_scalars\n",
      "\u001b[2m\u001b[36m(pid=3471504)\u001b[0m   (b * (x0 ** ij_powers[i, 0]) * (x1 ** ij_powers[i, 1]) * (x2 ** ij_powers[i, 2]) for i, b in enumerate(coeff)))\n",
      "\u001b[2m\u001b[36m(pid=3471504)\u001b[0m /home/tmurakami/src/morphotrack/morphotrack/track.py:30: RuntimeWarning: invalid value encountered in double_scalars\n",
      "\u001b[2m\u001b[36m(pid=3471504)\u001b[0m   return sum(\n",
      "\u001b[2m\u001b[36m(pid=3471566)\u001b[0m /home/tmurakami/src/morphotrack/morphotrack/track.py:31: RuntimeWarning: overflow encountered in double_scalars\n",
      "\u001b[2m\u001b[36m(pid=3471566)\u001b[0m   (b * (x0 ** ij_powers[i, 0]) * (x1 ** ij_powers[i, 1]) * (x2 ** ij_powers[i, 2]) for i, b in enumerate(coeff)))\n",
      "\u001b[2m\u001b[36m(pid=3471566)\u001b[0m /home/tmurakami/src/morphotrack/morphotrack/track.py:30: RuntimeWarning: invalid value encountered in double_scalars\n",
      "\u001b[2m\u001b[36m(pid=3471566)\u001b[0m   return sum(\n",
      "\u001b[2m\u001b[36m(pid=3471592)\u001b[0m /home/tmurakami/src/morphotrack/morphotrack/track.py:31: RuntimeWarning: overflow encountered in double_scalars\n",
      "\u001b[2m\u001b[36m(pid=3471592)\u001b[0m   (b * (x0 ** ij_powers[i, 0]) * (x1 ** ij_powers[i, 1]) * (x2 ** ij_powers[i, 2]) for i, b in enumerate(coeff)))\n",
      "\u001b[2m\u001b[36m(pid=3471592)\u001b[0m /home/tmurakami/src/morphotrack/morphotrack/track.py:30: RuntimeWarning: invalid value encountered in double_scalars\n",
      "\u001b[2m\u001b[36m(pid=3471592)\u001b[0m   return sum(\n",
      "\u001b[2m\u001b[36m(pid=3471521)\u001b[0m /home/tmurakami/src/morphotrack/morphotrack/track.py:30: RuntimeWarning: invalid value encountered in double_scalars\n",
      "\u001b[2m\u001b[36m(pid=3471521)\u001b[0m   return sum(\n",
      "\u001b[2m\u001b[36m(pid=3471494)\u001b[0m /home/tmurakami/src/morphotrack/morphotrack/track.py:31: RuntimeWarning: overflow encountered in double_scalars\n",
      "\u001b[2m\u001b[36m(pid=3471494)\u001b[0m   (b * (x0 ** ij_powers[i, 0]) * (x1 ** ij_powers[i, 1]) * (x2 ** ij_powers[i, 2]) for i, b in enumerate(coeff)))\n",
      "\u001b[2m\u001b[36m(pid=3471494)\u001b[0m /home/tmurakami/src/morphotrack/morphotrack/track.py:30: RuntimeWarning: invalid value encountered in double_scalars\n",
      "\u001b[2m\u001b[36m(pid=3471494)\u001b[0m   return sum(\n",
      "\u001b[2m\u001b[36m(pid=3471577)\u001b[0m /home/tmurakami/src/morphotrack/morphotrack/track.py:31: RuntimeWarning: overflow encountered in double_scalars\n",
      "\u001b[2m\u001b[36m(pid=3471577)\u001b[0m   (b * (x0 ** ij_powers[i, 0]) * (x1 ** ij_powers[i, 1]) * (x2 ** ij_powers[i, 2]) for i, b in enumerate(coeff)))\n",
      "\u001b[2m\u001b[36m(pid=3471577)\u001b[0m /home/tmurakami/src/morphotrack/morphotrack/track.py:30: RuntimeWarning: invalid value encountered in double_scalars\n",
      "\u001b[2m\u001b[36m(pid=3471577)\u001b[0m   return sum(\n",
      "\u001b[2m\u001b[36m(pid=3471533)\u001b[0m /home/tmurakami/src/morphotrack/morphotrack/track.py:31: RuntimeWarning: overflow encountered in double_scalars\n",
      "\u001b[2m\u001b[36m(pid=3471533)\u001b[0m   (b * (x0 ** ij_powers[i, 0]) * (x1 ** ij_powers[i, 1]) * (x2 ** ij_powers[i, 2]) for i, b in enumerate(coeff)))\n",
      "\u001b[2m\u001b[36m(pid=3471533)\u001b[0m /home/tmurakami/src/morphotrack/morphotrack/track.py:30: RuntimeWarning: invalid value encountered in double_scalars\n",
      "\u001b[2m\u001b[36m(pid=3471533)\u001b[0m   return sum(\n",
      "\u001b[2m\u001b[36m(pid=3471514)\u001b[0m /home/tmurakami/src/morphotrack/morphotrack/track.py:31: RuntimeWarning: overflow encountered in double_scalars\n",
      "\u001b[2m\u001b[36m(pid=3471514)\u001b[0m   (b * (x0 ** ij_powers[i, 0]) * (x1 ** ij_powers[i, 1]) * (x2 ** ij_powers[i, 2]) for i, b in enumerate(coeff)))\n",
      "\u001b[2m\u001b[36m(pid=3471514)\u001b[0m /home/tmurakami/src/morphotrack/morphotrack/track.py:30: RuntimeWarning: invalid value encountered in double_scalars\n",
      "\u001b[2m\u001b[36m(pid=3471514)\u001b[0m   return sum(\n",
      "\u001b[2m\u001b[36m(pid=3471496)\u001b[0m /home/tmurakami/src/morphotrack/morphotrack/track.py:31: RuntimeWarning: overflow encountered in double_scalars\n",
      "\u001b[2m\u001b[36m(pid=3471496)\u001b[0m   (b * (x0 ** ij_powers[i, 0]) * (x1 ** ij_powers[i, 1]) * (x2 ** ij_powers[i, 2]) for i, b in enumerate(coeff)))\n",
      "\u001b[2m\u001b[36m(pid=3471496)\u001b[0m /home/tmurakami/src/morphotrack/morphotrack/track.py:30: RuntimeWarning: invalid value encountered in double_scalars\n",
      "\u001b[2m\u001b[36m(pid=3471496)\u001b[0m   return sum(\n",
      "\u001b[2m\u001b[36m(pid=3471545)\u001b[0m /home/tmurakami/src/morphotrack/morphotrack/track.py:31: RuntimeWarning: overflow encountered in double_scalars\n",
      "\u001b[2m\u001b[36m(pid=3471545)\u001b[0m   (b * (x0 ** ij_powers[i, 0]) * (x1 ** ij_powers[i, 1]) * (x2 ** ij_powers[i, 2]) for i, b in enumerate(coeff)))\n",
      "\u001b[2m\u001b[36m(pid=3471545)\u001b[0m /home/tmurakami/src/morphotrack/morphotrack/track.py:30: RuntimeWarning: invalid value encountered in double_scalars\n",
      "\u001b[2m\u001b[36m(pid=3471545)\u001b[0m   return sum(\n",
      "\u001b[2m\u001b[36m(pid=3471558)\u001b[0m /home/tmurakami/src/morphotrack/morphotrack/track.py:31: RuntimeWarning: overflow encountered in double_scalars\n",
      "\u001b[2m\u001b[36m(pid=3471558)\u001b[0m   (b * (x0 ** ij_powers[i, 0]) * (x1 ** ij_powers[i, 1]) * (x2 ** ij_powers[i, 2]) for i, b in enumerate(coeff)))\n",
      "\u001b[2m\u001b[36m(pid=3471558)\u001b[0m /home/tmurakami/src/morphotrack/morphotrack/track.py:30: RuntimeWarning: invalid value encountered in double_scalars\n",
      "\u001b[2m\u001b[36m(pid=3471558)\u001b[0m   return sum(\n",
      "\u001b[2m\u001b[36m(pid=3471551)\u001b[0m /home/tmurakami/src/morphotrack/morphotrack/track.py:31: RuntimeWarning: overflow encountered in double_scalars\n",
      "\u001b[2m\u001b[36m(pid=3471551)\u001b[0m   (b * (x0 ** ij_powers[i, 0]) * (x1 ** ij_powers[i, 1]) * (x2 ** ij_powers[i, 2]) for i, b in enumerate(coeff)))\n",
      "\u001b[2m\u001b[36m(pid=3471551)\u001b[0m /home/tmurakami/src/morphotrack/morphotrack/track.py:30: RuntimeWarning: invalid value encountered in double_scalars\n",
      "\u001b[2m\u001b[36m(pid=3471551)\u001b[0m   return sum(\n",
      "\u001b[2m\u001b[36m(pid=3471499)\u001b[0m /home/tmurakami/src/morphotrack/morphotrack/track.py:31: RuntimeWarning: overflow encountered in double_scalars\n",
      "\u001b[2m\u001b[36m(pid=3471499)\u001b[0m   (b * (x0 ** ij_powers[i, 0]) * (x1 ** ij_powers[i, 1]) * (x2 ** ij_powers[i, 2]) for i, b in enumerate(coeff)))\n",
      "\u001b[2m\u001b[36m(pid=3471499)\u001b[0m /home/tmurakami/src/morphotrack/morphotrack/track.py:30: RuntimeWarning: invalid value encountered in double_scalars\n",
      "\u001b[2m\u001b[36m(pid=3471499)\u001b[0m   return sum(\n",
      "\u001b[2m\u001b[36m(pid=3471554)\u001b[0m /home/tmurakami/src/morphotrack/morphotrack/track.py:31: RuntimeWarning: overflow encountered in double_scalars\n",
      "\u001b[2m\u001b[36m(pid=3471554)\u001b[0m   (b * (x0 ** ij_powers[i, 0]) * (x1 ** ij_powers[i, 1]) * (x2 ** ij_powers[i, 2]) for i, b in enumerate(coeff)))\n",
      "\u001b[2m\u001b[36m(pid=3471554)\u001b[0m /home/tmurakami/src/morphotrack/morphotrack/track.py:30: RuntimeWarning: invalid value encountered in double_scalars\n",
      "\u001b[2m\u001b[36m(pid=3471554)\u001b[0m   return sum(\n",
      "\u001b[2m\u001b[36m(pid=3471546)\u001b[0m /home/tmurakami/src/morphotrack/morphotrack/track.py:31: RuntimeWarning: overflow encountered in double_scalars\n",
      "\u001b[2m\u001b[36m(pid=3471546)\u001b[0m   (b * (x0 ** ij_powers[i, 0]) * (x1 ** ij_powers[i, 1]) * (x2 ** ij_powers[i, 2]) for i, b in enumerate(coeff)))\n",
      "\u001b[2m\u001b[36m(pid=3471546)\u001b[0m /home/tmurakami/src/morphotrack/morphotrack/track.py:30: RuntimeWarning: invalid value encountered in double_scalars\n",
      "\u001b[2m\u001b[36m(pid=3471546)\u001b[0m   return sum(\n",
      "\u001b[2m\u001b[36m(pid=3471569)\u001b[0m /home/tmurakami/src/morphotrack/morphotrack/track.py:31: RuntimeWarning: overflow encountered in double_scalars\n",
      "\u001b[2m\u001b[36m(pid=3471569)\u001b[0m   (b * (x0 ** ij_powers[i, 0]) * (x1 ** ij_powers[i, 1]) * (x2 ** ij_powers[i, 2]) for i, b in enumerate(coeff)))\n",
      "\u001b[2m\u001b[36m(pid=3471569)\u001b[0m /home/tmurakami/src/morphotrack/morphotrack/track.py:30: RuntimeWarning: invalid value encountered in double_scalars\n",
      "\u001b[2m\u001b[36m(pid=3471569)\u001b[0m   return sum(\n",
      "\u001b[2m\u001b[36m(pid=3471542)\u001b[0m /home/tmurakami/src/morphotrack/morphotrack/track.py:31: RuntimeWarning: overflow encountered in double_scalars\n",
      "\u001b[2m\u001b[36m(pid=3471542)\u001b[0m   (b * (x0 ** ij_powers[i, 0]) * (x1 ** ij_powers[i, 1]) * (x2 ** ij_powers[i, 2]) for i, b in enumerate(coeff)))\n",
      "\u001b[2m\u001b[36m(pid=3471542)\u001b[0m /home/tmurakami/src/morphotrack/morphotrack/track.py:30: RuntimeWarning: invalid value encountered in double_scalars\n",
      "\u001b[2m\u001b[36m(pid=3471542)\u001b[0m   return sum(\n",
      "\u001b[2m\u001b[36m(pid=3471555)\u001b[0m /home/tmurakami/src/morphotrack/morphotrack/track.py:31: RuntimeWarning: overflow encountered in double_scalars\n",
      "\u001b[2m\u001b[36m(pid=3471555)\u001b[0m   (b * (x0 ** ij_powers[i, 0]) * (x1 ** ij_powers[i, 1]) * (x2 ** ij_powers[i, 2]) for i, b in enumerate(coeff)))\n",
      "\u001b[2m\u001b[36m(pid=3471555)\u001b[0m /home/tmurakami/src/morphotrack/morphotrack/track.py:30: RuntimeWarning: invalid value encountered in double_scalars\n",
      "\u001b[2m\u001b[36m(pid=3471555)\u001b[0m   return sum(\n",
      "\u001b[2m\u001b[36m(pid=3471596)\u001b[0m /home/tmurakami/src/morphotrack/morphotrack/track.py:31: RuntimeWarning: overflow encountered in double_scalars\n",
      "\u001b[2m\u001b[36m(pid=3471596)\u001b[0m   (b * (x0 ** ij_powers[i, 0]) * (x1 ** ij_powers[i, 1]) * (x2 ** ij_powers[i, 2]) for i, b in enumerate(coeff)))\n",
      "\u001b[2m\u001b[36m(pid=3471596)\u001b[0m /home/tmurakami/src/morphotrack/morphotrack/track.py:30: RuntimeWarning: invalid value encountered in double_scalars\n",
      "\u001b[2m\u001b[36m(pid=3471596)\u001b[0m   return sum(\n",
      "\u001b[2m\u001b[36m(pid=3471530)\u001b[0m /home/tmurakami/src/morphotrack/morphotrack/track.py:31: RuntimeWarning: overflow encountered in double_scalars\n",
      "\u001b[2m\u001b[36m(pid=3471530)\u001b[0m   (b * (x0 ** ij_powers[i, 0]) * (x1 ** ij_powers[i, 1]) * (x2 ** ij_powers[i, 2]) for i, b in enumerate(coeff)))\n",
      "\u001b[2m\u001b[36m(pid=3471530)\u001b[0m /home/tmurakami/src/morphotrack/morphotrack/track.py:30: RuntimeWarning: invalid value encountered in double_scalars\n",
      "\u001b[2m\u001b[36m(pid=3471530)\u001b[0m   return sum(\n",
      "\u001b[2m\u001b[36m(pid=3471522)\u001b[0m /home/tmurakami/src/morphotrack/morphotrack/track.py:31: RuntimeWarning: overflow encountered in double_scalars\n",
      "\u001b[2m\u001b[36m(pid=3471522)\u001b[0m   (b * (x0 ** ij_powers[i, 0]) * (x1 ** ij_powers[i, 1]) * (x2 ** ij_powers[i, 2]) for i, b in enumerate(coeff)))\n",
      "\u001b[2m\u001b[36m(pid=3471522)\u001b[0m /home/tmurakami/src/morphotrack/morphotrack/track.py:30: RuntimeWarning: invalid value encountered in double_scalars\n",
      "\u001b[2m\u001b[36m(pid=3471522)\u001b[0m   return sum(\n"
     ]
    }
   ],
   "source": [
    "t_start = 0\n",
    "t_end = 500\n",
    "tracker.solve_ode(t_start,t_end)"
   ]
  },
  {
   "cell_type": "code",
   "execution_count": 22,
   "id": "b367f70f-51a2-44ab-98e0-87199cf8a417",
   "metadata": {},
   "outputs": [],
   "source": [
    "def fill_value_in_range(array, index_array, value=255.):\n",
    "    '''\n",
    "    The function fill the value in a given array using indexing array. \n",
    "    The indexing array can have the index outside of the given array. The position indicated by index array is filled with the value.\n",
    "    The outside index will be disregarded. \n",
    "    array: numpy array to be filled with value.\n",
    "    index_array: numpy array for indexing. Each column has the position of the array to be filled.\n",
    "    value: value to be filled. int or numpy array with the size of column number in index_array.\n",
    "    '''\n",
    "    dim = array.ndim\n",
    "    # Select indices within the range of the array.\n",
    "    column_to_select = np.all(\n",
    "        [np.all([index_array[i,:] >= 0 for i in range(dim)], axis=0), np.all([index_array[i,:] < (array.shape[i] - 0.5) for i in range(dim)], axis=0)],\n",
    "        axis=0\n",
    "    )\n",
    "    select_idx = index_array[:,column_to_select]\n",
    "    select_idx = np.around(select_idx).astype(int)\n",
    "    \n",
    "    # Fill the value in the array.\n",
    "    if isinstance(value,np.ndarray):\n",
    "        array[tuple([select_idx[i,:] for i in range(dim)])] = value[column_to_select]\n",
    "    else:\n",
    "        array[tuple([select_idx[i,:] for i in range(dim)])] = value\n",
    "    return array"
   ]
  },
  {
   "cell_type": "code",
   "execution_count": 23,
   "id": "a1bdef7a-5428-409b-a5b9-65e95cf459cc",
   "metadata": {},
   "outputs": [],
   "source": [
    "seed_choice = tracker.t_positions.track.data"
   ]
  },
  {
   "cell_type": "code",
   "execution_count": 24,
   "id": "931de2ab-f072-4c8c-ab13-c6aaff369c0f",
   "metadata": {},
   "outputs": [],
   "source": [
    "# Export image if necessary\n",
    "palette = [\n",
    "    Colormap([[1.0, 1.0, 1.0, 0.0], [1.0, 0.0, 0.0, 1.0]]),\n",
    "    Colormap([[1.0, 1.0, 1.0, 0.0], [0.0, 1.0, 0.0, 1.0]]),\n",
    "    Colormap([[1.0, 1.0, 1.0, 0.0], [0.0, 0.0, 1.0, 1.0]])]\n",
    "\n",
    "if True:\n",
    "    flow_img = np.zeros(vessel_downscale.shape+(3,))\n",
    "    for seed_num in seed_choice[::5]:\n",
    "        \n",
    "        position = tracker.t_positions.isel(track=seed_num).data.T\n",
    "        position[np.isnan(position)] = 0\n",
    "        for i in range(3):\n",
    "            flow_vector = abs(norm_flow_on_coordinate(position.T)[:,i])\n",
    "            flow_img[...,i] = fill_value_in_range(flow_img[...,i],position,flow_vector)\n",
    "    for i in range(3):\n",
    "        flow_img[...,i] = flow_img[...,i]*segmented_tissue\n",
    "    viewer = napari.Viewer()\n",
    "    viewer.add_image(vessel_downscale, contrast_limits=[0,20000], rgb=False, name='sma', colormap='gray', blending='additive')\n",
    "    for i in range(3):\n",
    "        viewer.add_image(flow_img[...,i], contrast_limits=[0,1], rgb=False, name=i, colormap=palette[i], blending='translucent')\n",
    "    viewer.add_image(segmented_tissue, contrast_limits=[0,2], rgb=False, name='mask', colormap='cyan', blending='additive', multiscale=False, visible=False)"
   ]
  },
  {
   "cell_type": "code",
   "execution_count": 25,
   "id": "8a2105a1-2ce4-4345-aba2-21148634343c",
   "metadata": {},
   "outputs": [
    {
     "data": {
      "text/plain": [
       "<module 'morphotrack.track' from '/home/tmurakami/src/morphotrack/morphotrack/track.py'>"
      ]
     },
     "execution_count": 25,
     "metadata": {},
     "output_type": "execute_result"
    }
   ],
   "source": [
    "import morphotrack.points\n",
    "import morphotrack.track\n",
    "importlib.reload(morphotrack.points)\n",
    "importlib.reload(morphotrack.track)"
   ]
  },
  {
   "cell_type": "code",
   "execution_count": 26,
   "id": "9c287077-4623-4d39-9307-4ec8b1690eaa",
   "metadata": {},
   "outputs": [],
   "source": [
    "track = tracker.t_positions\n",
    "flow = tracker.apply_function_to_position(norm_flow_on_coordinate)"
   ]
  },
  {
   "cell_type": "code",
   "execution_count": 27,
   "id": "c0b065ca-230c-4b5c-abf8-4693a0290cb5",
   "metadata": {},
   "outputs": [],
   "source": [
    "def count_around_position(coords_tree, half_thickness, radius):\n",
    "    def f(arr1, arr2):\n",
    "        a,_,_ = morphotrack.points.count_around_position(arr1, arr2, coords_tree, half_thickness, radius=radius)\n",
    "        return a\n",
    "    return f"
   ]
  },
  {
   "cell_type": "markdown",
   "id": "56e6e5dc-cae2-4b9d-8b73-0f6a3260aa62",
   "metadata": {},
   "source": [
    "## Count in-kernel cells"
   ]
  },
  {
   "cell_type": "code",
   "execution_count": 28,
   "id": "b3b601be-571f-4a46-858b-6067dbdb67ee",
   "metadata": {},
   "outputs": [
    {
     "name": "stdout",
     "output_type": "stream",
     "text": [
      "CPU times: user 6min 1s, sys: 42 s, total: 6min 43s\n",
      "Wall time: 4min 25s\n"
     ]
    }
   ],
   "source": [
    "%%time\n",
    "half_thickness = 2.5 # * 10 micrometer. half of the thickness\n",
    "radius = 10 # * 10 micrometer\n",
    "\n",
    "kernel_counts = tracker.apply_function_to_position_with_array(count_around_position(coords_tree, half_thickness, radius), flow)\n",
    "kernel_counts = kernal_counts.fillna(0)"
   ]
  },
  {
   "cell_type": "markdown",
   "id": "943ef160-acb5-4671-ab3c-428110f92d36",
   "metadata": {},
   "source": [
    "## Filtering with white matter and tissue shape"
   ]
  },
  {
   "cell_type": "code",
   "execution_count": 38,
   "id": "0cbc412d-8323-4c47-b7b8-3b15601e40da",
   "metadata": {},
   "outputs": [],
   "source": [
    "def fetch_value_in_array(array):\n",
    "    def f(index):\n",
    "        a = morphotrack.track.fetch_value_in_range(array, index, return_inloc=False)\n",
    "        return a\n",
    "    return f"
   ]
  },
  {
   "cell_type": "code",
   "execution_count": null,
   "id": "20db260d-c274-4dcd-b6cd-79a2f406a593",
   "metadata": {},
   "outputs": [],
   "source": [
    "def extract_largest_segment_from_binary(array, structure=np.ones((3))):\n",
    "    \"\"\"\n",
    "    array (1d array):\n",
    "    \"\"\"\n",
    "    label_objects, nb_labels = ndi.label(array, structure=structure)\n",
    "    sizes = np.bincount(label_objects)\n",
    "    sizes[0] = 0\n",
    "    largest_segment = (label_objects == np.argmax(sizes))"
   ]
  },
  {
   "cell_type": "code",
   "execution_count": 225,
   "id": "50233f21-2b3c-447d-bcbf-9cd2153b3bd3",
   "metadata": {},
   "outputs": [],
   "source": [
    "def extract_segment(structure):\n",
    "    def f(arr):\n",
    "        return morphotrack.binary.extract_largest_object_from_binary(arr, structure)\n",
    "    return f "
   ]
  },
  {
   "cell_type": "code",
   "execution_count": 185,
   "id": "5d5ef12c-190a-49d6-af4c-9c4c7f197d64",
   "metadata": {},
   "outputs": [],
   "source": [
    "# get binary mask for gray matter\n",
    "gray_candidate = (1-white_matter)*segmented_tissue"
   ]
  },
  {
   "cell_type": "code",
   "execution_count": 326,
   "id": "2ac10b90-2ebd-4087-b0ad-70b9a8a37f7c",
   "metadata": {
    "tags": []
   },
   "outputs": [],
   "source": [
    "# get segments where tracks are in gray matter\n",
    "gray_loc = tracker.apply_function_to_position(fetch_value_in_array(gray_candidate))\n",
    "gray_loc = gray_loc.astype(float).fillna(0)\n",
    "gray_loc.data = np.apply_along_axis(lambda a:morphotrack.binary.extract_largest_object_from_binary(a, np.ones(3)), axis=1, arr=gray_loc.data) # extract the longest segment\n",
    "\n",
    "# make filter based on the size of the segment\n",
    "filters = []\n",
    "size_threshold = 100\n",
    "filters.append(gray_loc.sum(dim='time')>=size_threshold)\n",
    "\n",
    "# make filter based on one edge is in white matter\n",
    "white_loc = tracker.apply_function_to_position(fetch_value_in_array(white_matter))\n",
    "white_loc = white_loc.astype(float).fillna(0)\n",
    "\n",
    "temp = np.apply_along_axis(lambda a:binary_dilation(a, np.hstack([np.zeros(10),np.ones(10)])), axis=1, arr=gray_loc.data)\n",
    "filters.append(((temp-gray_loc)*white_loc).sum(dim='time')>0)\n",
    "\n",
    "# make filter based on inclusion of layer1\n",
    "l1_loc = tracker.apply_function_to_position(fetch_value_in_array(layer1))\n",
    "l1_loc = l1_loc.astype(float).fillna(0)\n",
    "filters.append(l1_loc.sum(dim='time')>0)\n",
    "\n",
    "# dilate to obtain redundancy for alignment\n",
    "gray_loc.data = np.apply_along_axis(lambda a:binary_dilation(a, np.ones(20)), axis=1, arr=gray_loc.data)\n",
    "\n",
    "# summarize filters\n",
    "filters = xr.concat(filters,dim='filt')"
   ]
  },
  {
   "cell_type": "code",
   "execution_count": 341,
   "id": "89164f3d-1568-4bee-9161-61a84e2085ac",
   "metadata": {},
   "outputs": [],
   "source": [
    "# Export image if necessary\n",
    "palette = [\n",
    "    Colormap([[1.0, 1.0, 1.0, 0.0], [1.0, 0.0, 0.0, 1.0]]),\n",
    "    Colormap([[1.0, 1.0, 1.0, 0.0], [0.0, 1.0, 0.0, 1.0]]),\n",
    "    Colormap([[1.0, 1.0, 1.0, 0.0], [0.0, 0.0, 1.0, 1.0]])]\n",
    "\n",
    "if True:\n",
    "    flow_img = np.zeros(vessel_downscale.shape+(3,))\n",
    "    for seed_num in filters.track[filters.all(dim='filt').data].data[::5]:\n",
    "        \n",
    "        position = tracker.t_positions.isel(track=seed_num).data.T\n",
    "        position[np.isnan(position)] = 0\n",
    "        position = position[:,gray_loc.isel(track=seed_num).data]\n",
    "        for i in range(3):\n",
    "            flow_vector = abs(norm_flow_on_coordinate(position.T)[:,i])\n",
    "            flow_img[...,i] = fill_value_in_range(flow_img[...,i],position,flow_vector)\n",
    "    for i in range(3):\n",
    "        flow_img[...,i] = flow_img[...,i]*segmented_tissue\n",
    "    viewer = napari.Viewer()\n",
    "    viewer.add_image(vessel_downscale, contrast_limits=[0,20000], rgb=False, name='sma', colormap='gray', blending='additive')\n",
    "    for i in range(3):\n",
    "        viewer.add_image(flow_img[...,i], contrast_limits=[0,1], rgb=False, name=i, colormap=palette[i], blending='translucent')\n",
    "    viewer.add_image(segmented_tissue, contrast_limits=[0,2], rgb=False, name='mask', colormap='cyan', blending='additive', multiscale=False, visible=False)\n",
    "    viewer.add_image(nuclei, contrast_limits=[0,20000], rgb=False, name='nuclei', colormap='gray', blending='additive', multiscale=False, visible=False)"
   ]
  },
  {
   "cell_type": "markdown",
   "id": "e5c2fa3b-caa4-44bc-875d-e2c7dc60a182",
   "metadata": {},
   "source": [
    "## Alignment\n",
    "create xarray dataset for alignment"
   ]
  },
  {
   "cell_type": "code",
   "execution_count": 533,
   "id": "c24f975b-e913-478c-b93f-6d3cb15b3389",
   "metadata": {},
   "outputs": [],
   "source": [
    "def make_displacement_map(position_arr):\n",
    "    coords = np.meshgrid(*[range(x) for x in position_arr.shape], indexing='ij')\n",
    "    coords = np.array(coords).astype(np.int16)\n",
    "    coords[0,:,:] = position_arr\n",
    "    \n",
    "    return coords"
   ]
  },
  {
   "cell_type": "code",
   "execution_count": 527,
   "id": "b6dcafca-0839-49cd-b1d0-7f93c4f469eb",
   "metadata": {},
   "outputs": [],
   "source": [
    "def standard_generator(target,idx):\n",
    "    std_track = target.sel(track=idx)\n",
    "    standard = target.copy()\n",
    "    standard[:] = std_track\n",
    "    standard.attrs['standard_seed'] = idx\n",
    "    \n",
    "    return standard"
   ]
  },
  {
   "cell_type": "markdown",
   "id": "8f8aa40c-86b8-4f74-b72c-1fab9cdef17a",
   "metadata": {},
   "source": [
    "### generation of target and standard\n",
    "save selected tracks and all their info as an xarray dataset"
   ]
  },
  {
   "cell_type": "code",
   "execution_count": 451,
   "id": "bdda7d3a-5264-4a90-8e42-53d9181d3092",
   "metadata": {},
   "outputs": [],
   "source": [
    "# get tracks for analysis\n",
    "track_selection = filters.track[filters.all(dim='filt')]\n",
    "\n",
    "# create xarray dataset\n",
    "track_ds = xr.Dataset(data_vars={'Kernel_counts': kernel_counts.isel(track=track_selection), 'Gray_loc': gray_loc.isel(track=track_selection)})\n",
    "track_ds['Gray_counts'] = track_ds.Kernel_counts * track_ds.Gray_loc\n",
    "\n",
    "# position and flow for future reference\n",
    "track_ds['Position'] = tracker.t_positions.isel(track=track_selection.data)\n",
    "track_ds['Flow'] = flow.isel(track=track_selection.data)\n",
    "track_ds['Seeds'] = tracker.seeds_xr.isel(track=track_selection.data)\n"
   ]
  },
  {
   "cell_type": "code",
   "execution_count": 541,
   "id": "62e015e6-105c-44e0-b87e-17cb25ffd8c9",
   "metadata": {},
   "outputs": [],
   "source": [
    "# get a standard as a template of alignment\n",
    "std_pos = morphotrack.points.pick_median_nearest_point(track_ds['Seeds'],1)\n",
    "std_seed = track_ds['Seeds'][std_pos,:].track.data"
   ]
  },
  {
   "cell_type": "code",
   "execution_count": 462,
   "id": "8c7879e4-d42a-4eb6-85c9-c84cd93dc859",
   "metadata": {},
   "outputs": [],
   "source": [
    "def find_nonzero_start_end_1d(track):\n",
    "    \"\"\"\n",
    "    Find the first and last position where non-zero values appear. \n",
    "    Arguments:\n",
    "        track (1darray): \n",
    "    Return:\n",
    "        start (int): index of first non-zero\n",
    "        end (int): index of last non-zero\n",
    "    \"\"\"\n",
    "    # identify the initial position where the counts are more than zero \n",
    "    start = np.argmax(track!=0)\n",
    "    # identify last position where the counts are more than zero\n",
    "    end = (segment.size - np.argmax(track[::-1]!=0)) - 1 \n",
    "    \n",
    "    return start, end"
   ]
  },
  {
   "cell_type": "code",
   "execution_count": 469,
   "id": "955ed450-12e4-46db-9e69-8af02dcc6a4e",
   "metadata": {},
   "outputs": [],
   "source": [
    "def find_nonzero_start_end(arr,axis=0):\n",
    "    \"\"\"\n",
    "    Find the first and last position where non-zero values appear. \n",
    "    Arguments:\n",
    "        arr (ndarray): \n",
    "    Return:\n",
    "        ndarray: first values to be start, the last values to be end\n",
    "\n",
    "    \"\"\"\n",
    "    positions = np.apply_along_axis(find_nonzero_start_end_1d, axis, arr)\n",
    "    \n",
    "    return positions"
   ]
  },
  {
   "cell_type": "code",
   "execution_count": null,
   "id": "e0251811-1e15-4cec-b074-cd45b6d62bcb",
   "metadata": {},
   "outputs": [],
   "source": [
    "def clip(arr):\n",
    "    arr[arr<0] = 0; arr[arr>arr.size-1] = arr.size-1\n",
    "    return arr"
   ]
  },
  {
   "cell_type": "code",
   "execution_count": 653,
   "id": "2f92801d-69b2-45c1-a260-0b313938131a",
   "metadata": {},
   "outputs": [],
   "source": [
    "def get_warp_args_1d(arr1,arr2,size=100):\n",
    "    \"\"\"\n",
    "    Arguments:\n",
    "        arr1, arr2 (ndarray):\n",
    "        size(int):\n",
    "    Return:\n",
    "        ndarray: index to move second one to first one\n",
    "    \"\"\"\n",
    "    arr1 = np.asarray(arr1)\n",
    "    arr2 = np.asarray(arr2)\n",
    "    # args = np.interp(np.arange(size),arr1,arr2)\n",
    "    f = interpolate.interp1d(arr1,arr2,fill_value='extrapolate')\n",
    "    args = f(np.arange(size))\n",
    "    \n",
    "    # clipping\n",
    "    args = clip(args)\n",
    "    \n",
    "    return args"
   ]
  },
  {
   "cell_type": "code",
   "execution_count": 624,
   "id": "75b1db1a-2d49-4b86-b759-26d309639a41",
   "metadata": {},
   "outputs": [],
   "source": [
    "def positional_mapping(arr1,arr2):\n",
    "    return map_coordinates(arr1.T, make_displacement_map(arr2.T), order=1, mode='constant').T"
   ]
  },
  {
   "cell_type": "code",
   "execution_count": 654,
   "id": "ef678f4b-bbce-4ad1-89da-0d8ccf5dcf8a",
   "metadata": {},
   "outputs": [],
   "source": [
    "def shift_to_standard(counts,standard_seed):\n",
    "    \"\"\"\n",
    "    Align the nonzero start/end position of the tracks to the nonzero start/end position of the standard track.\n",
    "    Arguments:\n",
    "        counts (xarray): The name of the coordinates should include track and time.\n",
    "        standard_seed: the index of the standard track.\n",
    "    Return:\n",
    "        args\n",
    "        disps\n",
    "    \"\"\"\n",
    "    standard_start_end_pos = np.asarray(find_nonzero_start_end_1d(counts.sel(track=standard_seed).data))\n",
    "    start_end_pos = find_nonzero_start_end(counts,axis=counts.get_axis_num('time'))\n",
    "    size = counts.time.size\n",
    "    \n",
    "    # get positions (index) to warp.\n",
    "    standard2target = np.apply_along_axis(lambda a : get_warp_args_1d(a,standard_start_end_pos,size),counts.get_axis_num('time'),start_end_pos)\n",
    "    target2standard = np.apply_along_axis(lambda a : get_warp_args_1d(standard_start_end_pos,a,size),counts.get_axis_num('time'),start_end_pos)\n",
    "    \n",
    "    # the following should be cleaned up but work for now.\n",
    "    standard_counts = standard_generator(counts, standard_seed).data\n",
    "    displaced_std2tar = positional_mapping(standard_counts, standard2target)\n",
    "    displaced_tar2std = positional_mapping(counts, target2standard)\n",
    "    \n",
    "    standard2target_xr = counts.copy(); standard2target_xr[:] = standard2target\n",
    "    target2standard_xr = counts.copy(); target2standard_xr[:] = target2standard\n",
    "    args = xr.concat([standard2target_xr, target2standard_xr],pd.Index(['s2t', 't2s'],name='displacement'))\n",
    "    args.name = 'Linear_args'\n",
    "    \n",
    "    displaced_std2tar_xr = counts.copy(); displaced_std2tar_xr[:] = displaced_std2tar\n",
    "    displaced_tar2std_xr = counts.copy(); displaced_tar2std_xr[:] = displaced_tar2std\n",
    "    disps = xr.concat([displaced_std2tar_xr, displaced_tar2std_xr],pd.Index(['s2t', 't2s'],name='displacement'))\n",
    "    disps.name = 'Linear_displacement'\n",
    "    \n",
    "    return args, disps"
   ]
  },
  {
   "cell_type": "code",
   "execution_count": 655,
   "id": "1975907b-07ba-48ae-873d-f92f51ab7f78",
   "metadata": {},
   "outputs": [],
   "source": [
    "standard = standard_generator(track_ds.Gray_counts,std_seed)\n",
    "args, disps = shift_to_standard(track_ds.Gray_counts,std_seed)\n",
    "\n",
    "# save to track dataset\n",
    "track_ds['Standard'] = standard\n",
    "track_ds['Linear_arg'] = args\n",
    "track_ds['Linear_displacement'] = disps"
   ]
  },
  {
   "cell_type": "code",
   "execution_count": 729,
   "id": "40aa2546-30a3-4a09-a695-7247570e5153",
   "metadata": {},
   "outputs": [
    {
     "data": {
      "text/plain": [
       "<Image layer 'Image [2]' at 0x7f06067bd190>"
      ]
     },
     "execution_count": 729,
     "metadata": {},
     "output_type": "execute_result"
    }
   ],
   "source": [
    "viewer = napari.Viewer()\n",
    "viewer.add_image(track_ds.Gray_counts,colormap='green',blending='additive',visible=False)\n",
    "viewer.add_image(track_ds.Standard,colormap='green',blending='additive')\n",
    "viewer.add_image(track_ds.Linear_displacement.sel(displacement='t2s'),colormap='magenta',blending='additive')"
   ]
  },
  {
   "cell_type": "code",
   "execution_count": 691,
   "id": "7ac78970-fb14-4257-8044-04078bb03a9b",
   "metadata": {},
   "outputs": [],
   "source": [
    "def tracks_aligner(fix, mov, clipping=True, settings=morphotrack.variables.settings,num_threads=-1,use_gpu=True,**kwargs):\n",
    "    \"\"\"\n",
    "    Wrapping deform (https://github.com/simeks/deform). Assume 1d arrays as inputs\n",
    "    Arguments:\n",
    "        fix (1darray): fixed target. \n",
    "        mov (1darray): moving object.\n",
    "    Return:\n",
    "        mov2fix_args: the index to warp mov to fix\n",
    "        fix2mov_args: the index to warp fix to mov. Please note deform uses non symmetric transformation.\n",
    "    \"\"\"\n",
    "    \n",
    "    fix_itk = sitk.Cast(sitk.GetImageFromArray(fix[:, np.newaxis, np.newaxis]),sitk.sitkFloat32)\n",
    "    mov_itk = sitk.Cast(sitk.GetImageFromArray(mov[:, np.newaxis, np.newaxis]),sitk.sitkFloat32)\n",
    "    df_sitk = pydeform.register(\n",
    "        fix_itk,\n",
    "        mov_itk,\n",
    "        settings=morphotrack.variables.settings,\n",
    "        num_threads=num_threads,\n",
    "        use_gpu=use_gpu,\n",
    "        **kwargs\n",
    "    )\n",
    "    pos = sitk.GetArrayFromImage(df_sitk)[:,0,0,2]\n",
    "    mov2fix_args = np.arange(pos.size)+pos\n",
    "    fix2mov_args = np.arange(pos.size)-pos\n",
    "    \n",
    "    if clipping:\n",
    "        mov2fix_args = clip(mov2fix_args)\n",
    "        fix2mov_args = clip(fix2mov_args)\n",
    "    \n",
    "    return mov2fix_args, fix2mov_args"
   ]
  },
  {
   "cell_type": "code",
   "execution_count": 699,
   "id": "a40aa9ea-25d8-4143-9415-4e3919be44e9",
   "metadata": {},
   "outputs": [],
   "source": [
    "def track_wise_aligner(fix2d, mov2d, **kwargs):\n",
    "    \"\"\"\n",
    "    Wrapping deform (https://github.com/simeks/deform). Assume 2d arrays as inputs. Each row is a track.\n",
    "    Arguments:\n",
    "        fix (2darray): fixed target. \n",
    "        mov (2darray): moving object.\n",
    "    Return:\n",
    "        args: the index to warp mov to fix\n",
    "    \"\"\"\n",
    "    mov2fix_args = np.zeros(fix2d.shape,dtype=float)\n",
    "    fix2mov_args = np.zeros(fix2d.shape,dtype=float)\n",
    "\n",
    "    for l in tqdm(np.arange(fix2d.shape[0])):\n",
    "        mov2fix_args[l,:], fix2mov_args[l,:] = tracks_aligner(fix2d[l,:], mov2d[l,:], **kwargs)\n",
    "        \n",
    "    return mov2fix_args, fix2mov_args"
   ]
  },
  {
   "cell_type": "code",
   "execution_count": 709,
   "id": "76ab698a-ee14-406b-99e2-a8fe56bdcff0",
   "metadata": {},
   "outputs": [],
   "source": [
    "def composite_displacement(disp1st,disp2nd):\n",
    "    comp_disp = positional_mapping(disp1st, disp2nd)\n",
    "    return comp_disp"
   ]
  },
  {
   "cell_type": "code",
   "execution_count": 705,
   "id": "94cb2f09-b989-4327-8348-afba4cd8d79a",
   "metadata": {
    "tags": []
   },
   "outputs": [
    {
     "name": "stderr",
     "output_type": "stream",
     "text": [
      "100%|███████████████████████████████████████████████████████████████████████████████████████████████| 1724/1724 [08:33<00:00,  3.36it/s]\n"
     ]
    }
   ],
   "source": [
    "non_linear_args = track_wise_aligner(track_ds.Standard.data, track_ds.Linear_displacement.sel(displacement='t2s').data)"
   ]
  },
  {
   "cell_type": "code",
   "execution_count": 739,
   "id": "df7f2807-8d3a-48f6-9fc9-b02b9c981961",
   "metadata": {},
   "outputs": [],
   "source": [
    "# store non linear displacement in xarray\n",
    "non_linear_arg_xr = track_ds.Linear_arg.copy()\n",
    "non_linear_arg_xr[:] = np.asarray(non_linear_args[::-1])\n",
    "track_ds['Nonlinear_arg'] = non_linear_arg_xr"
   ]
  },
  {
   "cell_type": "code",
   "execution_count": 749,
   "id": "27571a84-7d70-461b-99a6-7853d4a9dc01",
   "metadata": {},
   "outputs": [],
   "source": [
    "# make total displacement \n",
    "comp_disps = []\n",
    "for x in track_ds.Nonlinear_arg.displacement.data:\n",
    "    comp_disps.append(composite_displacement(track_ds.Linear_arg.sel(displacement=x),track_ds.Nonlinear_arg.sel(displacement=x)))\n",
    "\n",
    "# store total displacement in xarray\n",
    "total_arg_xr = track_ds.Linear_arg.copy()\n",
    "total_arg_xr[:] = np.asarray(comp_disps)\n",
    "track_ds['Total_arg'] = total_arg_xr"
   ]
  },
  {
   "cell_type": "code",
   "execution_count": 750,
   "id": "d33b9534-7bfe-4b9b-969d-1b6ca9b1b93e",
   "metadata": {},
   "outputs": [],
   "source": [
    "# make total warped tracks\n",
    "s2t_non_linear_warped = positional_mapping(track_ds.Standard, track_ds.Total_arg.sel(displacement='s2t'))\n",
    "t2s_non_linear_warped = positional_mapping(track_ds.Gray_counts, track_ds.Total_arg.sel(displacement='t2s'))\n",
    "\n",
    "# store total warp in xarray\n",
    "total_warp_xr = track_ds.Linear_arg.copy()\n",
    "total_warp_xr[:] = np.asarray([s2t_non_linear_warped, t2s_non_linear_warped])\n",
    "track_ds['Total_displacement'] = total_warp_xr"
   ]
  },
  {
   "cell_type": "code",
   "execution_count": 761,
   "id": "87b2d71e-7ee8-4e0a-8119-3bdff488ef3a",
   "metadata": {},
   "outputs": [
    {
     "data": {
      "text/html": [
       "<div><svg style=\"position: absolute; width: 0; height: 0; overflow: hidden\">\n",
       "<defs>\n",
       "<symbol id=\"icon-database\" viewBox=\"0 0 32 32\">\n",
       "<path d=\"M16 0c-8.837 0-16 2.239-16 5v4c0 2.761 7.163 5 16 5s16-2.239 16-5v-4c0-2.761-7.163-5-16-5z\"></path>\n",
       "<path d=\"M16 17c-8.837 0-16-2.239-16-5v6c0 2.761 7.163 5 16 5s16-2.239 16-5v-6c0 2.761-7.163 5-16 5z\"></path>\n",
       "<path d=\"M16 26c-8.837 0-16-2.239-16-5v6c0 2.761 7.163 5 16 5s16-2.239 16-5v-6c0 2.761-7.163 5-16 5z\"></path>\n",
       "</symbol>\n",
       "<symbol id=\"icon-file-text2\" viewBox=\"0 0 32 32\">\n",
       "<path d=\"M28.681 7.159c-0.694-0.947-1.662-2.053-2.724-3.116s-2.169-2.030-3.116-2.724c-1.612-1.182-2.393-1.319-2.841-1.319h-15.5c-1.378 0-2.5 1.121-2.5 2.5v27c0 1.378 1.122 2.5 2.5 2.5h23c1.378 0 2.5-1.122 2.5-2.5v-19.5c0-0.448-0.137-1.23-1.319-2.841zM24.543 5.457c0.959 0.959 1.712 1.825 2.268 2.543h-4.811v-4.811c0.718 0.556 1.584 1.309 2.543 2.268zM28 29.5c0 0.271-0.229 0.5-0.5 0.5h-23c-0.271 0-0.5-0.229-0.5-0.5v-27c0-0.271 0.229-0.5 0.5-0.5 0 0 15.499-0 15.5 0v7c0 0.552 0.448 1 1 1h7v19.5z\"></path>\n",
       "<path d=\"M23 26h-14c-0.552 0-1-0.448-1-1s0.448-1 1-1h14c0.552 0 1 0.448 1 1s-0.448 1-1 1z\"></path>\n",
       "<path d=\"M23 22h-14c-0.552 0-1-0.448-1-1s0.448-1 1-1h14c0.552 0 1 0.448 1 1s-0.448 1-1 1z\"></path>\n",
       "<path d=\"M23 18h-14c-0.552 0-1-0.448-1-1s0.448-1 1-1h14c0.552 0 1 0.448 1 1s-0.448 1-1 1z\"></path>\n",
       "</symbol>\n",
       "</defs>\n",
       "</svg>\n",
       "<style>/* CSS stylesheet for displaying xarray objects in jupyterlab.\n",
       " *\n",
       " */\n",
       "\n",
       ":root {\n",
       "  --xr-font-color0: var(--jp-content-font-color0, rgba(0, 0, 0, 1));\n",
       "  --xr-font-color2: var(--jp-content-font-color2, rgba(0, 0, 0, 0.54));\n",
       "  --xr-font-color3: var(--jp-content-font-color3, rgba(0, 0, 0, 0.38));\n",
       "  --xr-border-color: var(--jp-border-color2, #e0e0e0);\n",
       "  --xr-disabled-color: var(--jp-layout-color3, #bdbdbd);\n",
       "  --xr-background-color: var(--jp-layout-color0, white);\n",
       "  --xr-background-color-row-even: var(--jp-layout-color1, white);\n",
       "  --xr-background-color-row-odd: var(--jp-layout-color2, #eeeeee);\n",
       "}\n",
       "\n",
       "html[theme=dark],\n",
       "body[data-theme=dark],\n",
       "body.vscode-dark {\n",
       "  --xr-font-color0: rgba(255, 255, 255, 1);\n",
       "  --xr-font-color2: rgba(255, 255, 255, 0.54);\n",
       "  --xr-font-color3: rgba(255, 255, 255, 0.38);\n",
       "  --xr-border-color: #1F1F1F;\n",
       "  --xr-disabled-color: #515151;\n",
       "  --xr-background-color: #111111;\n",
       "  --xr-background-color-row-even: #111111;\n",
       "  --xr-background-color-row-odd: #313131;\n",
       "}\n",
       "\n",
       ".xr-wrap {\n",
       "  display: block !important;\n",
       "  min-width: 300px;\n",
       "  max-width: 700px;\n",
       "}\n",
       "\n",
       ".xr-text-repr-fallback {\n",
       "  /* fallback to plain text repr when CSS is not injected (untrusted notebook) */\n",
       "  display: none;\n",
       "}\n",
       "\n",
       ".xr-header {\n",
       "  padding-top: 6px;\n",
       "  padding-bottom: 6px;\n",
       "  margin-bottom: 4px;\n",
       "  border-bottom: solid 1px var(--xr-border-color);\n",
       "}\n",
       "\n",
       ".xr-header > div,\n",
       ".xr-header > ul {\n",
       "  display: inline;\n",
       "  margin-top: 0;\n",
       "  margin-bottom: 0;\n",
       "}\n",
       "\n",
       ".xr-obj-type,\n",
       ".xr-array-name {\n",
       "  margin-left: 2px;\n",
       "  margin-right: 10px;\n",
       "}\n",
       "\n",
       ".xr-obj-type {\n",
       "  color: var(--xr-font-color2);\n",
       "}\n",
       "\n",
       ".xr-sections {\n",
       "  padding-left: 0 !important;\n",
       "  display: grid;\n",
       "  grid-template-columns: 150px auto auto 1fr 20px 20px;\n",
       "}\n",
       "\n",
       ".xr-section-item {\n",
       "  display: contents;\n",
       "}\n",
       "\n",
       ".xr-section-item input {\n",
       "  display: none;\n",
       "}\n",
       "\n",
       ".xr-section-item input + label {\n",
       "  color: var(--xr-disabled-color);\n",
       "}\n",
       "\n",
       ".xr-section-item input:enabled + label {\n",
       "  cursor: pointer;\n",
       "  color: var(--xr-font-color2);\n",
       "}\n",
       "\n",
       ".xr-section-item input:enabled + label:hover {\n",
       "  color: var(--xr-font-color0);\n",
       "}\n",
       "\n",
       ".xr-section-summary {\n",
       "  grid-column: 1;\n",
       "  color: var(--xr-font-color2);\n",
       "  font-weight: 500;\n",
       "}\n",
       "\n",
       ".xr-section-summary > span {\n",
       "  display: inline-block;\n",
       "  padding-left: 0.5em;\n",
       "}\n",
       "\n",
       ".xr-section-summary-in:disabled + label {\n",
       "  color: var(--xr-font-color2);\n",
       "}\n",
       "\n",
       ".xr-section-summary-in + label:before {\n",
       "  display: inline-block;\n",
       "  content: '►';\n",
       "  font-size: 11px;\n",
       "  width: 15px;\n",
       "  text-align: center;\n",
       "}\n",
       "\n",
       ".xr-section-summary-in:disabled + label:before {\n",
       "  color: var(--xr-disabled-color);\n",
       "}\n",
       "\n",
       ".xr-section-summary-in:checked + label:before {\n",
       "  content: '▼';\n",
       "}\n",
       "\n",
       ".xr-section-summary-in:checked + label > span {\n",
       "  display: none;\n",
       "}\n",
       "\n",
       ".xr-section-summary,\n",
       ".xr-section-inline-details {\n",
       "  padding-top: 4px;\n",
       "  padding-bottom: 4px;\n",
       "}\n",
       "\n",
       ".xr-section-inline-details {\n",
       "  grid-column: 2 / -1;\n",
       "}\n",
       "\n",
       ".xr-section-details {\n",
       "  display: none;\n",
       "  grid-column: 1 / -1;\n",
       "  margin-bottom: 5px;\n",
       "}\n",
       "\n",
       ".xr-section-summary-in:checked ~ .xr-section-details {\n",
       "  display: contents;\n",
       "}\n",
       "\n",
       ".xr-array-wrap {\n",
       "  grid-column: 1 / -1;\n",
       "  display: grid;\n",
       "  grid-template-columns: 20px auto;\n",
       "}\n",
       "\n",
       ".xr-array-wrap > label {\n",
       "  grid-column: 1;\n",
       "  vertical-align: top;\n",
       "}\n",
       "\n",
       ".xr-preview {\n",
       "  color: var(--xr-font-color3);\n",
       "}\n",
       "\n",
       ".xr-array-preview,\n",
       ".xr-array-data {\n",
       "  padding: 0 5px !important;\n",
       "  grid-column: 2;\n",
       "}\n",
       "\n",
       ".xr-array-data,\n",
       ".xr-array-in:checked ~ .xr-array-preview {\n",
       "  display: none;\n",
       "}\n",
       "\n",
       ".xr-array-in:checked ~ .xr-array-data,\n",
       ".xr-array-preview {\n",
       "  display: inline-block;\n",
       "}\n",
       "\n",
       ".xr-dim-list {\n",
       "  display: inline-block !important;\n",
       "  list-style: none;\n",
       "  padding: 0 !important;\n",
       "  margin: 0;\n",
       "}\n",
       "\n",
       ".xr-dim-list li {\n",
       "  display: inline-block;\n",
       "  padding: 0;\n",
       "  margin: 0;\n",
       "}\n",
       "\n",
       ".xr-dim-list:before {\n",
       "  content: '(';\n",
       "}\n",
       "\n",
       ".xr-dim-list:after {\n",
       "  content: ')';\n",
       "}\n",
       "\n",
       ".xr-dim-list li:not(:last-child):after {\n",
       "  content: ',';\n",
       "  padding-right: 5px;\n",
       "}\n",
       "\n",
       ".xr-has-index {\n",
       "  font-weight: bold;\n",
       "}\n",
       "\n",
       ".xr-var-list,\n",
       ".xr-var-item {\n",
       "  display: contents;\n",
       "}\n",
       "\n",
       ".xr-var-item > div,\n",
       ".xr-var-item label,\n",
       ".xr-var-item > .xr-var-name span {\n",
       "  background-color: var(--xr-background-color-row-even);\n",
       "  margin-bottom: 0;\n",
       "}\n",
       "\n",
       ".xr-var-item > .xr-var-name:hover span {\n",
       "  padding-right: 5px;\n",
       "}\n",
       "\n",
       ".xr-var-list > li:nth-child(odd) > div,\n",
       ".xr-var-list > li:nth-child(odd) > label,\n",
       ".xr-var-list > li:nth-child(odd) > .xr-var-name span {\n",
       "  background-color: var(--xr-background-color-row-odd);\n",
       "}\n",
       "\n",
       ".xr-var-name {\n",
       "  grid-column: 1;\n",
       "}\n",
       "\n",
       ".xr-var-dims {\n",
       "  grid-column: 2;\n",
       "}\n",
       "\n",
       ".xr-var-dtype {\n",
       "  grid-column: 3;\n",
       "  text-align: right;\n",
       "  color: var(--xr-font-color2);\n",
       "}\n",
       "\n",
       ".xr-var-preview {\n",
       "  grid-column: 4;\n",
       "}\n",
       "\n",
       ".xr-var-name,\n",
       ".xr-var-dims,\n",
       ".xr-var-dtype,\n",
       ".xr-preview,\n",
       ".xr-attrs dt {\n",
       "  white-space: nowrap;\n",
       "  overflow: hidden;\n",
       "  text-overflow: ellipsis;\n",
       "  padding-right: 10px;\n",
       "}\n",
       "\n",
       ".xr-var-name:hover,\n",
       ".xr-var-dims:hover,\n",
       ".xr-var-dtype:hover,\n",
       ".xr-attrs dt:hover {\n",
       "  overflow: visible;\n",
       "  width: auto;\n",
       "  z-index: 1;\n",
       "}\n",
       "\n",
       ".xr-var-attrs,\n",
       ".xr-var-data {\n",
       "  display: none;\n",
       "  background-color: var(--xr-background-color) !important;\n",
       "  padding-bottom: 5px !important;\n",
       "}\n",
       "\n",
       ".xr-var-attrs-in:checked ~ .xr-var-attrs,\n",
       ".xr-var-data-in:checked ~ .xr-var-data {\n",
       "  display: block;\n",
       "}\n",
       "\n",
       ".xr-var-data > table {\n",
       "  float: right;\n",
       "}\n",
       "\n",
       ".xr-var-name span,\n",
       ".xr-var-data,\n",
       ".xr-attrs {\n",
       "  padding-left: 25px !important;\n",
       "}\n",
       "\n",
       ".xr-attrs,\n",
       ".xr-var-attrs,\n",
       ".xr-var-data {\n",
       "  grid-column: 1 / -1;\n",
       "}\n",
       "\n",
       "dl.xr-attrs {\n",
       "  padding: 0;\n",
       "  margin: 0;\n",
       "  display: grid;\n",
       "  grid-template-columns: 125px auto;\n",
       "}\n",
       "\n",
       ".xr-attrs dt,\n",
       ".xr-attrs dd {\n",
       "  padding: 0;\n",
       "  margin: 0;\n",
       "  float: left;\n",
       "  padding-right: 10px;\n",
       "  width: auto;\n",
       "}\n",
       "\n",
       ".xr-attrs dt {\n",
       "  font-weight: normal;\n",
       "  grid-column: 1;\n",
       "}\n",
       "\n",
       ".xr-attrs dt:hover span {\n",
       "  display: inline-block;\n",
       "  background: var(--xr-background-color);\n",
       "  padding-right: 10px;\n",
       "}\n",
       "\n",
       ".xr-attrs dd {\n",
       "  grid-column: 2;\n",
       "  white-space: pre-wrap;\n",
       "  word-break: break-all;\n",
       "}\n",
       "\n",
       ".xr-icon-database,\n",
       ".xr-icon-file-text2 {\n",
       "  display: inline-block;\n",
       "  vertical-align: middle;\n",
       "  width: 1em;\n",
       "  height: 1.5em !important;\n",
       "  stroke-width: 0;\n",
       "  stroke: currentColor;\n",
       "  fill: currentColor;\n",
       "}\n",
       "</style><pre class='xr-text-repr-fallback'>&lt;xarray.Dataset&gt;\n",
       "Dimensions:              (time: 500, track: 1724, space: 3, displacement: 2)\n",
       "Coordinates:\n",
       "  * time                 (time) int64 0 1 2 3 4 5 6 ... 494 495 496 497 498 499\n",
       "  * track                (track) int64 1188 1247 1251 1271 ... 6617 6624 6649\n",
       "  * space                (space) int64 0 1 2\n",
       "  * displacement         (displacement) object &#x27;s2t&#x27; &#x27;t2s&#x27;\n",
       "Data variables:\n",
       "    Kernel_counts        (track, time) float64 285.0 288.0 303.0 ... 0.0 0.0 0.0\n",
       "    Gray_loc             (track, time) bool True True True ... False False False\n",
       "    Gray_counts          (track, time) float64 285.0 288.0 303.0 ... 0.0 0.0 0.0\n",
       "    Position             (track, time, space) float64 280.7 312.5 ... nan nan\n",
       "    Flow                 (track, time, space) float64 -0.8726 0.4883 ... nan nan\n",
       "    Seeds                (track, space) float64 280.7 312.5 ... 27.47 326.5\n",
       "    Standard             (track, time) float64 360.0 414.0 447.0 ... 0.0 0.0 0.0\n",
       "    Linear_arg           (displacement, track, time) float64 0.0 1.199 ... 299.4\n",
       "    Linear_displacement  (displacement, track, time) float64 360.0 414.0 ... 0.0\n",
       "    Nonlinear_arg        (displacement, track, time) float64 35.0 36.0 ... 499.0\n",
       "    Total_arg            (displacement, track, time) float64 41.97 ... 299.4\n",
       "    Total_displacement   (displacement, track, time) float64 564.0 519.0 ... 0.0</pre><div class='xr-wrap' style='display:none'><div class='xr-header'><div class='xr-obj-type'>xarray.Dataset</div></div><ul class='xr-sections'><li class='xr-section-item'><input id='section-07fabe2f-f6c9-4140-a438-183fa5d71e06' class='xr-section-summary-in' type='checkbox' disabled ><label for='section-07fabe2f-f6c9-4140-a438-183fa5d71e06' class='xr-section-summary'  title='Expand/collapse section'>Dimensions:</label><div class='xr-section-inline-details'><ul class='xr-dim-list'><li><span class='xr-has-index'>time</span>: 500</li><li><span class='xr-has-index'>track</span>: 1724</li><li><span class='xr-has-index'>space</span>: 3</li><li><span class='xr-has-index'>displacement</span>: 2</li></ul></div><div class='xr-section-details'></div></li><li class='xr-section-item'><input id='section-25ce4bc4-0452-47f8-a954-102ca2f8193a' class='xr-section-summary-in' type='checkbox'  checked><label for='section-25ce4bc4-0452-47f8-a954-102ca2f8193a' class='xr-section-summary' >Coordinates: <span>(4)</span></label><div class='xr-section-inline-details'></div><div class='xr-section-details'><ul class='xr-var-list'><li class='xr-var-item'><div class='xr-var-name'><span class='xr-has-index'>time</span></div><div class='xr-var-dims'>(time)</div><div class='xr-var-dtype'>int64</div><div class='xr-var-preview xr-preview'>0 1 2 3 4 5 ... 495 496 497 498 499</div><input id='attrs-6f33ccc6-4d96-49fd-94c0-6bceffb225e8' class='xr-var-attrs-in' type='checkbox' disabled><label for='attrs-6f33ccc6-4d96-49fd-94c0-6bceffb225e8' title='Show/Hide attributes'><svg class='icon xr-icon-file-text2'><use xlink:href='#icon-file-text2'></use></svg></label><input id='data-4a7a0f9c-4fcb-410b-b7a8-c54ed1b1cc85' class='xr-var-data-in' type='checkbox'><label for='data-4a7a0f9c-4fcb-410b-b7a8-c54ed1b1cc85' title='Show/Hide data repr'><svg class='icon xr-icon-database'><use xlink:href='#icon-database'></use></svg></label><div class='xr-var-attrs'><dl class='xr-attrs'></dl></div><div class='xr-var-data'><pre>array([  0,   1,   2, ..., 497, 498, 499])</pre></div></li><li class='xr-var-item'><div class='xr-var-name'><span class='xr-has-index'>track</span></div><div class='xr-var-dims'>(track)</div><div class='xr-var-dtype'>int64</div><div class='xr-var-preview xr-preview'>1188 1247 1251 ... 6617 6624 6649</div><input id='attrs-31a90440-fa5d-4a67-ac53-62a479abefe4' class='xr-var-attrs-in' type='checkbox' disabled><label for='attrs-31a90440-fa5d-4a67-ac53-62a479abefe4' title='Show/Hide attributes'><svg class='icon xr-icon-file-text2'><use xlink:href='#icon-file-text2'></use></svg></label><input id='data-47498d45-0018-4310-9a6f-88fea23b3a07' class='xr-var-data-in' type='checkbox'><label for='data-47498d45-0018-4310-9a6f-88fea23b3a07' title='Show/Hide data repr'><svg class='icon xr-icon-database'><use xlink:href='#icon-database'></use></svg></label><div class='xr-var-attrs'><dl class='xr-attrs'></dl></div><div class='xr-var-data'><pre>array([1188, 1247, 1251, ..., 6617, 6624, 6649])</pre></div></li><li class='xr-var-item'><div class='xr-var-name'><span class='xr-has-index'>space</span></div><div class='xr-var-dims'>(space)</div><div class='xr-var-dtype'>int64</div><div class='xr-var-preview xr-preview'>0 1 2</div><input id='attrs-f5e34dd3-2442-49ab-b478-43cad493a19d' class='xr-var-attrs-in' type='checkbox' disabled><label for='attrs-f5e34dd3-2442-49ab-b478-43cad493a19d' title='Show/Hide attributes'><svg class='icon xr-icon-file-text2'><use xlink:href='#icon-file-text2'></use></svg></label><input id='data-0103d470-6e0e-4cba-8736-e7d6701af00b' class='xr-var-data-in' type='checkbox'><label for='data-0103d470-6e0e-4cba-8736-e7d6701af00b' title='Show/Hide data repr'><svg class='icon xr-icon-database'><use xlink:href='#icon-database'></use></svg></label><div class='xr-var-attrs'><dl class='xr-attrs'></dl></div><div class='xr-var-data'><pre>array([0, 1, 2])</pre></div></li><li class='xr-var-item'><div class='xr-var-name'><span class='xr-has-index'>displacement</span></div><div class='xr-var-dims'>(displacement)</div><div class='xr-var-dtype'>object</div><div class='xr-var-preview xr-preview'>&#x27;s2t&#x27; &#x27;t2s&#x27;</div><input id='attrs-68956000-5b24-4707-bbfe-3ca9e72a88c4' class='xr-var-attrs-in' type='checkbox' disabled><label for='attrs-68956000-5b24-4707-bbfe-3ca9e72a88c4' title='Show/Hide attributes'><svg class='icon xr-icon-file-text2'><use xlink:href='#icon-file-text2'></use></svg></label><input id='data-d40a763a-8682-4ada-b6d4-e05e5a9e4f48' class='xr-var-data-in' type='checkbox'><label for='data-d40a763a-8682-4ada-b6d4-e05e5a9e4f48' title='Show/Hide data repr'><svg class='icon xr-icon-database'><use xlink:href='#icon-database'></use></svg></label><div class='xr-var-attrs'><dl class='xr-attrs'></dl></div><div class='xr-var-data'><pre>array([&#x27;s2t&#x27;, &#x27;t2s&#x27;], dtype=object)</pre></div></li></ul></div></li><li class='xr-section-item'><input id='section-4f6b00bc-b811-4ffd-ac64-5da0d6012ab8' class='xr-section-summary-in' type='checkbox'  checked><label for='section-4f6b00bc-b811-4ffd-ac64-5da0d6012ab8' class='xr-section-summary' >Data variables: <span>(12)</span></label><div class='xr-section-inline-details'></div><div class='xr-section-details'><ul class='xr-var-list'><li class='xr-var-item'><div class='xr-var-name'><span>Kernel_counts</span></div><div class='xr-var-dims'>(track, time)</div><div class='xr-var-dtype'>float64</div><div class='xr-var-preview xr-preview'>285.0 288.0 303.0 ... 0.0 0.0 0.0</div><input id='attrs-6be2051c-89a9-4ddc-af72-7e6ee9dab113' class='xr-var-attrs-in' type='checkbox' disabled><label for='attrs-6be2051c-89a9-4ddc-af72-7e6ee9dab113' title='Show/Hide attributes'><svg class='icon xr-icon-file-text2'><use xlink:href='#icon-file-text2'></use></svg></label><input id='data-3e48a95e-8bd8-4065-b8ed-ca7dd67491a0' class='xr-var-data-in' type='checkbox'><label for='data-3e48a95e-8bd8-4065-b8ed-ca7dd67491a0' title='Show/Hide data repr'><svg class='icon xr-icon-database'><use xlink:href='#icon-database'></use></svg></label><div class='xr-var-attrs'><dl class='xr-attrs'></dl></div><div class='xr-var-data'><pre>array([[285., 288., 303., ...,   0.,   0.,   0.],\n",
       "       [348., 423., 459., ...,   0.,   0.,   0.],\n",
       "       [378., 444., 507., ...,   0.,   0.,   0.],\n",
       "       ...,\n",
       "       [273., 300., 291., ...,   0.,   0.,   0.],\n",
       "       [258., 279., 300., ...,   0.,   0.,   0.],\n",
       "       [132., 132., 129., ...,   0.,   0.,   0.]])</pre></div></li><li class='xr-var-item'><div class='xr-var-name'><span>Gray_loc</span></div><div class='xr-var-dims'>(track, time)</div><div class='xr-var-dtype'>bool</div><div class='xr-var-preview xr-preview'>True True True ... False False</div><input id='attrs-0ecf4892-ad92-4e51-ab34-c0ff782de03d' class='xr-var-attrs-in' type='checkbox' disabled><label for='attrs-0ecf4892-ad92-4e51-ab34-c0ff782de03d' title='Show/Hide attributes'><svg class='icon xr-icon-file-text2'><use xlink:href='#icon-file-text2'></use></svg></label><input id='data-05c98fba-718c-4429-9c69-1549b9c4f3d3' class='xr-var-data-in' type='checkbox'><label for='data-05c98fba-718c-4429-9c69-1549b9c4f3d3' title='Show/Hide data repr'><svg class='icon xr-icon-database'><use xlink:href='#icon-database'></use></svg></label><div class='xr-var-attrs'><dl class='xr-attrs'></dl></div><div class='xr-var-data'><pre>array([[ True,  True,  True, ..., False, False, False],\n",
       "       [ True,  True,  True, ..., False, False, False],\n",
       "       [ True,  True,  True, ..., False, False, False],\n",
       "       ...,\n",
       "       [ True,  True,  True, ..., False, False, False],\n",
       "       [ True,  True,  True, ..., False, False, False],\n",
       "       [False, False, False, ..., False, False, False]])</pre></div></li><li class='xr-var-item'><div class='xr-var-name'><span>Gray_counts</span></div><div class='xr-var-dims'>(track, time)</div><div class='xr-var-dtype'>float64</div><div class='xr-var-preview xr-preview'>285.0 288.0 303.0 ... 0.0 0.0 0.0</div><input id='attrs-c5419466-b71b-44e7-9379-d1401fbf61ab' class='xr-var-attrs-in' type='checkbox' disabled><label for='attrs-c5419466-b71b-44e7-9379-d1401fbf61ab' title='Show/Hide attributes'><svg class='icon xr-icon-file-text2'><use xlink:href='#icon-file-text2'></use></svg></label><input id='data-32fa7ec5-bab9-48f0-b9aa-b3e82f81bde9' class='xr-var-data-in' type='checkbox'><label for='data-32fa7ec5-bab9-48f0-b9aa-b3e82f81bde9' title='Show/Hide data repr'><svg class='icon xr-icon-database'><use xlink:href='#icon-database'></use></svg></label><div class='xr-var-attrs'><dl class='xr-attrs'></dl></div><div class='xr-var-data'><pre>array([[285., 288., 303., ...,   0.,   0.,   0.],\n",
       "       [348., 423., 459., ...,   0.,   0.,   0.],\n",
       "       [378., 444., 507., ...,   0.,   0.,   0.],\n",
       "       ...,\n",
       "       [273., 300., 291., ...,   0.,   0.,   0.],\n",
       "       [258., 279., 300., ...,   0.,   0.,   0.],\n",
       "       [  0.,   0.,   0., ...,   0.,   0.,   0.]])</pre></div></li><li class='xr-var-item'><div class='xr-var-name'><span>Position</span></div><div class='xr-var-dims'>(track, time, space)</div><div class='xr-var-dtype'>float64</div><div class='xr-var-preview xr-preview'>280.7 312.5 95.15 ... nan nan nan</div><input id='attrs-60c8dbb2-ae43-4280-824c-ea0615edda8a' class='xr-var-attrs-in' type='checkbox' disabled><label for='attrs-60c8dbb2-ae43-4280-824c-ea0615edda8a' title='Show/Hide attributes'><svg class='icon xr-icon-file-text2'><use xlink:href='#icon-file-text2'></use></svg></label><input id='data-83f3cb18-5c5d-4c93-8a94-2c4f33ec2833' class='xr-var-data-in' type='checkbox'><label for='data-83f3cb18-5c5d-4c93-8a94-2c4f33ec2833' title='Show/Hide data repr'><svg class='icon xr-icon-database'><use xlink:href='#icon-database'></use></svg></label><div class='xr-var-attrs'><dl class='xr-attrs'></dl></div><div class='xr-var-data'><pre>array([[[280.70616622, 312.49955317,  95.14530384],\n",
       "        [279.93732676, 312.93174409,  95.13755344],\n",
       "        [279.16944712, 313.36719024,  95.13815282],\n",
       "        ...,\n",
       "        [  0.        ,   0.        ,   0.        ],\n",
       "        [  0.        ,   0.        ,   0.        ],\n",
       "        [  0.        ,   0.        ,   0.        ]],\n",
       "\n",
       "       [[285.63226288, 302.77932039,  79.95024272],\n",
       "        [284.83805335, 303.19953367,  79.9643459 ],\n",
       "        [284.04467518, 303.62209424,  79.9829423 ],\n",
       "        ...,\n",
       "        [         nan,          nan,          nan],\n",
       "        [         nan,          nan,          nan],\n",
       "        [         nan,          nan,          nan]],\n",
       "\n",
       "       [[285.32854877, 304.42329897,  86.36386598],\n",
       "        [284.54093197, 304.8411462 ,  86.34721437],\n",
       "        [283.75429809, 305.26196716,  86.3370059 ],\n",
       "        ...,\n",
       "...\n",
       "        ...,\n",
       "        [         nan,          nan,          nan],\n",
       "        [         nan,          nan,          nan],\n",
       "        [         nan,          nan,          nan]],\n",
       "\n",
       "       [[ 98.42569361,  62.06465018, 412.15308203],\n",
       "        [ 98.12135826,  62.84744333, 412.49648435],\n",
       "        [ 97.82352607,  63.63633329, 412.84034916],\n",
       "        ...,\n",
       "        [  0.        ,   0.        ,   0.        ],\n",
       "        [  0.        ,   0.        ,   0.        ],\n",
       "        [  0.        ,   0.        ,   0.        ]],\n",
       "\n",
       "       [[140.93358586,  27.47163721, 326.53012626],\n",
       "        [139.69433335,  27.61478711, 326.93765007],\n",
       "        [138.47054528,  27.76969771, 327.34070355],\n",
       "        ...,\n",
       "        [         nan,          nan,          nan],\n",
       "        [         nan,          nan,          nan],\n",
       "        [         nan,          nan,          nan]]])</pre></div></li><li class='xr-var-item'><div class='xr-var-name'><span>Flow</span></div><div class='xr-var-dims'>(track, time, space)</div><div class='xr-var-dtype'>float64</div><div class='xr-var-preview xr-preview'>-0.8726 0.4883 -0.01358 ... nan nan</div><input id='attrs-6cb19429-40ca-42f8-b409-bd7e572de7b1' class='xr-var-attrs-in' type='checkbox' disabled><label for='attrs-6cb19429-40ca-42f8-b409-bd7e572de7b1' title='Show/Hide attributes'><svg class='icon xr-icon-file-text2'><use xlink:href='#icon-file-text2'></use></svg></label><input id='data-a82d9bfc-873f-4c5c-8e69-5f162ddfadd7' class='xr-var-data-in' type='checkbox'><label for='data-a82d9bfc-873f-4c5c-8e69-5f162ddfadd7' title='Show/Hide data repr'><svg class='icon xr-icon-database'><use xlink:href='#icon-database'></use></svg></label><div class='xr-var-attrs'><dl class='xr-attrs'></dl></div><div class='xr-var-data'><pre>array([[[-0.87256772,  0.48830443, -0.01357763],\n",
       "        [-0.87077538,  0.49166454, -0.00402636],\n",
       "        [-0.86895087,  0.49486938,  0.005355  ],\n",
       "        ...,\n",
       "        [        nan,         nan,         nan],\n",
       "        [        nan,         nan,         nan],\n",
       "        [        nan,         nan,         nan]],\n",
       "\n",
       "       [[-0.88448115,  0.46638944,  0.01319041],\n",
       "        [-0.88310797,  0.46881695,  0.01819283],\n",
       "        [-0.88175122,  0.47114535,  0.02317001],\n",
       "        ...,\n",
       "        [        nan,         nan,         nan],\n",
       "        [        nan,         nan,         nan],\n",
       "        [        nan,         nan,         nan]],\n",
       "\n",
       "       [[-0.8839898 ,  0.46697298, -0.02232168],\n",
       "        [-0.88246135,  0.47014437, -0.01504145],\n",
       "        [-0.88092835,  0.4731844 , -0.00785948],\n",
       "        ...,\n",
       "...\n",
       "        ...,\n",
       "        [        nan,         nan,         nan],\n",
       "        [        nan,         nan,         nan],\n",
       "        [        nan,         nan,         nan]],\n",
       "\n",
       "       [[-0.33963376,  0.86086524,  0.37889306],\n",
       "        [-0.33120548,  0.86452139,  0.37802869],\n",
       "        [-0.32292712,  0.8680198 ,  0.37717332],\n",
       "        ...,\n",
       "        [        nan,         nan,         nan],\n",
       "        [        nan,         nan,         nan],\n",
       "        [        nan,         nan,         nan]],\n",
       "\n",
       "       [[-0.94487506,  0.10396581,  0.31048708],\n",
       "        [-0.94366738,  0.11422034,  0.31055691],\n",
       "        [-0.94234465,  0.12455067,  0.31060213],\n",
       "        ...,\n",
       "        [        nan,         nan,         nan],\n",
       "        [        nan,         nan,         nan],\n",
       "        [        nan,         nan,         nan]]])</pre></div></li><li class='xr-var-item'><div class='xr-var-name'><span>Seeds</span></div><div class='xr-var-dims'>(track, space)</div><div class='xr-var-dtype'>float64</div><div class='xr-var-preview xr-preview'>280.7 312.5 95.15 ... 27.47 326.5</div><input id='attrs-01a58f28-a3c3-4452-a94f-b1c19dbfa1e5' class='xr-var-attrs-in' type='checkbox' disabled><label for='attrs-01a58f28-a3c3-4452-a94f-b1c19dbfa1e5' title='Show/Hide attributes'><svg class='icon xr-icon-file-text2'><use xlink:href='#icon-file-text2'></use></svg></label><input id='data-78494555-bb6a-4871-9a38-24a03dd7f5ac' class='xr-var-data-in' type='checkbox'><label for='data-78494555-bb6a-4871-9a38-24a03dd7f5ac' title='Show/Hide data repr'><svg class='icon xr-icon-database'><use xlink:href='#icon-database'></use></svg></label><div class='xr-var-attrs'><dl class='xr-attrs'></dl></div><div class='xr-var-data'><pre>array([[280.70616622, 312.49955317,  95.14530384],\n",
       "       [285.63226288, 302.77932039,  79.95024272],\n",
       "       [285.32854877, 304.42329897,  86.36386598],\n",
       "       ...,\n",
       "       [ 94.64570662,  60.25290698, 403.74447674],\n",
       "       [ 98.42569361,  62.06465018, 412.15308203],\n",
       "       [140.93358586,  27.47163721, 326.53012626]])</pre></div></li><li class='xr-var-item'><div class='xr-var-name'><span>Standard</span></div><div class='xr-var-dims'>(track, time)</div><div class='xr-var-dtype'>float64</div><div class='xr-var-preview xr-preview'>360.0 414.0 447.0 ... 0.0 0.0 0.0</div><input id='attrs-6ad9fdd5-a126-48ef-9741-610369c5c3e1' class='xr-var-attrs-in' type='checkbox' ><label for='attrs-6ad9fdd5-a126-48ef-9741-610369c5c3e1' title='Show/Hide attributes'><svg class='icon xr-icon-file-text2'><use xlink:href='#icon-file-text2'></use></svg></label><input id='data-73c932f7-0742-4655-bcfe-7450d95a2481' class='xr-var-data-in' type='checkbox'><label for='data-73c932f7-0742-4655-bcfe-7450d95a2481' title='Show/Hide data repr'><svg class='icon xr-icon-database'><use xlink:href='#icon-database'></use></svg></label><div class='xr-var-attrs'><dl class='xr-attrs'><dt><span>standard_seed :</span></dt><dd>3713</dd></dl></div><div class='xr-var-data'><pre>array([[360., 414., 447., ...,   0.,   0.,   0.],\n",
       "       [360., 414., 447., ...,   0.,   0.,   0.],\n",
       "       [360., 414., 447., ...,   0.,   0.,   0.],\n",
       "       ...,\n",
       "       [360., 414., 447., ...,   0.,   0.,   0.],\n",
       "       [360., 414., 447., ...,   0.,   0.,   0.],\n",
       "       [360., 414., 447., ...,   0.,   0.,   0.]])</pre></div></li><li class='xr-var-item'><div class='xr-var-name'><span>Linear_arg</span></div><div class='xr-var-dims'>(displacement, track, time)</div><div class='xr-var-dtype'>float64</div><div class='xr-var-preview xr-preview'>0.0 1.199 2.398 ... 298.9 299.4</div><input id='attrs-dde028e3-20c1-4c77-82fc-5e65d6c4e55d' class='xr-var-attrs-in' type='checkbox' disabled><label for='attrs-dde028e3-20c1-4c77-82fc-5e65d6c4e55d' title='Show/Hide attributes'><svg class='icon xr-icon-file-text2'><use xlink:href='#icon-file-text2'></use></svg></label><input id='data-1edc5a52-2e5c-4bf1-b427-ff6ebb688917' class='xr-var-data-in' type='checkbox'><label for='data-1edc5a52-2e5c-4bf1-b427-ff6ebb688917' title='Show/Hide data repr'><svg class='icon xr-icon-database'><use xlink:href='#icon-database'></use></svg></label><div class='xr-var-attrs'><dl class='xr-attrs'></dl></div><div class='xr-var-data'><pre>array([[[  0.        ,   1.19905213,   2.39810427, ..., 499.        ,\n",
       "         499.        , 499.        ],\n",
       "        [  0.        ,   1.12946429,   2.25892857, ..., 499.        ,\n",
       "         499.        , 499.        ],\n",
       "        [  0.        ,   1.13963964,   2.27927928, ..., 499.        ,\n",
       "         499.        , 499.        ],\n",
       "        ...,\n",
       "        [  0.        ,   1.39010989,   2.78021978, ..., 499.        ,\n",
       "         499.        , 499.        ],\n",
       "        [  0.        ,   1.49704142,   2.99408284, ..., 499.        ,\n",
       "         499.        , 499.        ],\n",
       "        [  0.        ,   0.        ,   0.        , ..., 499.        ,\n",
       "         499.        , 499.        ]],\n",
       "\n",
       "       [[  0.        ,   0.83399209,   1.66798419, ..., 414.49407115,\n",
       "         415.32806324, 416.16205534],\n",
       "        [  0.        ,   0.88537549,   1.77075099, ..., 440.03162055,\n",
       "         440.91699605, 441.80237154],\n",
       "        [  0.        ,   0.87747036,   1.75494071, ..., 436.1027668 ,\n",
       "         436.98023715, 437.85770751],\n",
       "        ...,\n",
       "        [  0.        ,   0.71936759,   1.43873518, ..., 357.5256917 ,\n",
       "         358.24505929, 358.96442688],\n",
       "        [  0.        ,   0.66798419,   1.33596838, ..., 331.98814229,\n",
       "         332.65612648, 333.32411067],\n",
       "        [ 43.        ,  43.51383399,  44.02766798, ..., 298.37549407,\n",
       "         298.88932806, 299.40316206]]])</pre></div></li><li class='xr-var-item'><div class='xr-var-name'><span>Linear_displacement</span></div><div class='xr-var-dims'>(displacement, track, time)</div><div class='xr-var-dtype'>float64</div><div class='xr-var-preview xr-preview'>360.0 414.0 447.0 ... 0.0 0.0 0.0</div><input id='attrs-74d7e75f-5351-414c-9da6-64f9cdd76193' class='xr-var-attrs-in' type='checkbox' disabled><label for='attrs-74d7e75f-5351-414c-9da6-64f9cdd76193' title='Show/Hide attributes'><svg class='icon xr-icon-file-text2'><use xlink:href='#icon-file-text2'></use></svg></label><input id='data-937d70db-55ec-4787-9fc7-84b4b8175a08' class='xr-var-data-in' type='checkbox'><label for='data-937d70db-55ec-4787-9fc7-84b4b8175a08' title='Show/Hide data repr'><svg class='icon xr-icon-database'><use xlink:href='#icon-database'></use></svg></label><div class='xr-var-attrs'><dl class='xr-attrs'></dl></div><div class='xr-var-data'><pre>array([[[360., 414., 447., ...,   0.,   0.,   0.],\n",
       "        [360., 414., 447., ...,   0.,   0.,   0.],\n",
       "        [360., 414., 447., ...,   0.,   0.,   0.],\n",
       "        ...,\n",
       "        [360., 414., 447., ...,   0.,   0.,   0.],\n",
       "        [360., 414., 447., ...,   0.,   0.,   0.],\n",
       "        [360., 360., 360., ...,   0.,   0.,   0.]],\n",
       "\n",
       "       [[285., 285., 288., ...,   0.,   0.,   0.],\n",
       "        [348., 348., 423., ...,   0.,   0.,   0.],\n",
       "        [378., 378., 444., ...,   0.,   0.,   0.],\n",
       "        ...,\n",
       "        [273., 273., 300., ...,   0.,   0.,   0.],\n",
       "        [258., 258., 279., ...,   0.,   0.,   0.],\n",
       "        [  3.,   3.,   9., ...,   0.,   0.,   0.]]])</pre></div></li><li class='xr-var-item'><div class='xr-var-name'><span>Nonlinear_arg</span></div><div class='xr-var-dims'>(displacement, track, time)</div><div class='xr-var-dtype'>float64</div><div class='xr-var-preview xr-preview'>35.0 36.0 37.0 ... 498.0 499.0</div><input id='attrs-61a1cb5e-e601-4107-9fd8-6c628721c917' class='xr-var-attrs-in' type='checkbox' disabled><label for='attrs-61a1cb5e-e601-4107-9fd8-6c628721c917' title='Show/Hide attributes'><svg class='icon xr-icon-file-text2'><use xlink:href='#icon-file-text2'></use></svg></label><input id='data-0dfeaf30-425f-417d-80f2-8e8d7216d69f' class='xr-var-data-in' type='checkbox'><label for='data-0dfeaf30-425f-417d-80f2-8e8d7216d69f' title='Show/Hide data repr'><svg class='icon xr-icon-database'><use xlink:href='#icon-database'></use></svg></label><div class='xr-var-attrs'><dl class='xr-attrs'></dl></div><div class='xr-var-data'><pre>array([[[ 35.  ,  36.  ,  37.  , ..., 497.  , 498.  , 499.  ],\n",
       "        [ 31.  ,  32.  ,  33.  , ..., 497.  , 498.  , 499.  ],\n",
       "        [ 31.  ,  32.  ,  33.  , ..., 497.  , 498.  , 499.  ],\n",
       "        ...,\n",
       "        [ 21.  ,  22.  ,  23.  , ..., 497.  , 498.  , 499.  ],\n",
       "        [ 31.  ,  32.  ,  33.  , ..., 497.  , 498.  , 499.  ],\n",
       "        [  0.  ,   0.  ,   0.  , ..., 497.  , 498.  , 499.  ]],\n",
       "\n",
       "       [[  0.  ,   0.  ,   0.  , ..., 497.  , 498.  , 499.  ],\n",
       "        [  0.  ,   0.  ,   0.  , ..., 497.  , 498.  , 499.  ],\n",
       "        [  0.  ,   0.  ,   0.  , ..., 497.  , 498.  , 499.  ],\n",
       "        ...,\n",
       "        [  0.  ,   0.  ,   0.  , ..., 497.  , 498.  , 499.  ],\n",
       "        [  0.  ,   0.  ,   0.  , ..., 497.  , 498.  , 499.  ],\n",
       "        [ 14.  ,  15.25,  16.5 , ..., 497.  , 498.  , 499.  ]]])</pre></div></li><li class='xr-var-item'><div class='xr-var-name'><span>Total_arg</span></div><div class='xr-var-dims'>(displacement, track, time)</div><div class='xr-var-dtype'>float64</div><div class='xr-var-preview xr-preview'>41.97 43.17 44.36 ... 298.9 299.4</div><input id='attrs-c89fa338-c436-4f85-ad1b-0db16eb20db4' class='xr-var-attrs-in' type='checkbox' disabled><label for='attrs-c89fa338-c436-4f85-ad1b-0db16eb20db4' title='Show/Hide attributes'><svg class='icon xr-icon-file-text2'><use xlink:href='#icon-file-text2'></use></svg></label><input id='data-6542395d-1b34-4a2b-8c14-5a216d45a742' class='xr-var-data-in' type='checkbox'><label for='data-6542395d-1b34-4a2b-8c14-5a216d45a742' title='Show/Hide data repr'><svg class='icon xr-icon-database'><use xlink:href='#icon-database'></use></svg></label><div class='xr-var-attrs'><dl class='xr-attrs'></dl></div><div class='xr-var-data'><pre>array([[[ 41.96682464,  43.16587678,  44.36492891, ..., 499.        ,\n",
       "         499.        , 499.        ],\n",
       "        [ 35.01339286,  36.14285714,  37.27232143, ..., 499.        ,\n",
       "         499.        , 499.        ],\n",
       "        [ 35.32882883,  36.46846847,  37.60810811, ..., 499.        ,\n",
       "         499.        , 499.        ],\n",
       "        ...,\n",
       "        [ 29.19230769,  30.58241758,  31.97252747, ..., 499.        ,\n",
       "         499.        , 499.        ],\n",
       "        [ 46.40828402,  47.90532544,  49.40236686, ..., 499.        ,\n",
       "         499.        , 499.        ],\n",
       "        [  0.        ,   0.        ,   0.        , ..., 499.        ,\n",
       "         499.        , 499.        ]],\n",
       "\n",
       "       [[  0.        ,   0.        ,   0.        , ..., 414.49407115,\n",
       "         415.32806324, 416.16205534],\n",
       "        [  0.        ,   0.        ,   0.        , ..., 440.03162055,\n",
       "         440.91699605, 441.80237154],\n",
       "        [  0.        ,   0.        ,   0.        , ..., 436.1027668 ,\n",
       "         436.98023715, 437.85770751],\n",
       "        ...,\n",
       "        [  0.        ,   0.        ,   0.        , ..., 357.5256917 ,\n",
       "         358.24505929, 358.96442688],\n",
       "        [  0.        ,   0.        ,   0.        , ..., 331.98814229,\n",
       "         332.65612648, 333.32411067],\n",
       "        [ 50.19367589,  50.70750988,  51.22134387, ..., 298.37549407,\n",
       "         298.88932806, 299.40316206]]])</pre></div></li><li class='xr-var-item'><div class='xr-var-name'><span>Total_displacement</span></div><div class='xr-var-dims'>(displacement, track, time)</div><div class='xr-var-dtype'>float64</div><div class='xr-var-preview xr-preview'>564.0 519.0 561.0 ... 0.0 0.0 0.0</div><input id='attrs-cd6f6524-64b9-48d0-9df5-ff238d76475a' class='xr-var-attrs-in' type='checkbox' disabled><label for='attrs-cd6f6524-64b9-48d0-9df5-ff238d76475a' title='Show/Hide attributes'><svg class='icon xr-icon-file-text2'><use xlink:href='#icon-file-text2'></use></svg></label><input id='data-097412a1-669a-4d2c-a309-94fac4b08f8a' class='xr-var-data-in' type='checkbox'><label for='data-097412a1-669a-4d2c-a309-94fac4b08f8a' title='Show/Hide data repr'><svg class='icon xr-icon-database'><use xlink:href='#icon-database'></use></svg></label><div class='xr-var-attrs'><dl class='xr-attrs'></dl></div><div class='xr-var-data'><pre>array([[[564., 519., 561., ...,   0.,   0.,   0.],\n",
       "        [411., 435., 480., ...,   0.,   0.,   0.],\n",
       "        [411., 435., 480., ...,   0.,   0.,   0.],\n",
       "        ...,\n",
       "        [420., 438., 441., ...,   0.,   0.,   0.],\n",
       "        [600., 699., 792., ...,   0.,   0.,   0.],\n",
       "        [360., 360., 360., ...,   0.,   0.,   0.]],\n",
       "\n",
       "       [[285., 285., 285., ...,   0.,   0.,   0.],\n",
       "        [348., 348., 348., ...,   0.,   0.,   0.],\n",
       "        [378., 378., 378., ...,   0.,   0.,   0.],\n",
       "        ...,\n",
       "        [273., 273., 273., ...,   0.,   0.,   0.],\n",
       "        [258., 258., 258., ...,   0.,   0.,   0.],\n",
       "        [318., 318., 402., ...,   0.,   0.,   0.]]])</pre></div></li></ul></div></li><li class='xr-section-item'><input id='section-8ddc53b4-47c5-4fec-ae9c-c338af667733' class='xr-section-summary-in' type='checkbox' disabled ><label for='section-8ddc53b4-47c5-4fec-ae9c-c338af667733' class='xr-section-summary'  title='Expand/collapse section'>Attributes: <span>(0)</span></label><div class='xr-section-inline-details'></div><div class='xr-section-details'><dl class='xr-attrs'></dl></div></li></ul></div></div>"
      ],
      "text/plain": [
       "<xarray.Dataset>\n",
       "Dimensions:              (time: 500, track: 1724, space: 3, displacement: 2)\n",
       "Coordinates:\n",
       "  * time                 (time) int64 0 1 2 3 4 5 6 ... 494 495 496 497 498 499\n",
       "  * track                (track) int64 1188 1247 1251 1271 ... 6617 6624 6649\n",
       "  * space                (space) int64 0 1 2\n",
       "  * displacement         (displacement) object 's2t' 't2s'\n",
       "Data variables:\n",
       "    Kernel_counts        (track, time) float64 285.0 288.0 303.0 ... 0.0 0.0 0.0\n",
       "    Gray_loc             (track, time) bool True True True ... False False False\n",
       "    Gray_counts          (track, time) float64 285.0 288.0 303.0 ... 0.0 0.0 0.0\n",
       "    Position             (track, time, space) float64 280.7 312.5 ... nan nan\n",
       "    Flow                 (track, time, space) float64 -0.8726 0.4883 ... nan nan\n",
       "    Seeds                (track, space) float64 280.7 312.5 ... 27.47 326.5\n",
       "    Standard             (track, time) float64 360.0 414.0 447.0 ... 0.0 0.0 0.0\n",
       "    Linear_arg           (displacement, track, time) float64 0.0 1.199 ... 299.4\n",
       "    Linear_displacement  (displacement, track, time) float64 360.0 414.0 ... 0.0\n",
       "    Nonlinear_arg        (displacement, track, time) float64 35.0 36.0 ... 499.0\n",
       "    Total_arg            (displacement, track, time) float64 41.97 ... 299.4\n",
       "    Total_displacement   (displacement, track, time) float64 564.0 519.0 ... 0.0"
      ]
     },
     "execution_count": 761,
     "metadata": {},
     "output_type": "execute_result"
    }
   ],
   "source": [
    "track_ds"
   ]
  },
  {
   "cell_type": "code",
   "execution_count": 764,
   "id": "f0e3106f-fd4c-4528-b67d-94386a3982fe",
   "metadata": {},
   "outputs": [
    {
     "data": {
      "text/plain": [
       "<Image layer 'Image [3]' at 0x7f05f50967f0>"
      ]
     },
     "execution_count": 764,
     "metadata": {},
     "output_type": "execute_result"
    }
   ],
   "source": [
    "viewer = napari.Viewer()\n",
    "viewer.add_image(track_ds.Gray_counts,colormap='green',blending='additive',visible=False)\n",
    "viewer.add_image(track_ds.Standard,colormap='green',blending='additive')\n",
    "viewer.add_image(track_ds.Total_displacement.sel(displacement='t2s'),colormap='magenta',blending='additive')\n",
    "viewer.add_image(track_ds.Total_displacement.sel(displacement='s2t'),colormap='magenta',blending='additive',visible=False)"
   ]
  },
  {
   "cell_type": "markdown",
   "id": "49730d2e-2b9c-4e39-abc3-c3f9a433cd91",
   "metadata": {},
   "source": [
    "## Next to do\n",
    "### local flux map. stretch map. quality metrics."
   ]
  },
  {
   "cell_type": "code",
   "execution_count": 788,
   "id": "12b17049-c251-4a3b-a585-c5a8caf82cec",
   "metadata": {},
   "outputs": [],
   "source": [
    "def visualize_in_original_space(arr_pos, arr_val,shape=None):\n",
    "    \"\"\"\n",
    "    Arguments\n",
    "        arr_pos (xarray): the positional array. 2/3xNxM. space axis can be specified\n",
    "        arr_val (xarray): the value array with shared coordinates with position\n",
    "    Return:\n",
    "        ndarray: the image filled with the value of arr_val in the position indicated in arr_pos\n",
    "    \"\"\"\n",
    "    positions = arr_pos.copy()\n",
    "    positions = positions.fillna(-1)\n",
    "    positions = positions.stack(pos=['time', 'track'])\n",
    "    shape_axis = positions.dims.index('space')\n",
    "    \n",
    "    values = arr_val.copy()\n",
    "    values = values.stack(pos=['time', 'track'])\n",
    "    \n",
    "    if shape is not None:\n",
    "        img = np.zeros(shape,dtype=arr_val.dtype)\n",
    "    else:\n",
    "        shape = np.ceil(positions.data.max(1-shape_axis)).astype(int)\n",
    "        img = np.zeros(shape,dtype=arr_val.dtype)\n",
    "    \n",
    "    if shape_axis == 1:\n",
    "        positions = positions.T\n",
    "    \n",
    "    # clipping\n",
    "    positions = positions.data\n",
    "    positions[positions<=0] = 0\n",
    "    for i, m in enumerate(shape):\n",
    "        positions[i,positions[i,:]>=m-1] = m-1\n",
    "    positions = positions.astype(int)\n",
    "    \n",
    "    img[tuple(positions)] = values.data\n",
    "    \n",
    "    return img"
   ]
  },
  {
   "cell_type": "code",
   "execution_count": 793,
   "id": "ad7a6982-7371-42f2-aae1-624e1abda09f",
   "metadata": {},
   "outputs": [
    {
     "data": {
      "text/plain": [
       "<Image layer 'nuclei' at 0x7f05e5b86a90>"
      ]
     },
     "execution_count": 793,
     "metadata": {},
     "output_type": "execute_result"
    }
   ],
   "source": [
    "img = visualize_in_original_space(track_ds.Position, track_ds.Total_arg.sel(displacement='s2t'), vessel_downscale.shape)\n",
    "\n",
    "viewer = napari.Viewer()\n",
    "viewer.add_image(img,colormap='turbo',blending='additive')\n",
    "viewer.add_image(nuclei,colormap='gray',blending='additive')"
   ]
  },
  {
   "cell_type": "code",
   "execution_count": 855,
   "id": "bc05e8a7-faf0-4cd3-8402-bb5177bed722",
   "metadata": {},
   "outputs": [],
   "source": [
    "def position2distance(positions):\n",
    "    \"\"\"\n",
    "    positions: 2d array. Nx3.\n",
    "    \"\"\"\n",
    "    diff = np.diff(positions,axis=0,prepend=0) # prepend to make the size consistent\n",
    "    dist = np.linalg.norm(diff,2,axis=1)\n",
    "    dist[0] = 0\n",
    "    return dist"
   ]
  },
  {
   "cell_type": "code",
   "execution_count": 866,
   "id": "f464aaf6-2a5e-4b93-9edb-b5bca3567733",
   "metadata": {},
   "outputs": [],
   "source": [
    "def position2distance_xr(arr):\n",
    "    \"\"\"\n",
    "    arr (xarray)\n",
    "    \"\"\"\n",
    "    dist = []\n",
    "    dist_xr = arr.copy().isel(space=0).drop_vars('space')\n",
    "    for i in arr.track.data:\n",
    "        dist.append(position2distance(arr.sel(track=i)))\n",
    "    \n",
    "    dist_xr[:] = np.stack(dist)\n",
    "    return dist_xr"
   ]
  },
  {
   "cell_type": "code",
   "execution_count": 870,
   "id": "49fbd538-f2ae-490b-a9cf-31243da99433",
   "metadata": {},
   "outputs": [],
   "source": [
    "dist_xr = position2distance_xr(track_ds.Position)"
   ]
  },
  {
   "cell_type": "code",
   "execution_count": 920,
   "id": "11a4f1f1-e11f-4349-99a7-e4f762b0cdca",
   "metadata": {},
   "outputs": [],
   "source": [
    "def map2standardspace_1d(coordinate, standard_coord_val):\n",
    "    \"\"\"\n",
    "    coordinate (1d array):\n",
    "    standard_coord_val (1d array):\n",
    "    \"\"\"\n",
    "    f = interpolate.interp1d(np.arange(standard_coord_val.size),standard_coord_val,fill_value=\"extrapolate\",kind='linear')\n",
    "    return f(coordinate)"
   ]
  },
  {
   "cell_type": "code",
   "execution_count": 921,
   "id": "17280f39-775b-4f7f-ac2f-3a539607bb69",
   "metadata": {},
   "outputs": [],
   "source": [
    "def map2standard_vectorspace(coordinate, standard_coord_val):\n",
    "    \"\"\"\n",
    "    coordinate (1d array):\n",
    "    standard_coord_val (2d array):\n",
    "    \"\"\"\n",
    "    return np.apply_along_axis(lambda a: map2standardspace_1d(coordinate, a), 0, standard_coord_val)"
   ]
  },
  {
   "cell_type": "code",
   "execution_count": 940,
   "id": "a214ade8-bc09-4db7-a99b-ba03eb9696e1",
   "metadata": {},
   "outputs": [],
   "source": [
    "def map2standard_vectorspace_xr(coordinate, standard_coord_val):\n",
    "    \"\"\"\n",
    "    coordinate (xarray):\n",
    "    standard_coord_val (xarray):\n",
    "    \"\"\"\n",
    "    vecs = []\n",
    "    \n",
    "    for i in coordinate.track.data:\n",
    "        vecs.append(map2standard_vectorspace(coordinate.sel(track=i), standard_coord_val))\n",
    "    \n",
    "    arr = xr.DataArray(np.stack(vecs),\n",
    "                              coords={'track': coordinate.track,\n",
    "                                      'time': coordinate.time,\n",
    "                                      'space': standard_coord_val.space},\n",
    "                              dims=['track', 'time', 'space']\n",
    "                              )\n",
    "\n",
    "    return arr"
   ]
  },
  {
   "cell_type": "code",
   "execution_count": 943,
   "id": "b5d2592b-bdc6-4a82-bced-fd0029513b05",
   "metadata": {
    "tags": []
   },
   "outputs": [],
   "source": [
    "position_in_standard = map2standard_vectorspace_xr(track_ds.Total_arg.sel(displacement='s2t'),track_ds.Position.sel(track=std_seed))\n",
    "dist_in_standard = position2distance_xr(position_in_standard)"
   ]
  },
  {
   "cell_type": "code",
   "execution_count": 947,
   "id": "7b9912ab-efe3-4867-a2a4-c2b760952ac6",
   "metadata": {},
   "outputs": [
    {
     "data": {
      "text/html": [
       "<div><svg style=\"position: absolute; width: 0; height: 0; overflow: hidden\">\n",
       "<defs>\n",
       "<symbol id=\"icon-database\" viewBox=\"0 0 32 32\">\n",
       "<path d=\"M16 0c-8.837 0-16 2.239-16 5v4c0 2.761 7.163 5 16 5s16-2.239 16-5v-4c0-2.761-7.163-5-16-5z\"></path>\n",
       "<path d=\"M16 17c-8.837 0-16-2.239-16-5v6c0 2.761 7.163 5 16 5s16-2.239 16-5v-6c0 2.761-7.163 5-16 5z\"></path>\n",
       "<path d=\"M16 26c-8.837 0-16-2.239-16-5v6c0 2.761 7.163 5 16 5s16-2.239 16-5v-6c0 2.761-7.163 5-16 5z\"></path>\n",
       "</symbol>\n",
       "<symbol id=\"icon-file-text2\" viewBox=\"0 0 32 32\">\n",
       "<path d=\"M28.681 7.159c-0.694-0.947-1.662-2.053-2.724-3.116s-2.169-2.030-3.116-2.724c-1.612-1.182-2.393-1.319-2.841-1.319h-15.5c-1.378 0-2.5 1.121-2.5 2.5v27c0 1.378 1.122 2.5 2.5 2.5h23c1.378 0 2.5-1.122 2.5-2.5v-19.5c0-0.448-0.137-1.23-1.319-2.841zM24.543 5.457c0.959 0.959 1.712 1.825 2.268 2.543h-4.811v-4.811c0.718 0.556 1.584 1.309 2.543 2.268zM28 29.5c0 0.271-0.229 0.5-0.5 0.5h-23c-0.271 0-0.5-0.229-0.5-0.5v-27c0-0.271 0.229-0.5 0.5-0.5 0 0 15.499-0 15.5 0v7c0 0.552 0.448 1 1 1h7v19.5z\"></path>\n",
       "<path d=\"M23 26h-14c-0.552 0-1-0.448-1-1s0.448-1 1-1h14c0.552 0 1 0.448 1 1s-0.448 1-1 1z\"></path>\n",
       "<path d=\"M23 22h-14c-0.552 0-1-0.448-1-1s0.448-1 1-1h14c0.552 0 1 0.448 1 1s-0.448 1-1 1z\"></path>\n",
       "<path d=\"M23 18h-14c-0.552 0-1-0.448-1-1s0.448-1 1-1h14c0.552 0 1 0.448 1 1s-0.448 1-1 1z\"></path>\n",
       "</symbol>\n",
       "</defs>\n",
       "</svg>\n",
       "<style>/* CSS stylesheet for displaying xarray objects in jupyterlab.\n",
       " *\n",
       " */\n",
       "\n",
       ":root {\n",
       "  --xr-font-color0: var(--jp-content-font-color0, rgba(0, 0, 0, 1));\n",
       "  --xr-font-color2: var(--jp-content-font-color2, rgba(0, 0, 0, 0.54));\n",
       "  --xr-font-color3: var(--jp-content-font-color3, rgba(0, 0, 0, 0.38));\n",
       "  --xr-border-color: var(--jp-border-color2, #e0e0e0);\n",
       "  --xr-disabled-color: var(--jp-layout-color3, #bdbdbd);\n",
       "  --xr-background-color: var(--jp-layout-color0, white);\n",
       "  --xr-background-color-row-even: var(--jp-layout-color1, white);\n",
       "  --xr-background-color-row-odd: var(--jp-layout-color2, #eeeeee);\n",
       "}\n",
       "\n",
       "html[theme=dark],\n",
       "body[data-theme=dark],\n",
       "body.vscode-dark {\n",
       "  --xr-font-color0: rgba(255, 255, 255, 1);\n",
       "  --xr-font-color2: rgba(255, 255, 255, 0.54);\n",
       "  --xr-font-color3: rgba(255, 255, 255, 0.38);\n",
       "  --xr-border-color: #1F1F1F;\n",
       "  --xr-disabled-color: #515151;\n",
       "  --xr-background-color: #111111;\n",
       "  --xr-background-color-row-even: #111111;\n",
       "  --xr-background-color-row-odd: #313131;\n",
       "}\n",
       "\n",
       ".xr-wrap {\n",
       "  display: block !important;\n",
       "  min-width: 300px;\n",
       "  max-width: 700px;\n",
       "}\n",
       "\n",
       ".xr-text-repr-fallback {\n",
       "  /* fallback to plain text repr when CSS is not injected (untrusted notebook) */\n",
       "  display: none;\n",
       "}\n",
       "\n",
       ".xr-header {\n",
       "  padding-top: 6px;\n",
       "  padding-bottom: 6px;\n",
       "  margin-bottom: 4px;\n",
       "  border-bottom: solid 1px var(--xr-border-color);\n",
       "}\n",
       "\n",
       ".xr-header > div,\n",
       ".xr-header > ul {\n",
       "  display: inline;\n",
       "  margin-top: 0;\n",
       "  margin-bottom: 0;\n",
       "}\n",
       "\n",
       ".xr-obj-type,\n",
       ".xr-array-name {\n",
       "  margin-left: 2px;\n",
       "  margin-right: 10px;\n",
       "}\n",
       "\n",
       ".xr-obj-type {\n",
       "  color: var(--xr-font-color2);\n",
       "}\n",
       "\n",
       ".xr-sections {\n",
       "  padding-left: 0 !important;\n",
       "  display: grid;\n",
       "  grid-template-columns: 150px auto auto 1fr 20px 20px;\n",
       "}\n",
       "\n",
       ".xr-section-item {\n",
       "  display: contents;\n",
       "}\n",
       "\n",
       ".xr-section-item input {\n",
       "  display: none;\n",
       "}\n",
       "\n",
       ".xr-section-item input + label {\n",
       "  color: var(--xr-disabled-color);\n",
       "}\n",
       "\n",
       ".xr-section-item input:enabled + label {\n",
       "  cursor: pointer;\n",
       "  color: var(--xr-font-color2);\n",
       "}\n",
       "\n",
       ".xr-section-item input:enabled + label:hover {\n",
       "  color: var(--xr-font-color0);\n",
       "}\n",
       "\n",
       ".xr-section-summary {\n",
       "  grid-column: 1;\n",
       "  color: var(--xr-font-color2);\n",
       "  font-weight: 500;\n",
       "}\n",
       "\n",
       ".xr-section-summary > span {\n",
       "  display: inline-block;\n",
       "  padding-left: 0.5em;\n",
       "}\n",
       "\n",
       ".xr-section-summary-in:disabled + label {\n",
       "  color: var(--xr-font-color2);\n",
       "}\n",
       "\n",
       ".xr-section-summary-in + label:before {\n",
       "  display: inline-block;\n",
       "  content: '►';\n",
       "  font-size: 11px;\n",
       "  width: 15px;\n",
       "  text-align: center;\n",
       "}\n",
       "\n",
       ".xr-section-summary-in:disabled + label:before {\n",
       "  color: var(--xr-disabled-color);\n",
       "}\n",
       "\n",
       ".xr-section-summary-in:checked + label:before {\n",
       "  content: '▼';\n",
       "}\n",
       "\n",
       ".xr-section-summary-in:checked + label > span {\n",
       "  display: none;\n",
       "}\n",
       "\n",
       ".xr-section-summary,\n",
       ".xr-section-inline-details {\n",
       "  padding-top: 4px;\n",
       "  padding-bottom: 4px;\n",
       "}\n",
       "\n",
       ".xr-section-inline-details {\n",
       "  grid-column: 2 / -1;\n",
       "}\n",
       "\n",
       ".xr-section-details {\n",
       "  display: none;\n",
       "  grid-column: 1 / -1;\n",
       "  margin-bottom: 5px;\n",
       "}\n",
       "\n",
       ".xr-section-summary-in:checked ~ .xr-section-details {\n",
       "  display: contents;\n",
       "}\n",
       "\n",
       ".xr-array-wrap {\n",
       "  grid-column: 1 / -1;\n",
       "  display: grid;\n",
       "  grid-template-columns: 20px auto;\n",
       "}\n",
       "\n",
       ".xr-array-wrap > label {\n",
       "  grid-column: 1;\n",
       "  vertical-align: top;\n",
       "}\n",
       "\n",
       ".xr-preview {\n",
       "  color: var(--xr-font-color3);\n",
       "}\n",
       "\n",
       ".xr-array-preview,\n",
       ".xr-array-data {\n",
       "  padding: 0 5px !important;\n",
       "  grid-column: 2;\n",
       "}\n",
       "\n",
       ".xr-array-data,\n",
       ".xr-array-in:checked ~ .xr-array-preview {\n",
       "  display: none;\n",
       "}\n",
       "\n",
       ".xr-array-in:checked ~ .xr-array-data,\n",
       ".xr-array-preview {\n",
       "  display: inline-block;\n",
       "}\n",
       "\n",
       ".xr-dim-list {\n",
       "  display: inline-block !important;\n",
       "  list-style: none;\n",
       "  padding: 0 !important;\n",
       "  margin: 0;\n",
       "}\n",
       "\n",
       ".xr-dim-list li {\n",
       "  display: inline-block;\n",
       "  padding: 0;\n",
       "  margin: 0;\n",
       "}\n",
       "\n",
       ".xr-dim-list:before {\n",
       "  content: '(';\n",
       "}\n",
       "\n",
       ".xr-dim-list:after {\n",
       "  content: ')';\n",
       "}\n",
       "\n",
       ".xr-dim-list li:not(:last-child):after {\n",
       "  content: ',';\n",
       "  padding-right: 5px;\n",
       "}\n",
       "\n",
       ".xr-has-index {\n",
       "  font-weight: bold;\n",
       "}\n",
       "\n",
       ".xr-var-list,\n",
       ".xr-var-item {\n",
       "  display: contents;\n",
       "}\n",
       "\n",
       ".xr-var-item > div,\n",
       ".xr-var-item label,\n",
       ".xr-var-item > .xr-var-name span {\n",
       "  background-color: var(--xr-background-color-row-even);\n",
       "  margin-bottom: 0;\n",
       "}\n",
       "\n",
       ".xr-var-item > .xr-var-name:hover span {\n",
       "  padding-right: 5px;\n",
       "}\n",
       "\n",
       ".xr-var-list > li:nth-child(odd) > div,\n",
       ".xr-var-list > li:nth-child(odd) > label,\n",
       ".xr-var-list > li:nth-child(odd) > .xr-var-name span {\n",
       "  background-color: var(--xr-background-color-row-odd);\n",
       "}\n",
       "\n",
       ".xr-var-name {\n",
       "  grid-column: 1;\n",
       "}\n",
       "\n",
       ".xr-var-dims {\n",
       "  grid-column: 2;\n",
       "}\n",
       "\n",
       ".xr-var-dtype {\n",
       "  grid-column: 3;\n",
       "  text-align: right;\n",
       "  color: var(--xr-font-color2);\n",
       "}\n",
       "\n",
       ".xr-var-preview {\n",
       "  grid-column: 4;\n",
       "}\n",
       "\n",
       ".xr-var-name,\n",
       ".xr-var-dims,\n",
       ".xr-var-dtype,\n",
       ".xr-preview,\n",
       ".xr-attrs dt {\n",
       "  white-space: nowrap;\n",
       "  overflow: hidden;\n",
       "  text-overflow: ellipsis;\n",
       "  padding-right: 10px;\n",
       "}\n",
       "\n",
       ".xr-var-name:hover,\n",
       ".xr-var-dims:hover,\n",
       ".xr-var-dtype:hover,\n",
       ".xr-attrs dt:hover {\n",
       "  overflow: visible;\n",
       "  width: auto;\n",
       "  z-index: 1;\n",
       "}\n",
       "\n",
       ".xr-var-attrs,\n",
       ".xr-var-data {\n",
       "  display: none;\n",
       "  background-color: var(--xr-background-color) !important;\n",
       "  padding-bottom: 5px !important;\n",
       "}\n",
       "\n",
       ".xr-var-attrs-in:checked ~ .xr-var-attrs,\n",
       ".xr-var-data-in:checked ~ .xr-var-data {\n",
       "  display: block;\n",
       "}\n",
       "\n",
       ".xr-var-data > table {\n",
       "  float: right;\n",
       "}\n",
       "\n",
       ".xr-var-name span,\n",
       ".xr-var-data,\n",
       ".xr-attrs {\n",
       "  padding-left: 25px !important;\n",
       "}\n",
       "\n",
       ".xr-attrs,\n",
       ".xr-var-attrs,\n",
       ".xr-var-data {\n",
       "  grid-column: 1 / -1;\n",
       "}\n",
       "\n",
       "dl.xr-attrs {\n",
       "  padding: 0;\n",
       "  margin: 0;\n",
       "  display: grid;\n",
       "  grid-template-columns: 125px auto;\n",
       "}\n",
       "\n",
       ".xr-attrs dt,\n",
       ".xr-attrs dd {\n",
       "  padding: 0;\n",
       "  margin: 0;\n",
       "  float: left;\n",
       "  padding-right: 10px;\n",
       "  width: auto;\n",
       "}\n",
       "\n",
       ".xr-attrs dt {\n",
       "  font-weight: normal;\n",
       "  grid-column: 1;\n",
       "}\n",
       "\n",
       ".xr-attrs dt:hover span {\n",
       "  display: inline-block;\n",
       "  background: var(--xr-background-color);\n",
       "  padding-right: 10px;\n",
       "}\n",
       "\n",
       ".xr-attrs dd {\n",
       "  grid-column: 2;\n",
       "  white-space: pre-wrap;\n",
       "  word-break: break-all;\n",
       "}\n",
       "\n",
       ".xr-icon-database,\n",
       ".xr-icon-file-text2 {\n",
       "  display: inline-block;\n",
       "  vertical-align: middle;\n",
       "  width: 1em;\n",
       "  height: 1.5em !important;\n",
       "  stroke-width: 0;\n",
       "  stroke: currentColor;\n",
       "  fill: currentColor;\n",
       "}\n",
       "</style><pre class='xr-text-repr-fallback'>&lt;xarray.DataArray (track: 1724, time: 500)&gt;\n",
       "array([[0.        , 1.13157789, 1.13412222, ...,        nan,        nan,\n",
       "               nan],\n",
       "       [0.        , 1.05145437, 1.05366156, ...,        nan,        nan,\n",
       "               nan],\n",
       "       [0.        , 1.06148116, 1.06378226, ...,        nan,        nan,\n",
       "               nan],\n",
       "       ...,\n",
       "       [0.        , 1.28617582, 1.28766772, ...,        nan,        nan,\n",
       "               nan],\n",
       "       [0.        , 1.42449101, 1.42846107, ...,        nan,        nan,\n",
       "               nan],\n",
       "       [0.        , 0.        , 0.        , ...,        nan,        nan,\n",
       "               nan]])\n",
       "Coordinates:\n",
       "  * track    (track) int64 1188 1247 1251 1271 1278 ... 6598 6600 6617 6624 6649\n",
       "  * time     (time) int64 0 1 2 3 4 5 6 7 8 ... 492 493 494 495 496 497 498 499</pre><div class='xr-wrap' style='display:none'><div class='xr-header'><div class='xr-obj-type'>xarray.DataArray</div><div class='xr-array-name'></div><ul class='xr-dim-list'><li><span class='xr-has-index'>track</span>: 1724</li><li><span class='xr-has-index'>time</span>: 500</li></ul></div><ul class='xr-sections'><li class='xr-section-item'><div class='xr-array-wrap'><input id='section-57b4bddb-4b6f-4441-b075-223fd004769b' class='xr-array-in' type='checkbox' checked><label for='section-57b4bddb-4b6f-4441-b075-223fd004769b' title='Show/hide data repr'><svg class='icon xr-icon-database'><use xlink:href='#icon-database'></use></svg></label><div class='xr-array-preview xr-preview'><span>0.0 1.132 1.134 1.137 1.139 1.141 1.144 ... nan nan nan nan nan nan</span></div><div class='xr-array-data'><pre>array([[0.        , 1.13157789, 1.13412222, ...,        nan,        nan,\n",
       "               nan],\n",
       "       [0.        , 1.05145437, 1.05366156, ...,        nan,        nan,\n",
       "               nan],\n",
       "       [0.        , 1.06148116, 1.06378226, ...,        nan,        nan,\n",
       "               nan],\n",
       "       ...,\n",
       "       [0.        , 1.28617582, 1.28766772, ...,        nan,        nan,\n",
       "               nan],\n",
       "       [0.        , 1.42449101, 1.42846107, ...,        nan,        nan,\n",
       "               nan],\n",
       "       [0.        , 0.        , 0.        , ...,        nan,        nan,\n",
       "               nan]])</pre></div></div></li><li class='xr-section-item'><input id='section-75373f42-3ab5-47b6-9639-8af7e45f3676' class='xr-section-summary-in' type='checkbox'  checked><label for='section-75373f42-3ab5-47b6-9639-8af7e45f3676' class='xr-section-summary' >Coordinates: <span>(2)</span></label><div class='xr-section-inline-details'></div><div class='xr-section-details'><ul class='xr-var-list'><li class='xr-var-item'><div class='xr-var-name'><span class='xr-has-index'>track</span></div><div class='xr-var-dims'>(track)</div><div class='xr-var-dtype'>int64</div><div class='xr-var-preview xr-preview'>1188 1247 1251 ... 6617 6624 6649</div><input id='attrs-251678ae-212d-43d6-afdf-b35bc471bd09' class='xr-var-attrs-in' type='checkbox' disabled><label for='attrs-251678ae-212d-43d6-afdf-b35bc471bd09' title='Show/Hide attributes'><svg class='icon xr-icon-file-text2'><use xlink:href='#icon-file-text2'></use></svg></label><input id='data-57ee85da-f912-4e0b-a28a-63ec1e1696e4' class='xr-var-data-in' type='checkbox'><label for='data-57ee85da-f912-4e0b-a28a-63ec1e1696e4' title='Show/Hide data repr'><svg class='icon xr-icon-database'><use xlink:href='#icon-database'></use></svg></label><div class='xr-var-attrs'><dl class='xr-attrs'></dl></div><div class='xr-var-data'><pre>array([1188, 1247, 1251, ..., 6617, 6624, 6649])</pre></div></li><li class='xr-var-item'><div class='xr-var-name'><span class='xr-has-index'>time</span></div><div class='xr-var-dims'>(time)</div><div class='xr-var-dtype'>int64</div><div class='xr-var-preview xr-preview'>0 1 2 3 4 5 ... 495 496 497 498 499</div><input id='attrs-ebb78d94-13bf-4b08-bc63-9762577160d6' class='xr-var-attrs-in' type='checkbox' disabled><label for='attrs-ebb78d94-13bf-4b08-bc63-9762577160d6' title='Show/Hide attributes'><svg class='icon xr-icon-file-text2'><use xlink:href='#icon-file-text2'></use></svg></label><input id='data-8f2c5c3c-eb91-4e45-8fca-74a25d3f42df' class='xr-var-data-in' type='checkbox'><label for='data-8f2c5c3c-eb91-4e45-8fca-74a25d3f42df' title='Show/Hide data repr'><svg class='icon xr-icon-database'><use xlink:href='#icon-database'></use></svg></label><div class='xr-var-attrs'><dl class='xr-attrs'></dl></div><div class='xr-var-data'><pre>array([  0,   1,   2, ..., 497, 498, 499])</pre></div></li></ul></div></li><li class='xr-section-item'><input id='section-f8ccc8a8-e4a7-46b1-b529-5fa79a963b2d' class='xr-section-summary-in' type='checkbox' disabled ><label for='section-f8ccc8a8-e4a7-46b1-b529-5fa79a963b2d' class='xr-section-summary'  title='Expand/collapse section'>Attributes: <span>(0)</span></label><div class='xr-section-inline-details'></div><div class='xr-section-details'><dl class='xr-attrs'></dl></div></li></ul></div></div>"
      ],
      "text/plain": [
       "<xarray.DataArray (track: 1724, time: 500)>\n",
       "array([[0.        , 1.13157789, 1.13412222, ...,        nan,        nan,\n",
       "               nan],\n",
       "       [0.        , 1.05145437, 1.05366156, ...,        nan,        nan,\n",
       "               nan],\n",
       "       [0.        , 1.06148116, 1.06378226, ...,        nan,        nan,\n",
       "               nan],\n",
       "       ...,\n",
       "       [0.        , 1.28617582, 1.28766772, ...,        nan,        nan,\n",
       "               nan],\n",
       "       [0.        , 1.42449101, 1.42846107, ...,        nan,        nan,\n",
       "               nan],\n",
       "       [0.        , 0.        , 0.        , ...,        nan,        nan,\n",
       "               nan]])\n",
       "Coordinates:\n",
       "  * track    (track) int64 1188 1247 1251 1271 1278 ... 6598 6600 6617 6624 6649\n",
       "  * time     (time) int64 0 1 2 3 4 5 6 7 8 ... 492 493 494 495 496 497 498 499"
      ]
     },
     "execution_count": 947,
     "metadata": {},
     "output_type": "execute_result"
    }
   ],
   "source": [
    "\n",
    "dist_in_standard"
   ]
  },
  {
   "cell_type": "code",
   "execution_count": 478,
   "id": "a0b082ba-3c06-4866-8962-0cd184cd8099",
   "metadata": {},
   "outputs": [
    {
     "name": "stderr",
     "output_type": "stream",
     "text": [
      "/tmp/ipykernel_425507/570322235.py:19: RuntimeWarning:\n",
      "\n",
      "divide by zero encountered in log2\n",
      "\n"
     ]
    }
   ],
   "source": [
    "# # stretch map\n",
    "\n",
    "# virtual_rg_std = virtual_rgs[std_seed]\n",
    "# positions_std = virtual_rg_std.trajectory.ode_solution.y.T\n",
    "# window = 21\n",
    "# averaged_dist_std = morphotrack.track.moving_average(position2distance(positions_std),window)\n",
    "# f = interpolate.interp1d(np.arange(positions_std.shape[0]), positions_std.T, bounds_error=False)\n",
    "# logFC = []\n",
    "\n",
    "# for seed_num in seed_choice:\n",
    "#     virtual_rg = virtual_rgs[seed_num]\n",
    "#     positions = virtual_rg.trajectory.ode_solution.y.T\n",
    "    \n",
    "#     # get position in standard space. convert it to distance.\n",
    "#     interp_dist = position2distance(f(target2standard_df.loc[seed_num].to_numpy()).T)\n",
    "#     # get moving average to avoid log0 and division by zero.\n",
    "#     averaged_dist = morphotrack.track.moving_average(interp_dist,window)\n",
    "#     # averaged_dist_list.append(averaged_dist)\n",
    "#     logFC.append(np.log2(averaged_dist)-np.log2(averaged_dist_std))\n",
    "    \n",
    "# logFC_df = pd.DataFrame(np.asarray(logFC),index=seed_choice)"
   ]
  },
  {
   "cell_type": "code",
   "execution_count": 504,
   "id": "d13788b1-e8cf-4ba5-a7aa-b133d2d39764",
   "metadata": {},
   "outputs": [
    {
     "data": {
      "text/plain": [
       "<Image layer 'original' at 0x7f39be24dc70>"
      ]
     },
     "execution_count": 504,
     "metadata": {},
     "output_type": "execute_result"
    }
   ],
   "source": [
    "viewer = napari.Viewer()\n",
    "blue2red = Colormap([[0,0,1],[1,1,1],[1,0,0]])\n",
    "viewer.add_image(logFC_df.to_numpy().T, contrast_limits=[-3,3], rgb=False, name='stretchiness', colormap=blue2red, blending='additive', multiscale=False)\n",
    "viewer.add_image(aligned, rgb=False, name='aligned', colormap=color.colormap.MatplotlibColormap('pink_r'), blending='additive', multiscale=False)\n",
    "viewer.add_image(target, rgb=False, name='original', colormap=color.colormap.MatplotlibColormap('PRGn'), blending='additive')"
   ]
  },
  {
   "cell_type": "code",
   "execution_count": 506,
   "id": "97899033-0a5b-4fda-92d4-b6c91eaf81ec",
   "metadata": {},
   "outputs": [
    {
     "data": {
      "text/plain": [
       "<Image layer 'stretchiness' at 0x7f39c0a070a0>"
      ]
     },
     "execution_count": 506,
     "metadata": {},
     "output_type": "execute_result"
    }
   ],
   "source": [
    "viewer = napari.Viewer()\n",
    "viewer.add_image(tes, rgb=False, name='stretchiness', colormap=color.colormap.MatplotlibColormap('pink_r'), blending='additive', multiscale=False)"
   ]
  },
  {
   "cell_type": "code",
   "execution_count": 74,
   "id": "17a3fbaf-dd57-4966-a926-c09c8eb15ca6",
   "metadata": {},
   "outputs": [],
   "source": []
  },
  {
   "cell_type": "code",
   "execution_count": 480,
   "id": "e07b7776-b310-4414-a5a5-b376354e5bfa",
   "metadata": {},
   "outputs": [
    {
     "name": "stderr",
     "output_type": "stream",
     "text": [
      "100%|████████████████████████████████████████████████████████████████████████████████████████████████████████████████████████████████████| 807/807 [00:02<00:00, 292.33it/s]\n"
     ]
    }
   ],
   "source": [
    "# local flux map\n",
    "local_flux = []\n",
    "for i, seed_num in tqdm(list(enumerate(seed_choice))):\n",
    "    virtual_rg = virtual_rgs[seed_num]\n",
    "    positions = virtual_rg.trajectory.ode_solution.y.T\n",
    "    # append positions to be consisntent in size.\n",
    "    positions = np.pad(positions,[(0,501-positions.shape[0]),(0,0)],mode='edge')\n",
    "    # get local flux\n",
    "    local_flux.append(morphotrack.points.get_local_flux(positions, norm_flow_on_coordinate, radius))\n",
    "    \n",
    "local_flux_df = pd.DataFrame(np.vstack(local_flux),index=seed_choice)"
   ]
  },
  {
   "cell_type": "code",
   "execution_count": 481,
   "id": "d6c86170-465d-4996-8af8-6aad5870feca",
   "metadata": {},
   "outputs": [],
   "source": [
    "# transform local_flux map for better interpretation\n",
    "aligned_local_flux = map_coordinates(np.vstack(local_flux).T, make_displacement_map(adjusted_target2standard), order=1, mode='constant')\n",
    "aligned_local_flux_df = pd.DataFrame(aligned_local_flux.T, index=seed_choice)"
   ]
  },
  {
   "cell_type": "code",
   "execution_count": 482,
   "id": "e697ce3f-b321-4bb1-ad72-cbf82e4e2736",
   "metadata": {
    "tags": []
   },
   "outputs": [
    {
     "data": {
      "text/plain": [
       "<Image layer 'aligned' at 0x7f39cfb05a00>"
      ]
     },
     "execution_count": 482,
     "metadata": {},
     "output_type": "execute_result"
    }
   ],
   "source": [
    "viewer = napari.Viewer()\n",
    "viewer.add_image(aligned_local_flux, rgb=False, name='local_flux', colormap=blue2red, blending='additive', multiscale=False)\n",
    "viewer.add_image(aligned_local_flux - aligned_local_flux.mean(axis=1)[:,None], rgb=False, name='local_flux', colormap=blue2red, blending='additive', multiscale=False)\n",
    "viewer.add_image(aligned, rgb=False, name='aligned', colormap='gray', blending='additive', multiscale=False)"
   ]
  },
  {
   "cell_type": "code",
   "execution_count": 483,
   "id": "e5aebabe-b732-46d2-9ac6-fa79b6e8c982",
   "metadata": {
    "tags": []
   },
   "outputs": [],
   "source": [
    "# distance map\n",
    "# virtual_rg_std = virtual_rgs[std_seed]\n",
    "# positions_std = virtual_rg_std.trajectory.ode_solution.y.T\n",
    "window = 21\n",
    "# averaged_dist_std = morphotrack.track.moving_average(position2distance(positions_std),window)\n",
    "# f = interpolate.interp1d(np.arange(positions_std.shape[0]), positions_std.T, bounds_error=False)\n",
    "# logFC = []\n",
    "\n",
    "travelled_dist = []\n",
    "for seed_num in seed_choice:\n",
    "    virtual_rg = virtual_rgs[seed_num]\n",
    "    positions = virtual_rg.trajectory.ode_solution.y.T\n",
    "    \n",
    "    # \n",
    "    g = interpolate.interp1d(np.arange(positions.shape[0]), positions.T, bounds_error=False)\n",
    "    # get position in standard space. convert it to distance.\n",
    "    interp_dist = position2distance(g(target2standard_df.loc[seed_num].to_numpy()).T)\n",
    "    # get moving average to avoid log0 and division by zero.\n",
    "    travelled_dist.append(morphotrack.track.moving_average(interp_dist,window))\n",
    "\n",
    "# transform local_flux map for better interpretation\n",
    "aligned_travelled_dist_df = pd.DataFrame(np.vstack(travelled_dist), index=seed_choice)\n",
    "aligned_travelled_dist = aligned_travelled_dist_df.to_numpy().T"
   ]
  },
  {
   "cell_type": "code",
   "execution_count": 484,
   "id": "3be3ba98-0c6f-48f1-95f5-47dc4a077de8",
   "metadata": {},
   "outputs": [
    {
     "data": {
      "text/plain": [
       "<Image layer 'aligned' at 0x7f39cadae370>"
      ]
     },
     "execution_count": 484,
     "metadata": {},
     "output_type": "execute_result"
    }
   ],
   "source": [
    "viewer = napari.Viewer()\n",
    "viewer.add_image(aligned_travelled_dist_df.to_numpy().T, contrast_limits=[0,3], rgb=False, name='distnace', colormap=blue2red, blending='additive', multiscale=False)\n",
    "viewer.add_image(aligned, rgb=False, name='aligned', colormap='gray', blending='additive', multiscale=False)"
   ]
  },
  {
   "cell_type": "code",
   "execution_count": null,
   "id": "38fe6609-0118-4797-bd7a-d0fd7deee48f",
   "metadata": {},
   "outputs": [],
   "source": [
    "# I found aligned travelled distance to be not useful metrics. \n",
    "# I should use more coarse resolution (e.g. layer thickness)\n",
    "# Another thing is I can expect similar local flux along grothline. I can pick up representitive one like in layer 3."
   ]
  },
  {
   "cell_type": "code",
   "execution_count": 485,
   "id": "4170057a-ed6c-45b3-8e04-4b618828bd6d",
   "metadata": {},
   "outputs": [],
   "source": [
    "# manual determine the position of the layer in d' space\n",
    "layer1 = range(0,20); layer2 = range(20,33); layer3 = range(33,100)\n",
    "layer4 = range(100,120); layer56 = range(120,243)\n",
    "layers = [layer1, layer2, layer3, layer4, layer56]"
   ]
  },
  {
   "cell_type": "code",
   "execution_count": 486,
   "id": "0f320387-732f-4f97-bf3f-05f1257fa9ab",
   "metadata": {},
   "outputs": [
    {
     "name": "stderr",
     "output_type": "stream",
     "text": [
      "100%|█████████████████████████████████████████████████████████████████████████████████████████████████████████████████████████████████████| 807/807 [00:30<00:00, 26.17it/s]\n"
     ]
    }
   ],
   "source": [
    "half_thickness = 2.5\n",
    "radius = 10\n",
    "layer_cell_count = []\n",
    "layer_thickness = []\n",
    "\n",
    "for seed_num in tqdm(seed_choice):\n",
    "    # get positions and flows\n",
    "    virtual_rg = virtual_rgs[seed_num]\n",
    "    positions = virtual_rg.trajectory.ode_solution.y.T\n",
    "    flow = norm_flow_on_coordinate(positions) # flow is normalized\n",
    "    \n",
    "    dist = position2distance(positions)\n",
    "    dprime = target2standard_df.loc[seed_num,:]\n",
    "    cell_number_list = []\n",
    "    thickness = []\n",
    "    for layer in layers:\n",
    "        # get range of layers\n",
    "        eval_range = dprime[layer]\n",
    "        eval_range = range(round(eval_range.min()),round(eval_range.max()))\n",
    "        # count cell number\n",
    "        _, idx, _ = conv_along_line(half_thickness, positions[eval_range], flow[eval_range], coords_tree, radius, time_end+1)\n",
    "        cell_number_list.append(get_unique_number(idx).size)\n",
    "        # measure thickness\n",
    "        thickness.append(dist[eval_range].sum())\n",
    "    layer_cell_count.append(np.asarray(cell_number_list))\n",
    "    layer_thickness.append(np.asarray(thickness))\n",
    "    \n",
    "layer_cell_count = np.vstack(layer_cell_count).T\n",
    "layer_cell_count_df = pd.DataFrame(layer_cell_count.T,index=seed_choice)\n",
    "layer_thickness = np.vstack(layer_thickness).T\n",
    "layer_thickness_df = pd.DataFrame(layer_thickness.T,index=seed_choice)"
   ]
  },
  {
   "cell_type": "code",
   "execution_count": 487,
   "id": "5fec4285-badf-41e8-93cd-d54bc97dd055",
   "metadata": {},
   "outputs": [
    {
     "data": {
      "text/plain": [
       "<Image layer 'cell number' at 0x7f39d4ea6430>"
      ]
     },
     "execution_count": 487,
     "metadata": {},
     "output_type": "execute_result"
    }
   ],
   "source": [
    "viewer = napari.Viewer()\n",
    "viewer.add_image(layer_thickness, rgb=False, name='thickness', colormap=blue2red, blending='additive', multiscale=False)\n",
    "viewer.add_image(layer_cell_count, rgb=False, name='cell number', colormap='gray', blending='additive', multiscale=False)"
   ]
  },
  {
   "cell_type": "code",
   "execution_count": 492,
   "id": "49d94199-ed15-4728-8e14-c1ecd6c6d1c2",
   "metadata": {},
   "outputs": [],
   "source": [
    "# these are not accurate. but close.\n",
    "mean_cell_density = []\n",
    "mean_local_flux = []\n",
    "for layer in layers:\n",
    "    mean_cell_density.append(aligned[layer,:].mean(axis=0))\n",
    "    mean_local_flux.append(aligned_local_flux[layer,:].mean(axis=0))\n",
    "mean_cell_density = np.vstack(mean_cell_density)\n",
    "mean_local_flux = np.vstack(mean_local_flux)\n",
    "layer4_mean_local_flux = mean_local_flux[3,:]"
   ]
  },
  {
   "cell_type": "code",
   "execution_count": 493,
   "id": "3725429c-dba6-4c32-8637-5681d2c735e2",
   "metadata": {},
   "outputs": [],
   "source": [
    "from scipy.stats import pearsonr"
   ]
  },
  {
   "cell_type": "code",
   "execution_count": 494,
   "id": "fa36d35d-3431-4430-8a8b-18d0dae85606",
   "metadata": {},
   "outputs": [],
   "source": [
    "layer4_mean_local_flux = mean_local_flux[3,:]\n",
    "crown_idx = layer4_mean_local_flux.argmin()"
   ]
  },
  {
   "cell_type": "code",
   "execution_count": 495,
   "id": "e7aec246-ecd6-47e2-a359-5a3161a76532",
   "metadata": {},
   "outputs": [],
   "source": [
    "bins = 15\n",
    "binrange = np.arange(\n",
    "    layer4_mean_local_flux[crown_idx:].min(),\n",
    "    layer4_mean_local_flux[crown_idx:].max(),\n",
    "    (layer4_mean_local_flux[crown_idx:].max()-layer4_mean_local_flux[crown_idx:].min())/(bins+1)\n",
    ")\n",
    "my_df = pd.Series(layer4_mean_local_flux)\n",
    "even_selection = my_df[crown_idx:].groupby(pd.cut(my_df[crown_idx:], binrange)).sample(n=1, random_state=1)\n",
    "selection = even_selection.index.to_list()"
   ]
  },
  {
   "cell_type": "code",
   "execution_count": 503,
   "id": "ada28604-b277-4036-8579-4dbc42dada7d",
   "metadata": {},
   "outputs": [
    {
     "name": "stderr",
     "output_type": "stream",
     "text": [
      "/home/tmurakami/app/miniconda3/envs/segment/lib/python3.8/site-packages/numpy/core/numeric.py:2378: FutureWarning:\n",
      "\n",
      "elementwise comparison failed; returning scalar instead, but in the future will perform elementwise comparison\n",
      "\n"
     ]
    },
    {
     "data": {
      "text/plain": [
       "<Image layer 'asma' at 0x7f39c09f2e80>"
      ]
     },
     "execution_count": 503,
     "metadata": {},
     "output_type": "execute_result"
    }
   ],
   "source": [
    "# visualize the label in 3D with color\n",
    "\n",
    "points_vis = seeds_df.iloc[:,0:3].reindex(seed_choice)\n",
    "points_vis = points_vis.iloc[crown_idx:,:]\n",
    "color_mapper = manifold_1D_df.sort_values(0).to_numpy()\n",
    "#color_vis = color.get_colormap('plasma').map((mean_local_flux[3,crown_idx:]-np.min(mean_local_flux[3,crown_idx:])) / (np.max(mean_local_flux[3,crown_idx:])-np.min(mean_local_flux[3,crown_idx:])))\n",
    "color_vis = color.get_colormap('plasma').map(np.arange(points_vis.shape[0]) / points_vis.shape[0])\n",
    "viewer = napari.Viewer()\n",
    "points = viewer.add_points(\n",
    "    points_vis,\n",
    "    size=10,\n",
    "    face_color = color_vis,\n",
    "    edge_width=0,\n",
    "    symbol='disc',\n",
    ")\n",
    "viewer.add_image(nuclei, contrast_limits=[0,20000], rgb=False, name='auto', colormap='gray_r', blending='translucent', multiscale=False)\n",
    "viewer.add_image(vessel_downscale, contrast_limits=[0,20000], rgb=False, name='asma', colormap='yellow', blending='additive', multiscale=False,visible=False)\n",
    "# viewer.theme = 'dark'"
   ]
  },
  {
   "cell_type": "code",
   "execution_count": null,
   "id": "2e36a55d-998a-43ff-866e-50384e04afff",
   "metadata": {},
   "outputs": [],
   "source": []
  },
  {
   "cell_type": "code",
   "execution_count": null,
   "id": "4a2aa21a-f01d-4d83-8d31-a194b5e5d1cc",
   "metadata": {},
   "outputs": [],
   "source": []
  },
  {
   "cell_type": "code",
   "execution_count": 376,
   "id": "93e9f579-d1d0-4597-9335-bcfce485a86c",
   "metadata": {},
   "outputs": [],
   "source": []
  },
  {
   "cell_type": "code",
   "execution_count": 508,
   "id": "5c7f7984-3725-4e64-b807-b07668a47e18",
   "metadata": {},
   "outputs": [],
   "source": [
    "# fonus analysis in crown \n",
    "seed_choice = seeds_df.index[seeds_df.iloc[:,4:].all(axis=1)].to_list()\n",
    "#seed_choice = seeds_df[cond1*cond2].index.to_list()\n",
    "# reduce dimention to 1d for manual alignment\n",
    "X0_selected = seeds_df.iloc[:,0:3].loc[seed_choice,:]\n",
    "iso1d = manifold.Isomap(n_neighbors=20, n_components=1, n_jobs=-1) # change n_neighbors in case of error.\n",
    "iso1d.fit(X0_selected)\n",
    "manifold_1D_ver2 = iso1d.transform(X0_selected)\n",
    "manifold_1D_ver2_df = pd.DataFrame(manifold_1D_ver2,index=seed_choice)\n",
    "seed_choice = manifold_1D_ver2_df.sort_values(0).index.to_list()"
   ]
  },
  {
   "cell_type": "code",
   "execution_count": 621,
   "id": "cd3c3259-384b-476c-b957-19230d4f8c6c",
   "metadata": {},
   "outputs": [
    {
     "data": {
      "text/plain": [
       "<Image layer 'original' at 0x7f397d4391f0>"
      ]
     },
     "execution_count": 621,
     "metadata": {},
     "output_type": "execute_result"
    }
   ],
   "source": [
    "target_df = column_conv.reindex(seed_choice)\n",
    "target = column_conv.reindex(seed_choice).to_numpy().T\n",
    "viewer0 = napari.Viewer()\n",
    "viewer0.add_image(target, rgb=False, name='original', colormap='gray', blending='additive', multiscale=False)"
   ]
  },
  {
   "cell_type": "code",
   "execution_count": 622,
   "id": "d136e5d8-1a6b-4370-9f41-473119ec2590",
   "metadata": {},
   "outputs": [],
   "source": [
    "# std_idx = 596\n",
    "# std_seed = seed_choice[std_idx]# dprime is done with std_seed 5582\n",
    "# std_values = column_conv.loc[std_seed].to_numpy()\n",
    "\n",
    "standard = np.repeat(std_values[:,np.newaxis],len(seed_choice),axis=1)\n",
    "viewer0.add_image(standard, rgb=False, name='std', colormap='gray', blending='additive', multiscale=False)\n",
    "# manually label layer IV for the flux calculation.\n",
    "# based on the flux, choose gyrus-bank area\n",
    "labels = viewer0.add_labels(np.zeros_like(standard.astype(int)), name='labeling')"
   ]
  },
  {
   "cell_type": "code",
   "execution_count": 623,
   "id": "bdcd7673-b9bf-4b7f-a2cb-f79a5356e18b",
   "metadata": {},
   "outputs": [],
   "source": [
    "# make initial displacement using manual labels.\n",
    "labels_np = labels.data\n",
    "\n",
    "initial_displacement = np.zeros_like(standard)\n",
    "\n",
    "std_landmark = np.array([0,28,120,253,standard.shape[0]-1,standard.shape[0]]) # these are fixed numbers.\n",
    "# target_landmarks = [] \n",
    "for line in range(standard.shape[1]):\n",
    "    # make landmarks_fix\n",
    "    landmark = std_landmark.copy()\n",
    "    for i in range(1, std_landmark.size-1):\n",
    "        positions = np.where(labels_np[:,line]==i)[0]\n",
    "        if positions.size != 0:\n",
    "            landmark[i] = round(positions.mean())\n",
    "        else:\n",
    "            landmark[i] = std_landmark[i]\n",
    "    # make manually generated position shift\n",
    "    shift = interpolate.griddata(std_landmark,landmark-std_landmark,xi=coord,method='linear') # cubic distort the thing...\n",
    "    initial_displacement[:,line] = shift"
   ]
  },
  {
   "cell_type": "code",
   "execution_count": 624,
   "id": "a6f7c210-e985-4d62-99cb-7fc76ae6139d",
   "metadata": {},
   "outputs": [],
   "source": [
    "# set parameters\n",
    "settings = {\n",
    "    'pyramid_levels':1, # larger number can deteriorate the initial alignment.\n",
    "    'pyramid_stop_level': 0, # 1 is good. 2 is just enough, 3 is not enough.\n",
    "    'step_size': [0.2, 0.2, 0.2], # [1.0,1.0,1.0] seems enough. more than that will degrade the quality\n",
    "    'block_size': [0,0,0],\n",
    "    'block_energy_epsilon':1e-7,\n",
    "    'max_iteration_count':100,\n",
    "    'constraints_weight':1000.0,\n",
    "    'regularization_weight': 0.25, # default 0.25\n",
    "    'regularization_scale': 1.0, # default 1.0\n",
    "    'regularization_exponent': 2.0, # default 2.0\n",
    "    'image_slots':[{\n",
    "            'resampler': 'gaussian',\n",
    "            'normalize': True,\n",
    "            'cost_function':[\n",
    "                {\n",
    "                    'function':'ncc',\n",
    "                    'weight':1.0,\n",
    "                    'radius':15\n",
    "                }\n",
    "            ]\n",
    "        }]\n",
    "}"
   ]
  },
  {
   "cell_type": "code",
   "execution_count": 625,
   "id": "ee8271fc-a4a2-45b1-ac6d-39f2345d51c7",
   "metadata": {
    "tags": []
   },
   "outputs": [],
   "source": [
    "#my_choice = np.r_[-300:len(seed_choice)]\n",
    "my_choice = list(range(0,len(seed_choice)))#list(range(100,150)) + list(range(-300,-1))"
   ]
  },
  {
   "cell_type": "code",
   "execution_count": 626,
   "id": "da68dc35-9abb-4e45-ba93-2207a3144c44",
   "metadata": {
    "tags": []
   },
   "outputs": [
    {
     "name": "stderr",
     "output_type": "stream",
     "text": [
      "100%|█████████████████████████████████████████████████████████████████████████████████████████████████████████████████████████████████| 6699/6699 [1:51:10<00:00,  1.00it/s]\n"
     ]
    }
   ],
   "source": [
    "target2standard_ver2, standard2target_ver2 = line_wise_aligner(std_values, target[:,my_choice], initial_displacement[:,my_choice], settings)\n",
    "# target2standard_ver2, standard2target_ver2 = line_wise_aligner(std_values, target[:,-300:], np.zeros_like(initial_displacement[:,-300:]), settings)\n",
    "# pd.DataFrame(target2standard_ver2.T,index=seed_choice).to_csv('/mnt/ampa_data01/tmurakami/220305_SMA_nuc_middlehuman/vessel_analysis/linewise_aligned.csv')"
   ]
  },
  {
   "cell_type": "code",
   "execution_count": 627,
   "id": "7a1f0474-3c4b-450a-a7eb-24befba26b71",
   "metadata": {
    "tags": []
   },
   "outputs": [],
   "source": [
    "target2standard_ver2_df = pd.DataFrame(target2standard_ver2.T,index=seed_choice)\n",
    "standard2target_ver2_df = pd.DataFrame(standard2target_ver2.T,index=seed_choice)"
   ]
  },
  {
   "cell_type": "code",
   "execution_count": 629,
   "id": "0c096ecc-bfd7-4973-9ea4-fd84241cfb0f",
   "metadata": {},
   "outputs": [
    {
     "data": {
      "text/plain": [
       "<Image layer 'tgt2std [1]' at 0x7f39786595e0>"
      ]
     },
     "execution_count": 629,
     "metadata": {},
     "output_type": "execute_result"
    }
   ],
   "source": [
    "viewer = napari.Viewer()\n",
    "viewer.add_image(np.diff(target2standard_ver2,axis=0), contrast_limits=[-0.1,0], rgb=False, name='tgt2std', colormap='gray', blending='additive', multiscale=False)\n",
    "viewer.add_image(target2standard_ver2, rgb=False, name='tgt2std', colormap='gray', blending='additive', multiscale=False)"
   ]
  },
  {
   "cell_type": "code",
   "execution_count": 630,
   "id": "688e03f2-67be-443c-be16-57ef9aa45cf4",
   "metadata": {},
   "outputs": [
    {
     "data": {
      "text/plain": [
       "<Image layer 'standard [1]' at 0x7f39783b9610>"
      ]
     },
     "execution_count": 630,
     "metadata": {},
     "output_type": "execute_result"
    }
   ],
   "source": [
    "aligned_ver2 = map_coordinates(target[:,my_choice], make_displacement_map(target2standard_ver2), order=1, mode='constant')\n",
    "aligned_ver2_df = pd.DataFrame(aligned_ver2.T,index=seed_choice)\n",
    "aligned_standard_ver2 = map_coordinates(standard[:,my_choice], make_displacement_map(standard2target_ver2), order=1, mode='constant')\n",
    "viewer = napari.Viewer()\n",
    "viewer.add_image(target[:,my_choice], rgb=False, name='original', colormap='green', blending='additive', multiscale=False)\n",
    "viewer.add_image(aligned_ver2, rgb=False, name='deform', colormap='magenta', blending='additive', multiscale=False)\n",
    "viewer.add_image(standard[:,my_choice], rgb=False, name='standard', colormap='gray', blending='additive', multiscale=False)\n",
    "viewer.add_image(aligned_standard_ver2, rgb=False, name='standard', colormap='gray', blending='additive', multiscale=False)"
   ]
  },
  {
   "cell_type": "code",
   "execution_count": 797,
   "id": "ad69c7ff-6406-458f-9116-aed843ac18a1",
   "metadata": {
    "tags": []
   },
   "outputs": [
    {
     "name": "stderr",
     "output_type": "stream",
     "text": [
      "100%|██████████████████████████████████████████████████████████████████████████████████████████████████████████████████████████████████| 6699/6699 [00:24<00:00, 270.79it/s]\n"
     ]
    }
   ],
   "source": [
    "# local flux map\n",
    "local_flux = []\n",
    "for i, seed_num in tqdm(list(enumerate(seed_choice))):\n",
    "    virtual_rg = virtual_rgs[seed_num]\n",
    "    positions = virtual_rg.trajectory.ode_solution.y.T\n",
    "    # append positions to be consisntent in size.\n",
    "    positions = np.pad(positions,[(0,501-positions.shape[0]),(0,0)],mode='edge')\n",
    "    # get local flux\n",
    "    local_flux.append(morphotrack.points.get_local_flux(positions, norm_flow_on_coordinate, radius))\n",
    "    \n",
    "local_flux_df = pd.DataFrame(np.vstack(local_flux),index=seed_choice)\n",
    "\n",
    "aligned_local_flux = map_coordinates(np.vstack(local_flux).T, make_displacement_map(target2standard_ver2_df.reindex(seed_choice).T), order=1, mode='constant')\n",
    "aligned_local_flux_df = pd.DataFrame(aligned_local_flux.T, index=seed_choice)"
   ]
  },
  {
   "cell_type": "code",
   "execution_count": 798,
   "id": "82cd9c48-f4da-42a2-8a4d-2a2a08bb3113",
   "metadata": {
    "tags": []
   },
   "outputs": [
    {
     "name": "stderr",
     "output_type": "stream",
     "text": [
      "100%|███████████████████████████████████████████████████████████████████████████████████████████████████████████████████████████████████| 6699/6699 [03:46<00:00, 29.64it/s]\n"
     ]
    }
   ],
   "source": [
    "# ask layer mean cell density and thickness \n",
    "\n",
    "half_thickness = 2.5\n",
    "radius = 10\n",
    "layer_cell_count = []\n",
    "layer_thickness = []\n",
    "\n",
    "for seed_num in tqdm(seed_choice):\n",
    "    # get positions and flows\n",
    "    virtual_rg = virtual_rgs[seed_num]\n",
    "    positions = virtual_rg.trajectory.ode_solution.y.T\n",
    "    flow = norm_flow_on_coordinate(positions) # flow is normalized\n",
    "    \n",
    "    dist = position2distance(positions)\n",
    "    dprime = target2standard_ver2_df.loc[seed_num,:]\n",
    "    cell_number_list = []\n",
    "    thickness = []\n",
    "    for layer in layers:\n",
    "        # get range of layers\n",
    "        eval_range = dprime[layer]\n",
    "        eval_range = range(round(eval_range.min()),round(eval_range.max()))\n",
    "        # count cell number\n",
    "        _, idx, _ = conv_along_line(half_thickness, positions[eval_range], flow[eval_range], coords_tree, radius, time_end+1)\n",
    "        cell_number_list.append(get_unique_number(idx).size)\n",
    "        # measure thickness\n",
    "        thickness.append(dist[eval_range].sum())\n",
    "    layer_cell_count.append(np.asarray(cell_number_list))\n",
    "    layer_thickness.append(np.asarray(thickness))\n",
    "    \n",
    "layer_cell_count = np.vstack(layer_cell_count).T\n",
    "layer_cell_count_df = pd.DataFrame(layer_cell_count.T,index=seed_choice) # layer_cell_count_df = pd.DataFrame(layer_cell_count.T,index=seed_choice[:layer_cell_count.shape[1]])\n",
    "layer_thickness = np.vstack(layer_thickness).T\n",
    "layer_thickness_df = pd.DataFrame(layer_thickness.T,index=seed_choice) # layer_thickness_df = pd.DataFrame(layer_thickness.T,index=seed_choice[:layer_thickness.shape[1]])\n"
   ]
  },
  {
   "cell_type": "code",
   "execution_count": 891,
   "id": "1d7417c7-462c-4023-a150-45bad21bda8d",
   "metadata": {},
   "outputs": [],
   "source": [
    "# these are not accurate. but close.\n",
    "layer_cell_density = []\n",
    "layer_local_flux = []\n",
    "for layer in layers:\n",
    "    layer_cell_density.append(aligned_ver2[layer,:].mean(axis=0))\n",
    "    layer_local_flux.append(aligned_local_flux[layer,:].mean(axis=0))\n",
    "\n",
    "layer_cell_density = np.vstack(layer_cell_density) \n",
    "layer_cell_density_df = pd.DataFrame(layer_cell_density.T,index=seed_choice)\n",
    "layer_cell_density = layer_cell_density_df.to_numpy().T\n",
    "\n",
    "layer_local_flux = np.vstack(layer_local_flux)\n",
    "layer_local_flux_df = pd.DataFrame(layer_local_flux.T,index=seed_choice)\n",
    "layer4_local_flux = layer_local_flux[3,:]\n"
   ]
  },
  {
   "cell_type": "code",
   "execution_count": 695,
   "id": "dda902df-4ed2-4cb9-97c3-1f235a3be64c",
   "metadata": {},
   "outputs": [],
   "source": [
    "# # redefine isomap for better visualization\n",
    "# X0_selected = seeds_df.iloc[:,0:3].loc[my_choice,:]\n",
    "# iso1d = manifold.Isomap(n_neighbors=10, n_components=1, n_jobs=-1) # change n_neighbors in case of error.\n",
    "# iso1d.fit(X0_selected)\n",
    "# manifold_1d_ver3 = iso1d.transform(X0_selected)\n",
    "# manifold_1d_ver3_df = pd.DataFrame(manifold_1d_ver3,index=my_choice)\n",
    "# my_sort = manifold_1d_ver3_df.sort_values(0).index.to_list()"
   ]
  },
  {
   "cell_type": "code",
   "execution_count": 696,
   "id": "9c7c6693-add2-41ba-b9fe-38ec55c5d0c9",
   "metadata": {},
   "outputs": [
    {
     "name": "stderr",
     "output_type": "stream",
     "text": [
      "/home/tmurakami/app/miniconda3/envs/segment/lib/python3.8/site-packages/numpy/core/numeric.py:2378: FutureWarning:\n",
      "\n",
      "elementwise comparison failed; returning scalar instead, but in the future will perform elementwise comparison\n",
      "\n"
     ]
    },
    {
     "data": {
      "text/plain": [
       "<Image layer 'asma' at 0x7f3972f4c3d0>"
      ]
     },
     "execution_count": 696,
     "metadata": {},
     "output_type": "execute_result"
    }
   ],
   "source": [
    "# # visualize the label in 3D with color\n",
    "\n",
    "# points_vis = seeds_df.iloc[:,0:3].reindex(my_sort)\n",
    "# color_vis = color.get_colormap('plasma').map(np.arange(points_vis.shape[0]) / points_vis.shape[0])\n",
    "# viewer = napari.Viewer()\n",
    "# points = viewer.add_points(\n",
    "#     points_vis,\n",
    "#     size=10,\n",
    "#     face_color = color_vis,\n",
    "#     edge_width=0,\n",
    "#     symbol='disc',\n",
    "# )\n",
    "# viewer.add_image(autofl, contrast_limits=[0,20000], rgb=False, name='auto', colormap='gray', blending='translucent', multiscale=False)\n",
    "# viewer.add_image(asma_downscale, contrast_limits=[0,20000], rgb=False, name='asma', colormap='yellow', blending='additive', multiscale=False,visible=False)"
   ]
  },
  {
   "cell_type": "code",
   "execution_count": 872,
   "id": "39bbb082-2d22-4092-be22-111f77e6dbe1",
   "metadata": {},
   "outputs": [
    {
     "name": "stderr",
     "output_type": "stream",
     "text": [
      "100%|█████████████████████████████████████████████████████████████████████████████████████████████████████████████████████████████████| 6699/6699 [00:01<00:00, 3645.63it/s]\n"
     ]
    },
    {
     "data": {
      "text/plain": [
       "[<matplotlib.lines.Line2D at 0x7f3793487400>]"
      ]
     },
     "execution_count": 872,
     "metadata": {},
     "output_type": "execute_result"
    },
    {
     "data": {
      "image/png": "[encoded data removed]",
      "text/plain": [
       "<Figure size 432x288 with 1 Axes>"
      ]
     },
     "metadata": {
      "needs_background": "light"
     },
     "output_type": "display_data"
    }
   ],
   "source": [
    "# remove seeds with low quality\n",
    "mi = []\n",
    "# dtws = [] # dtw and cosine similarity is almost same\n",
    "cos_sim = []\n",
    "for i in tqdm(list(range(aligned_ver2.shape[1]))):\n",
    "    mi.append(morphotrack.track.mutual_information(std_values, aligned_ver2[:,i], bins=10))\n",
    "    # dtws.append(dtw(std_values, aligned_ver2[:,i]))\n",
    "    cos_sim.append(morphotrack.track.cosine_similarity(std_values, aligned_ver2[:,i]))\n",
    "mi = np.asarray(mi)\n",
    "# dtws = np.asarray(dtws)\n",
    "cos_sim = np.asarray(cos_sim)\n",
    "\n",
    "\n",
    "plt.plot(mi)"
   ]
  },
  {
   "cell_type": "code",
   "execution_count": 1397,
   "id": "0d00cb3e-83d3-4935-b89c-ea67e8c1149c",
   "metadata": {},
   "outputs": [
    {
     "data": {
      "text/plain": [
       "4313"
      ]
     },
     "execution_count": 1397,
     "metadata": {},
     "output_type": "execute_result"
    }
   ],
   "source": [
    "# print(np.percentile(mi,50))\n",
    "# print(np.percentile(cos_sim,50))"
   ]
  },
  {
   "cell_type": "code",
   "execution_count": 1419,
   "id": "3eba93c5-112f-41fc-b8cd-700707a6db95",
   "metadata": {},
   "outputs": [
    {
     "name": "stdout",
     "output_type": "stream",
     "text": [
      "0.6273109903903874\n",
      "0.7670435176437579\n",
      "1497\n"
     ]
    },
    {
     "data": {
      "image/png": "[encoded data removed]",
      "text/plain": [
       "<Figure size 432x288 with 1 Axes>"
      ]
     },
     "metadata": {
      "needs_background": "light"
     },
     "output_type": "display_data"
    }
   ],
   "source": [
    "# metrics = np.vstack([mi,cos_sim])\n",
    "# metrics = zscore(metrics,axis=1)\n",
    "# sns.clustermap(metrics, row_cluster=False)\n",
    "th1 = threshold_otsu(mi)#np.percentile(mi,50)\n",
    "th2 = threshold_otsu(cos_sim)#np.percentile(cos_sim,50)\n",
    "print(th1)\n",
    "print(th2)\n",
    "plt.plot(cos_sim)\n",
    "my_choice = np.asarray(seed_choice)[(mi>th1)*(cos_sim>th2)].tolist()\n",
    "print(len(my_choice))"
   ]
  },
  {
   "cell_type": "code",
   "execution_count": 1440,
   "id": "9f28a165-a4d4-4cc1-8f94-fdfbd07ef755",
   "metadata": {},
   "outputs": [
    {
     "name": "stderr",
     "output_type": "stream",
     "text": [
      "/home/tmurakami/app/miniconda3/envs/segment/lib/python3.8/site-packages/numpy/core/numeric.py:2378: FutureWarning:\n",
      "\n",
      "elementwise comparison failed; returning scalar instead, but in the future will perform elementwise comparison\n",
      "\n"
     ]
    },
    {
     "data": {
      "text/plain": [
       "<Image layer 'aligned' at 0x7f356ef1f670>"
      ]
     },
     "execution_count": 1440,
     "metadata": {},
     "output_type": "execute_result"
    }
   ],
   "source": [
    "# find 3D coordinate and map back into the 3D image for better visualization. Quality check\n",
    "pos_img = np.zeros_like(asma_downscale)\n",
    "for i, seed_num in enumerate(my_choice):\n",
    "    virtual_rg = virtual_rgs[seed_num]\n",
    "    positional_displacement = standard2target_ver2_df.loc[seed_num].to_numpy()\n",
    "    positional_displacement[positional_displacement<0]=0 # clipping\n",
    "\n",
    "    positions = virtual_rg.trajectory.ode_solution.y\n",
    "\n",
    "    positional_displacement = positional_displacement[:positions.shape[1]]\n",
    "    pos_img[tuple(positions.astype(int))] = positional_displacement\n",
    "    \n",
    "pos_img = pos_img * segmented_tissue.astype(np.uint16)\n",
    "viewer = napari.Viewer()\n",
    "viewer.add_image(pos_img, contrast_limits=[0,501], rgb=False, name='flow', colormap=turbo_dark, blending='additive', multiscale=False)\n",
    "viewer.add_image(autofl, contrast_limits=[0,5000], rgb=False, name='auto', colormap='gray', blending='additive', multiscale=False)\n",
    "viewer.add_image(asma_downscale, contrast_limits=[0,20000], rgb=False, name='asma', colormap='yellow', blending='additive', multiscale=False, visible=False)\n",
    "\n",
    "\n",
    "points_vis = seeds_df.iloc[:,0:3].reindex(my_choice)\n",
    "points = viewer.add_points(\n",
    "    points_vis,\n",
    "    size=10,\n",
    "    face_color = 'white',\n",
    "    edge_width=0,\n",
    "    symbol='disc',\n",
    ")\n",
    "\n",
    "viewer2 = napari.Viewer()\n",
    "viewer2.add_image(aligned_ver2_df.reindex(my_choice).to_numpy().T, rgb=False, name='aligned', colormap=turbo_dark, blending='additive', multiscale=False)"
   ]
  },
  {
   "cell_type": "code",
   "execution_count": 1673,
   "id": "4e0151dc-91e8-4592-b094-e3675b446fb2",
   "metadata": {
    "tags": []
   },
   "outputs": [
    {
     "name": "stdout",
     "output_type": "stream",
     "text": [
      "[0.24013176 0.12114869 0.09221766 0.08084641 0.04541628 0.0447428\n",
      " 0.03277949 0.03035387 0.02474309 0.01790013]\n",
      "0.7302801679069882\n"
     ]
    },
    {
     "data": {
      "text/plain": [
       "[<matplotlib.lines.Line2D at 0x7f34c9c66bb0>]"
      ]
     },
     "execution_count": 1673,
     "metadata": {},
     "output_type": "execute_result"
    },
    {
     "data": {
      "image/png": "[encoded data removed]",
      "text/plain": [
       "<Figure size 792x360 with 2 Axes>"
      ]
     },
     "metadata": {
      "needs_background": "light"
     },
     "output_type": "display_data"
    }
   ],
   "source": [
    "# Can I do PCA/tSNE to the aligned space?\n",
    "# However, pca only indicates how far from edge. It is an artifact and not biological.\n",
    "from sklearn.decomposition import PCA\n",
    "\n",
    "trim = 240\n",
    "aligned_trimmed = aligned_ver2_df.loc[:,:trim].reindex(my_choice)\n",
    "aligned_trimmed_zscore = zscore(aligned_trimmed,axis=0)\n",
    "pca = PCA().fit(aligned_trimmed)\n",
    "pcs = pca.transform(aligned_trimmed)\n",
    "pc1 = pcs[:,0]\n",
    "pc2 = pcs[:,1]\n",
    "\n",
    "fig, axs = plt.subplots(ncols=2, figsize=(11,5))\n",
    "axs[0].scatter(pc1,pc2,s=1)\n",
    "#print(pca.explained_variance_ratio_)\n",
    "\n",
    "component_num = 10\n",
    "print(pca.explained_variance_ratio_[:component_num])\n",
    "print(pca.explained_variance_ratio_[:component_num].sum())\n",
    "loadings = pca.components_.T * np.sqrt(pca.explained_variance_)\n",
    "# fig, axs = plt.subplots(ncols=1, figsize=(5,5))\n",
    "axs[1].plot(loadings[:,0])\n",
    "axs[1].plot(loadings[:,1])\n",
    "axs[1].plot(loadings[:,2])\n",
    "\n",
    "# viewer = napari.Viewer()\n",
    "\n",
    "# viewer.add_image(aligned_trimmed.T.to_numpy(), rgb=False, name='aligned', colormap='viridis', blending='additive', multiscale=False)\n",
    "# viewer.add_image(zscore(aligned_trimmed.T.to_numpy(),axis=1), rgb=False, name='zscore', colormap='viridis', blending='additive', multiscale=False)"
   ]
  },
  {
   "cell_type": "code",
   "execution_count": 1670,
   "id": "7f9bbf26-b5d3-4963-95c5-8b7731b75fec",
   "metadata": {},
   "outputs": [
    {
     "data": {
      "image/png": "[encoded data removed]",
      "text/plain": [
       "<Figure size 792x216 with 1 Axes>"
      ]
     },
     "metadata": {
      "needs_background": "light"
     },
     "output_type": "display_data"
    }
   ],
   "source": [
    "fig, axs = plt.subplots(ncols=1, figsize=(11,3))\n",
    "my_pos = 7\n",
    "axs.plot(morphotrack.track.moving_average(target_df.reindex(my_choice).to_numpy().T[:200,my_pos]),c='#67c76b')\n",
    "axs.plot(morphotrack.track.moving_average(std_values[:200]), c='white')\n",
    "axs.plot(morphotrack.track.moving_average(aligned_ver2_df.reindex(my_choice).to_numpy().T[:200,my_pos]),c='#00bd06')\n",
    "plt.savefig(\"/home/tmurakami/src/misc_notebooks/human_nucleus_analysis/alignment_example.svg\")"
   ]
  },
  {
   "cell_type": "code",
   "execution_count": 1469,
   "id": "c22753ce-c215-4b8e-b459-19540a255e66",
   "metadata": {},
   "outputs": [
    {
     "name": "stdout",
     "output_type": "stream",
     "text": [
      "(0.6667019272252168, 4.431813768980088e-193)\n",
      "(-0.01442049458292843, 0.577180741041842)\n",
      "(0.15382005887249928, 2.202411178354008e-09)\n"
     ]
    },
    {
     "data": {
      "image/png": "[encoded data removed]",
      "text/plain": [
       "<Figure size 1224x360 with 3 Axes>"
      ]
     },
     "metadata": {
      "needs_background": "light"
     },
     "output_type": "display_data"
    }
   ],
   "source": [
    "fig, axs = plt.subplots(ncols=3, figsize=(17,5))\n",
    "layer4_flux = layer_local_flux_df.reindex(my_choice).loc[:,2]\n",
    "\n",
    "for i in range(3):\n",
    "    axs[i].scatter(layer4_flux,pcs[:,i],s=1)\n",
    "\n",
    "# sns.displot(pd.DataFrame(np.vstack([layer4_flux,pc1]).T),x=0,y=1, kind=\"kde\",thresh=0.01)\n",
    "print(pearsonr(layer4_flux,pcs[:,0]))\n",
    "print(pearsonr(layer4_flux,pcs[:,1]))\n",
    "print(pearsonr(layer4_flux,pcs[:,2]))\n",
    "# plt.savefig(\"/home/tmurakami/src/misc_notebooks/human_nucleus_analysis/pc1_local_flux_layer3.svg\")"
   ]
  },
  {
   "cell_type": "code",
   "execution_count": 1682,
   "id": "90ba80d7-0f2b-41aa-a4ab-50898a48e307",
   "metadata": {},
   "outputs": [
    {
     "name": "stderr",
     "output_type": "stream",
     "text": [
      "/home/tmurakami/app/miniconda3/envs/segment/lib/python3.8/site-packages/numpy/core/numeric.py:2378: FutureWarning:\n",
      "\n",
      "elementwise comparison failed; returning scalar instead, but in the future will perform elementwise comparison\n",
      "\n",
      "/home/tmurakami/app/miniconda3/envs/segment/lib/python3.8/site-packages/numpy/core/numeric.py:2378: FutureWarning:\n",
      "\n",
      "elementwise comparison failed; returning scalar instead, but in the future will perform elementwise comparison\n",
      "\n",
      "/home/tmurakami/app/miniconda3/envs/segment/lib/python3.8/site-packages/numpy/core/numeric.py:2378: FutureWarning:\n",
      "\n",
      "elementwise comparison failed; returning scalar instead, but in the future will perform elementwise comparison\n",
      "\n"
     ]
    },
    {
     "data": {
      "text/plain": [
       "<Image layer 'asma' at 0x7f3498fa0c10>"
      ]
     },
     "execution_count": 1682,
     "metadata": {},
     "output_type": "execute_result"
    }
   ],
   "source": [
    "# visualize the label in 3D with color\n",
    "\n",
    "points_vis = seeds_df.iloc[:,0:3].reindex(my_choice)\n",
    "viewer = napari.Viewer()\n",
    "\n",
    "color_vis = color.get_colormap('viridis').map((pc1-np.percentile(pc1,2)) / (np.percentile(pc1,98)-np.percentile(pc1,2)))#((pc1-pc1.min()) / (pc1.max()-pc1.min()))\n",
    "points = viewer.add_points(\n",
    "    points_vis,\n",
    "    size=10,\n",
    "    face_color = color_vis,\n",
    "    edge_width=0,\n",
    "    symbol='disc',\n",
    ")\n",
    "color_vis = color.get_colormap('viridis').map((pc2-np.percentile(pc2,2)) / (np.percentile(pc2,98)-np.percentile(pc2,2)))\n",
    "points = viewer.add_points(\n",
    "    points_vis,\n",
    "    size=10,\n",
    "    face_color = color_vis,\n",
    "    edge_width=0,\n",
    "    symbol='disc',\n",
    ")\n",
    "color_vis = color.get_colormap('viridis').map((layer4_flux-np.percentile(layer4_flux,2)) / (np.percentile(layer4_flux,98)-np.percentile(layer4_flux,2)))#((layer4_flux-layer4_flux.min()) / (layer4_flux.max()-layer4_flux.min()))\n",
    "#color_vis = color.get_colormap('viridis').map((layer4_flux-np.min(layer4_flux)) / (np.max(layer4_flux)-np.min(layer4_flux)))\n",
    "points = viewer.add_points(\n",
    "    points_vis,\n",
    "    size=10,\n",
    "    face_color = color_vis,\n",
    "    edge_width=0,\n",
    "    symbol='disc',\n",
    ")\n",
    "\n",
    "viewer.add_image(autofl, contrast_limits=[0,20000], rgb=False, name='auto', colormap='gray', blending='translucent', multiscale=False)\n",
    "viewer.add_image(asma_downscale, contrast_limits=[0,100000], rgb=False, name='asma', colormap='yellow', blending='additive', multiscale=False,visible=False)"
   ]
  },
  {
   "cell_type": "code",
   "execution_count": 1489,
   "id": "fadb8fe0-ea73-43a0-a103-831f9a50243f",
   "metadata": {},
   "outputs": [],
   "source": [
    "# define function to calculate variable importance in projection\n",
    "# https://github.com/scikit-learn/scikit-learn/issues/7050\n",
    "def vip(x, y, model):\n",
    "    t = model.x_scores_\n",
    "    w = model.x_weights_\n",
    "    q = model.y_loadings_\n",
    "\n",
    "    m, p = x.shape\n",
    "    _, h = t.shape\n",
    "\n",
    "    vips = np.zeros((p,))\n",
    "\n",
    "    s = np.diag(t.T @ t @ q.T @ q).reshape(h, -1)\n",
    "    total_s = np.sum(s)\n",
    "\n",
    "    for i in range(p):\n",
    "        weight = np.array([ (w[i,j] / np.linalg.norm(w[:,j]))**2 for j in range(h) ])\n",
    "        vips[i] = np.sqrt(p*(s.T @ weight)/total_s)\n",
    "\n",
    "    return vips"
   ]
  },
  {
   "cell_type": "code",
   "execution_count": 1504,
   "id": "cb020120-6692-4bb4-acc1-80c5b19158db",
   "metadata": {},
   "outputs": [],
   "source": [
    "# suppose the density is largely affected by divergence,\n",
    "# how each positions of line are affected by divergence. test this with PLS.\n",
    "# also read this. http://www.science.smith.edu/~jcrouser/SDS293/labs/lab11-py.html\n",
    "from sklearn.cross_decomposition import PLSRegression\n",
    "from sklearn import model_selection\n",
    "\n",
    "kf_10 = model_selection.KFold(n_splits=10, shuffle=True, random_state=1)\n",
    "mse = []\n",
    "\n",
    "for i in np.arange(1, 20):\n",
    "    pls = PLSRegression(n_components=i)\n",
    "    score = model_selection.cross_val_score(pls, aligned_trimmed_zscore, layer4_flux, cv=kf_10, scoring='neg_mean_squared_error').mean()\n",
    "    mse.append(-score)\n",
    "pls2 = PLSRegression(n_components=np.argmin(mse)).fit(aligned_trimmed_zscore,layer4_flux)"
   ]
  },
  {
   "cell_type": "code",
   "execution_count": 1681,
   "id": "8594c2f7-aa49-4c31-9e90-5011357a905e",
   "metadata": {},
   "outputs": [
    {
     "data": {
      "text/plain": [
       "(0.0, 1.8)"
      ]
     },
     "execution_count": 1681,
     "metadata": {},
     "output_type": "execute_result"
    },
    {
     "data": {
      "image/png": "[encoded data removed]",
      "text/plain": [
       "<Figure size 792x360 with 2 Axes>"
      ]
     },
     "metadata": {
      "needs_background": "light"
     },
     "output_type": "display_data"
    }
   ],
   "source": [
    "fig, axs = plt.subplots(ncols=2, figsize=(11,5))\n",
    "axs[0].scatter(pls2.predict(aligned_trimmed_zscore),layer4_flux,s=1)\n",
    "axs[1].plot(vip(aligned_trimmed_zscore,layer4_flux,pls2))\n",
    "axs[1].set_ylim([0, 1.8])\n",
    "# fig, axs = plt.subplots(ncols=1, figsize=(11,3))\n",
    "# axs.plot(vip(aligned_trimmed_zscore,layer4_flux,pls2))\n",
    "# axs.set_ylim([0, 1.8])\n",
    "# plt.savefig(\"/home/tmurakami/src/misc_notebooks/human_nucleus_analysis/vip_anlaysis_layer.svg\")"
   ]
  },
  {
   "cell_type": "code",
   "execution_count": 1655,
   "id": "7dad3115-0693-44b3-9c72-3c3e7ec94ec3",
   "metadata": {},
   "outputs": [
    {
     "data": {
      "text/plain": [
       "<Image layer 'original' at 0x7f34d0ff5b80>"
      ]
     },
     "execution_count": 1655,
     "metadata": {},
     "output_type": "execute_result"
    }
   ],
   "source": [
    "viewer = napari.Viewer()\n",
    "viewer.add_image(aligned_trimmed.T.to_numpy(), rgb=False, name='aligned', colormap='magma', blending='additive', multiscale=False)\n",
    "viewer.add_image(aligned_trimmed_zscore.T.to_numpy(), rgb=False, name='zscoreall', colormap='magma', blending='additive', multiscale=False)\n",
    "viewer.add_image(target_df.reindex(my_choice).to_numpy().T, rgb=False, name='original', colormap='gray', blending='additive', multiscale=False)\n",
    "# viewer.add_image(aligned_trimmed_zscore.T.to_numpy()[33:56,100:], rgb=False, name='zscoreall', colormap='magma', blending='additive', multiscale=False)\n",
    "# viewer.add_image(aligned_trimmed_zscore.T.to_numpy()[77:100,100:], rgb=False, name='zscoreall', colormap='magma', blending='additive', multiscale=False)\n",
    "# viewer.add_image(aligned_trimmed_zscore.T.to_numpy()[220:243,100:], rgb=False, name='zscoreall', colormap='magma', blending='additive', multiscale=False)"
   ]
  },
  {
   "cell_type": "code",
   "execution_count": 1553,
   "id": "5834d16b-f51f-4d60-bf7f-e0a3199446ab",
   "metadata": {},
   "outputs": [],
   "source": [
    "# how much can I reduce the variance by analysing in my way?\n",
    "# get bin and divide flux into 10 ranges\n",
    "# measure SD in each range. SD of \n",
    "bin_num = 10\n",
    "my_bin = np.arange(layer4_flux.min(),layer4_flux.max(),(layer4_flux.max()-layer4_flux.min())/bin_num)\n",
    "idx = np.digitize(layer4_flux,my_bin)\n",
    "idx_df = pd.DataFrame(idx,index=my_choice)\n",
    "sum_count = []\n",
    "for seed_num in my_choice:\n",
    "    #tes = target_df.reindex(my_choice)[idx==i]\n",
    "    cell_count = target_df.loc[seed_num,:]\n",
    "    loc = round(standard2target_ver2_df.loc[seed_num,:].iloc[layer4[-1]])\n",
    "    sum_count.append(cell_count.iloc[:loc].sum())\n",
    "sum_count_df = pd.DataFrame(sum_count,index=my_choice)"
   ]
  },
  {
   "cell_type": "code",
   "execution_count": 1564,
   "id": "d15e8cf0-b7b7-45f6-96fd-c0a191e38dd4",
   "metadata": {
    "tags": []
   },
   "outputs": [
    {
     "data": {
      "text/plain": [
       "[array([0.08312438]),\n",
       " array([0.12592723]),\n",
       " array([0.10199797]),\n",
       " array([0.11102986]),\n",
       " array([0.07035193]),\n",
       " array([0.10140826]),\n",
       " array([0.05348969]),\n",
       " array([0.13829879]),\n",
       " array([0.12956897]),\n",
       " array([0.10453193])]"
      ]
     },
     "execution_count": 1564,
     "metadata": {},
     "output_type": "execute_result"
    }
   ],
   "source": [
    "sd_percent = []\n",
    "for i in range(1,idx.max()+1):\n",
    "    sd = np.std(sum_count_df[idx==i].to_numpy())\n",
    "    sd_percent.append(sd/sum_count_df[idx==i].mean().values)\n",
    "    #sd_list.append()\n",
    "sd_percent"
   ]
  },
  {
   "cell_type": "code",
   "execution_count": 1590,
   "id": "e9c905b2-7add-4bfe-9dfa-83a27f7b2e48",
   "metadata": {},
   "outputs": [
    {
     "data": {
      "text/plain": [
       "<Image layer 'original' at 0x7f35475aa250>"
      ]
     },
     "execution_count": 1590,
     "metadata": {},
     "output_type": "execute_result"
    }
   ],
   "source": [
    "viewer = napari.Viewer()\n",
    "viewer.add_image(aligned_ver2_df.reindex(my_choice).T.to_numpy()[:300,620:1310], rgb=False, name='aligned', colormap='viridis', blending='additive', multiscale=False)\n",
    "#viewer.add_image(aligned_trimmed_zscore.T.to_numpy(), rgb=False, name='zscoreall', colormap='viridis', blending='additive', multiscale=False)\n",
    "viewer.add_image(target_df.reindex(my_choice).to_numpy().T[:300,620:1310], rgb=False, name='original', colormap='gray', blending='additive', multiscale=False)\n",
    "#viewer.add_image(aligned_trimmed_zscore.T.to_numpy()[:,::4], rgb=False, name='zscore_skipped', colormap='viridis', blending='additive', multiscale=False)\n"
   ]
  },
  {
   "cell_type": "code",
   "execution_count": 1698,
   "id": "bf393635-a0a3-4c35-b679-fd98655ebd58",
   "metadata": {},
   "outputs": [],
   "source": [
    "# can I estimate radial glial density with aSMA?\n",
    "skeleton = np.load(os.path.join(io_directory,'skeleton.npy'))"
   ]
  },
  {
   "cell_type": "code",
   "execution_count": 1716,
   "id": "a14e3169-38c3-431f-b019-145dd8ba4ea8",
   "metadata": {},
   "outputs": [
    {
     "data": {
      "text/plain": [
       "<Image layer 'skeleton' at 0x7f3489dd8340>"
      ]
     },
     "execution_count": 1716,
     "metadata": {},
     "output_type": "execute_result"
    }
   ],
   "source": [
    "viewer = napari.Viewer()\n",
    "\n",
    "viewer.add_image(autofl, contrast_limits=[0,20000], rgb=False, name='auto', colormap='gray', blending='translucent', multiscale=False)\n",
    "viewer.add_image(asma_downscale, contrast_limits=[0,100000], rgb=False, name='asma', colormap='yellow', blending='additive', multiscale=False,visible=False)\n",
    "viewer.add_image(asma_downscale*(~tes), contrast_limits=[0,100000], rgb=False, name='asma', colormap='yellow', blending='additive', multiscale=False,visible=False)\n",
    "viewer.add_image(skeleton, rgb=False, name='skeleton', colormap='yellow', blending='additive', multiscale=False,visible=False)\n",
    "#viewer.add_image(skeleton*(~tes), contrast_limits=[0,50],rgb=False, name='segment', colormap='yellow', blending='additive', multiscale=False,visible=False)\n"
   ]
  },
  {
   "cell_type": "code",
   "execution_count": 1282,
   "id": "eb4d866a-0a67-4c18-b082-0928bb8abe2e",
   "metadata": {},
   "outputs": [
    {
     "name": "stderr",
     "output_type": "stream",
     "text": [
      "100%|███████████████████████████████████████████████████████████████████████████████████████████████████████████████████████████| 1119756/1119756 [11:04<00:00, 1685.16it/s]\n"
     ]
    }
   ],
   "source": [
    "'''DBSCAN did not work because it connects all the population...'''\n",
    "# # should I take into account the spatial information or clustering?\n",
    "# # https://stackoverflow.com/questions/66406003/clustering-geospatial-data-on-coordinates-and-non-spatial-feature\n",
    "# # how about getting pairwise mutual information?\n",
    "# # both in before and after alignment.\n",
    "# # before alignment. the length of vectors are adjusted to be same by simply cutting off the longer one.\n",
    "# standard_end_pos = 300\n",
    "# combination_mi_df = pd.DataFrame(columns=my_choice,index=my_choice)\n",
    "# for s1, s2 in tqdm(list(itertools.combinations(my_choice,2))):\n",
    "#     end_pos1 = round(standard2target_ver2_df.loc[s1,standard_end_pos])\n",
    "#     end_pos2 = round(standard2target_ver2_df.loc[s2,standard_end_pos])\n",
    "#     end_pos = np.min([end_pos1,end_pos2])\n",
    "#     vec1 = target_df.loc[s1,:].to_numpy()[:end_pos]\n",
    "#     vec2 = target_df.loc[s2,:].to_numpy()[:end_pos]\n",
    "#     combination_mi_df.loc[s1,s2] = morphotrack.track.mutual_information(vec1, vec2, bins=10)\n",
    "#     combination_mi_df.loc[s2,s1] = combination_mi_df.loc[s1,s2]\n",
    "# # to fill diagonal\n",
    "# for s in my_choice:\n",
    "#     end_pos = round(standard2target_ver2_df.loc[s,standard_end_pos])\n",
    "#     vec = target_df.loc[s,:].to_numpy()[:end_pos]\n",
    "#     combination_mi_df.loc[s,s] = morphotrack.track.mutual_information(vec, vec, bins=10)\n",
    "    \n",
    "# # cosine similarity ver\n",
    "# # before alignment. the length of vectors are adjusted to be same by simply cutting off the longer one.\n",
    "# standard_end_pos = 300\n",
    "# combination_cs_df = pd.DataFrame(columns=my_choice,index=my_choice,dtype=float)\n",
    "# for s1, s2 in tqdm(list(itertools.combinations(my_choice,2))):\n",
    "#     end_pos1 = round(standard2target_ver2_df.loc[s1,standard_end_pos])\n",
    "#     end_pos2 = round(standard2target_ver2_df.loc[s2,standard_end_pos])\n",
    "#     end_pos = np.min([end_pos1,end_pos2])\n",
    "#     vec1 = target_df.loc[s1,:].to_numpy()[:end_pos]\n",
    "#     vec2 = target_df.loc[s2,:].to_numpy()[:end_pos]\n",
    "#     combination_cs_df.loc[s1,s2] = morphotrack.track.cosine_similarity(vec1, vec2)\n",
    "#     combination_cs_df.loc[s2,s1] = combination_cs_df.loc[s1,s2]\n",
    "# # to fill diagonal\n",
    "# for s in my_choice:\n",
    "#     end_pos = round(standard2target_ver2_df.loc[s,standard_end_pos])\n",
    "#     vec = target_df.loc[s,:].to_numpy()[:end_pos]\n",
    "#     combination_cs_df.loc[s,s] = morphotrack.track.cosine_similarity(vec, vec)\n",
    "    \n",
    "# # after alignment. \n",
    "# combination_mi_aligned_df = pd.DataFrame(columns=my_choice,index=my_choice, dtype=float)\n",
    "# for s1, s2 in tqdm(list(itertools.combinations(my_choice,2))):\n",
    "#     vec1 = aligned_ver2_df.loc[s1,:].to_numpy()[:standard_end_pos]\n",
    "#     vec2 = aligned_ver2_df.loc[s2,:].to_numpy()[:standard_end_pos]\n",
    "#     combination_mi_aligned_df.loc[s1,s2] = morphotrack.track.mutual_information(vec1, vec2, bins=10)\n",
    "#     combination_mi_aligned_df.loc[s2,s1] = combination_mi_aligned_df.loc[s1,s2]\n",
    "\n",
    "# # to fill diagonal\n",
    "# for s in my_choice:\n",
    "#     vec = aligned_ver2_df.loc[s,:].to_numpy()[:standard_end_pos]\n",
    "#     combination_mi_aligned_df.loc[s,s] = morphotrack.track.mutual_information(vec, vec, bins=10)\n",
    "    \n",
    "# # DBSCAN using mutual information\n",
    "# import hdbscan\n",
    "# db = hdbscan.HDBSCAN(metric='precomputed',min_cluster_size=6)\n",
    "# clusterer = db.fit((1/combination_cs_df-1).to_numpy())"
   ]
  },
  {
   "cell_type": "code",
   "execution_count": 1604,
   "id": "aac18ba7-d511-4c05-93d2-60a102f46a70",
   "metadata": {},
   "outputs": [],
   "source": [
    "values = []\n",
    "\n",
    "for i in range(4):\n",
    "    #val = layer_cell_count[i,:]/layer_cell_count[i+1,:] #metric_of_choice\n",
    "    val = np.log10(layer_cell_count[i,:]) - np.log10(layer_cell_count[i+1,:])\n",
    "    # val = layer_cell_count_df.reindex(my_choice).to_numpy().T[i,:]/layer_cell_count_df.reindex(my_choice).to_numpy().T[i+1,:]\n",
    "    # plow = np.percentile(val,15)\n",
    "    # phigh = np.percentile(val,85)\n",
    "    \n",
    "    # val[val<plow] = plow\n",
    "    # val[val>phigh] = phigh\n",
    "    \n",
    "    #values.append((val - np.median(val)) / (phigh - plow))\n",
    "    values.append(val)\n",
    "val_df = pd.DataFrame(np.vstack(values).T,index=seed_choice)\n",
    "val_df = val_df.reindex(my_choice)"
   ]
  },
  {
   "cell_type": "code",
   "execution_count": 1605,
   "id": "ee7bacc1-655e-4aba-9ec2-9a4fdc3c3333",
   "metadata": {
    "tags": []
   },
   "outputs": [
    {
     "data": {
      "image/png": "[encoded data removed]",
      "text/plain": [
       "<Figure size 720x720 with 4 Axes>"
      ]
     },
     "metadata": {
      "needs_background": "light"
     },
     "output_type": "display_data"
    }
   ],
   "source": [
    "import seaborn as sns\n",
    "#from scipy.stats import zscore\n",
    "from sklearn.cluster import AgglomerativeClustering\n",
    "\n",
    "# my_mtx = val_df.reindex(my_choice).T\n",
    "cluster = AgglomerativeClustering(n_clusters=3, affinity='euclidean', linkage='ward').fit(val_df)\n",
    "label = cluster.labels_\n",
    "# heatmap should look boring. This is the sampling highly biased onto the region with higher surface area\n",
    "sns.clustermap(val_df.T, row_cluster=False)\n",
    "label_df = pd.Series(label,index=my_choice)"
   ]
  },
  {
   "cell_type": "code",
   "execution_count": 1606,
   "id": "12f49211-c7cc-446f-86e6-c1345f7ae0c1",
   "metadata": {},
   "outputs": [
    {
     "data": {
      "image/png": "[encoded data removed]",
      "text/plain": [
       "<Figure size 1440x360 with 6 Axes>"
      ]
     },
     "metadata": {
      "needs_background": "light"
     },
     "output_type": "display_data"
    }
   ],
   "source": [
    "_, freq = np.unique(label, return_counts=True)\n",
    "val_df_norm = (val_df - val_df.min(axis=0)) / (val_df.max(axis=0) - val_df.min(axis=0))\n",
    "\n",
    "fig, axs = plt.subplots(ncols=label.max()+1, figsize=(20,5))\n",
    "for i in range(label.max()+1):\n",
    "    sns.heatmap(val_df_norm[label==np.argsort(freq)[-i-1]].T,ax=axs[i],vmin=0.0,vmax=1.0)"
   ]
  },
  {
   "cell_type": "code",
   "execution_count": 1126,
   "id": "d5b335ce-a08c-4e7c-bbc5-2b928fdc5a6d",
   "metadata": {},
   "outputs": [],
   "source": [
    "# tes = val_df.groupby(label).sample(n=freq.min())"
   ]
  },
  {
   "cell_type": "code",
   "execution_count": 1614,
   "id": "8e52342d-0a23-4dc5-a3c8-b84303a477b5",
   "metadata": {},
   "outputs": [
    {
     "name": "stdout",
     "output_type": "stream",
     "text": [
      "[0.46164911 0.2953492  0.12824598 0.11475571]\n",
      "1.0\n"
     ]
    }
   ],
   "source": [
    "# do pca to extract \"gyrus-ness\"\n",
    "from sklearn.decomposition import PCA\n",
    "pca = PCA(n_components=4)\n",
    "pca.fit(val_df)\n",
    "pcs = pca.transform(val_df)\n",
    "pc1 = pcs[:,0]\n",
    "pc2 = pcs[:,1]\n",
    "print(pca.explained_variance_ratio_)\n",
    "print(pca.explained_variance_ratio_.sum())"
   ]
  },
  {
   "cell_type": "code",
   "execution_count": 1720,
   "id": "e5960bd9-29a8-4ebd-8553-bb12f57e2515",
   "metadata": {
    "tags": []
   },
   "outputs": [
    {
     "data": {
      "image/png": "[encoded data removed]",
      "text/plain": [
       "<Figure size 1080x360 with 3 Axes>"
      ]
     },
     "metadata": {
      "needs_background": "light"
     },
     "output_type": "display_data"
    }
   ],
   "source": [
    "fig, axs = plt.subplots(ncols=3, figsize=(15,5))\n",
    "layer4_flux = layer_local_flux_df.reindex(my_choice).loc[:,2]\n",
    "for i in range(label.max()+1):\n",
    "    axs[0].scatter(layer4_flux[label==i],pc1[label==i],s=1)\n",
    "    axs[1].scatter(layer4_flux[label==i],pc2[label==i],s=1)\n",
    "    axs[2].scatter(pc1[label==i],pc2[label==i],s=1)"
   ]
  },
  {
   "cell_type": "code",
   "execution_count": 1230,
   "id": "1e83c023-a157-4d7d-abc3-7258e1c594fe",
   "metadata": {},
   "outputs": [
    {
     "data": {
      "text/plain": [
       "<seaborn.axisgrid.FacetGrid at 0x7f3490ebe790>"
      ]
     },
     "execution_count": 1230,
     "metadata": {},
     "output_type": "execute_result"
    },
    {
     "data": {
      "image/png": "[encoded data removed]",
      "text/plain": [
       "<Figure size 411.875x360 with 1 Axes>"
      ]
     },
     "metadata": {
      "needs_background": "light"
     },
     "output_type": "display_data"
    }
   ],
   "source": [
    "sns.displot(pd.DataFrame(np.vstack([layer4_flux,label]).T),x=0,hue=1, kind=\"kde\",common_norm=False,hue_order=(0,1,3,5,2,4))"
   ]
  },
  {
   "cell_type": "code",
   "execution_count": 1612,
   "id": "ffc15247-8203-4b8f-9983-c0c985faa124",
   "metadata": {},
   "outputs": [
    {
     "name": "stderr",
     "output_type": "stream",
     "text": [
      "/home/tmurakami/app/miniconda3/envs/segment/lib/python3.8/site-packages/numpy/core/numeric.py:2378: FutureWarning:\n",
      "\n",
      "elementwise comparison failed; returning scalar instead, but in the future will perform elementwise comparison\n",
      "\n",
      "/home/tmurakami/app/miniconda3/envs/segment/lib/python3.8/site-packages/numpy/core/numeric.py:2378: FutureWarning:\n",
      "\n",
      "elementwise comparison failed; returning scalar instead, but in the future will perform elementwise comparison\n",
      "\n",
      "/home/tmurakami/app/miniconda3/envs/segment/lib/python3.8/site-packages/numpy/core/numeric.py:2378: FutureWarning:\n",
      "\n",
      "elementwise comparison failed; returning scalar instead, but in the future will perform elementwise comparison\n",
      "\n"
     ]
    },
    {
     "data": {
      "text/plain": [
       "<Image layer 'asma' at 0x7f3438418bb0>"
      ]
     },
     "execution_count": 1612,
     "metadata": {},
     "output_type": "execute_result"
    }
   ],
   "source": [
    "# visualize the label in 3D with color\n",
    "\n",
    "points_vis = seeds_df.iloc[:,0:3].reindex(my_choice)\n",
    "viewer = napari.Viewer()\n",
    "\n",
    "#('viridis').map((pc1-np.percentile(pc1,2)) / (np.percentile(pc1,98)-np.percentile(pc1,2)))\n",
    "# color_vis = color.get_colormap('viridis').map((label-label.min()) / (label.max()-label.min()))\n",
    "# points = viewer.add_points(\n",
    "#     points_vis,\n",
    "#     size=10,\n",
    "#     face_color = color_vis,\n",
    "#     edge_width=0,\n",
    "#     symbol='disc',\n",
    "# )\n",
    "\n",
    "color_vis = color.get_colormap('viridis').map((pc1-np.percentile(pc1,2)) / (np.percentile(pc1,98)-np.percentile(pc1,2)))\n",
    "points = viewer.add_points(\n",
    "    points_vis,\n",
    "    size=10,\n",
    "    face_color = color_vis,\n",
    "    edge_width=0,\n",
    "    symbol='disc',\n",
    ")\n",
    "color_vis = color.get_colormap('viridis').map((pc2-np.percentile(pc2,2)) / (np.percentile(pc2,98)-np.percentile(pc2,2)))\n",
    "points = viewer.add_points(\n",
    "    points_vis,\n",
    "    size=10,\n",
    "    face_color = color_vis,\n",
    "    edge_width=0,\n",
    "    symbol='disc',\n",
    ")\n",
    "color_vis = color.get_colormap('viridis').map((layer4_flux-np.percentile(layer4_flux,2)) / (np.percentile(layer4_flux,98)-np.percentile(layer4_flux,2)))#(layer4_flux-layer4_flux.min()) / (layer4_flux.max()-layer4_flux.min()))\n",
    "points = viewer.add_points(\n",
    "    points_vis,\n",
    "    size=10,\n",
    "    face_color = color_vis,\n",
    "    edge_width=0,\n",
    "    symbol='disc',\n",
    ")\n",
    "\n",
    "viewer.add_image(autofl, contrast_limits=[0,20000], rgb=False, name='auto', colormap='gray', blending='translucent', multiscale=False)\n",
    "viewer.add_image(asma_downscale, contrast_limits=[0,20000], rgb=False, name='asma', colormap='yellow', blending='additive', multiscale=False,visible=False)"
   ]
  },
  {
   "cell_type": "code",
   "execution_count": 1159,
   "id": "aa131475-3d41-4982-a221-b5dda938d09e",
   "metadata": {},
   "outputs": [],
   "source": [
    "viewer = napari.Viewer()\n",
    "shift = -100\n",
    "\n",
    "for i in range(label_df.max()+1):\n",
    "    my_tes = aligned_ver2_df.reindex(label_df[label_df==i].index)\n",
    "    #my_tes = zscore(((my_tes) - (np.roll(my_tes,shift,axis=0))),axis=0)\n",
    "    viewer.add_image(my_tes.to_numpy().T, rgb=False, name='auto', colormap='gray', blending='additive', multiscale=False) # ((my_tes) - (np.roll(my_tes,shift,axis=0)))"
   ]
  },
  {
   "cell_type": "code",
   "execution_count": null,
   "id": "23189ac2-491a-46d3-8c79-134adaf9c11d",
   "metadata": {},
   "outputs": [],
   "source": []
  },
  {
   "cell_type": "code",
   "execution_count": null,
   "id": "78307e33-7159-4921-8c08-c39e67d1e5da",
   "metadata": {},
   "outputs": [],
   "source": [
    "# def my_count_around_position(positions, flow, coords_tree, half_thickness, radius=20, size=None):\n",
    "#     \"\"\"\n",
    "#     The function scan along a given coordinate and count the neighbors in a column.\n",
    "#         position (ndarray): center of the column\n",
    "#         flow (ndarray): axis of the column\n",
    "#         coords_tree (ndarray or scipy kdtree): kdtree of the point cloud\n",
    "#         half_thickness (float): half thickness of the column\n",
    "#         radius (float): the radius of the column\n",
    "#         return_all (bool): True to get counts, index and\n",
    "\n",
    "#     return: counts, index, and coordinates\n",
    "#     \"\"\"\n",
    "#     # convert coords to kdtree\n",
    "#     if not isinstance(coords_tree, spatial.kdtree.KDTree):\n",
    "#         coords_tree = spatial.KDTree(coords_tree)\n",
    "\n",
    "#     coords = coords_tree.data\n",
    "#     # get index of the neighbors. idx is an array of lists.\n",
    "#     indices = coords_tree.query_ball_point(positions, r=radius, workers=-1)\n",
    "\n",
    "#     # coords_in_thickness = []\n",
    "#     # column_sum = []\n",
    "#     # idx_in_thickness = []\n",
    "#     print('1')\n",
    "    \n",
    "#     @ray.remote\n",
    "#     def count_in_thickness(idx, neighbor_coords, p, f):\n",
    "#         # neighbor_coords = coords[idx, :]\n",
    "#         in_thickness, subidx = morphotrack.points.isin_thickness(half_thickness, p, f, neighbor_coords)\n",
    "#         count_in_thickness = in_thickness.size\n",
    "#         idx_in_thickness = np.asarray(idx)[subidx]\n",
    "        \n",
    "#         return in_thickness, count_in_thickness, idx_in_thickness\n",
    "        \n",
    "#     ans = []\n",
    "\n",
    "#     # convert index to the xyz coordinate. to each array element (i.e. list), convert to coord.\n",
    "#     for i, idx in enumerate(indices.tolist()):\n",
    "#         neighbor_coords = coords[idx, :]\n",
    "#         p = positions[i, :]\n",
    "#         f = flow[i, :]\n",
    "#         ans.append(count_in_thickness.remote(idx, neighbor_coords, p, f))\n",
    "\n",
    "#     # column_sum = np.asarray(column_sum)\n",
    "#     # if size is not None:\n",
    "#     #     column_sum = np.pad(column_sum, (0, size - column_sum.size), 'constant',\n",
    "#     #                         constant_values=(0, 0))  # pad to the size\n",
    "\n",
    "#     print('2')\n",
    "    \n",
    "#     ans = ray.get(ans)\n",
    "#     print('3')\n",
    "#     return ans\n",
    "\n",
    "\n",
    "# values = tracker.t_positions.copy()\n",
    "# values = values.stack(pos=['time', 'track'])\n",
    "# selection = ~np.isnan(values.data.T).any(axis=1)\n",
    "\n",
    "# values2 = flow.stack(pos=['time', 'track'])\n",
    "# selection2 = ~np.isnan(values2.data.T).any(axis=1)\n",
    "\n",
    "# selection = selection & selection2\n",
    "\n",
    "# values_selected = values.isel(pos=selection)\n",
    "# values2_selected = values2.isel(pos=selection)\n",
    "\n",
    "\n",
    "# half_thickness = 2.5 # * 10 micrometer. half of the thickness\n",
    "# radius = 10 # * 10 micrometer\n",
    "\n",
    "# tes = my_count_around_position(values_selected.data.T, values2_selected.data.T, coords_tree, half_thickness, radius)"
   ]
  }
 ],
 "metadata": {
  "kernelspec": {
   "display_name": "segment",
   "language": "python",
   "name": "segment"
  },
  "language_info": {
   "codemirror_mode": {
    "name": "ipython",
    "version": 3
   },
   "file_extension": ".py",
   "mimetype": "text/x-python",
   "name": "python",
   "nbconvert_exporter": "python",
   "pygments_lexer": "ipython3",
   "version": "3.8.10"
  }
 },
 "nbformat": 4,
 "nbformat_minor": 5
}
