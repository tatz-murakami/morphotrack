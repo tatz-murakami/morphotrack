{
 "cells": [
  {
   "cell_type": "code",
   "execution_count": 1,
   "id": "e4ca8588-929b-422c-8011-1d8bfc2a6cd5",
   "metadata": {},
   "outputs": [
    {
     "name": "stderr",
     "output_type": "stream",
     "text": [
      "/home/tmurakami/app/miniconda3/envs/segment/lib/python3.8/site-packages/skimage/io/manage_plugins.py:23: UserWarning: Your installed pillow version is < 8.1.2. Several security issues (CVE-2021-27921, CVE-2021-25290, CVE-2021-25291, CVE-2021-25293, and more) have been fixed in pillow 8.1.2 or higher. We recommend to upgrade this library.\n",
      "  from .collection import imread_collection_wrapper\n"
     ]
    }
   ],
   "source": [
    "import numpy as np\n",
    "import pandas as pd\n",
    "\n",
    "from skimage import io\n",
    "from skimage.filters import threshold_otsu\n",
    "from skimage.morphology import binary_dilation# , ball\n",
    "\n",
    "import os\n",
    "from matplotlib import pyplot as plt\n",
    "import napari\n",
    "\n",
    "from scipy import spatial\n",
    "# from scipy import ndimage as ndi\n",
    "from scipy.ndimage import map_coordinates\n",
    "# from scipy.integrate import solve_ivp\n",
    "from scipy import interpolate\n",
    "\n",
    "# from sklearn.preprocessing import PolynomialFeatures, normalize\n",
    "# from sklearn.decomposition import PCA\n",
    "# from sklearn import linear_model\n",
    "# from sklearn import manifold\n",
    "\n",
    "# from sklearn_extra.cluster import KMedoids\n",
    "\n",
    "import zarr\n",
    "\n",
    "import pydeform.sitk_api as pydeform\n",
    "import itertools\n",
    "import ray\n",
    "from tqdm import tqdm\n",
    "import ants\n",
    "import SimpleITK as sitk\n",
    "\n",
    "from vispy import color\n",
    "from vispy.color import Colormap\n",
    "\n",
    "import pickle\n",
    "import xarray as xr"
   ]
  },
  {
   "cell_type": "code",
   "execution_count": 2,
   "id": "d7e491e1-7f93-479d-aec3-d983aeb22587",
   "metadata": {
    "tags": []
   },
   "outputs": [
    {
     "data": {
      "text/plain": [
       "<module 'morphotrack.nonlinear_align' from '/home/tmurakami/src/morphotrack/morphotrack/nonlinear_align.py'>"
      ]
     },
     "execution_count": 2,
     "metadata": {},
     "output_type": "execute_result"
    }
   ],
   "source": [
    "import importlib\n",
    "from morphotrack import trace\n",
    "import morphotrack.variables\n",
    "import morphotrack.points\n",
    "import morphotrack.track\n",
    "import morphotrack.binary\n",
    "import morphotrack.image\n",
    "import morphotrack.align\n",
    "import morphotrack.nonlinear_align\n",
    "import morphotrack.distance\n",
    "import morphotrack.dtw\n",
    "importlib.reload(morphotrack.nonlinear_align)\n"
   ]
  },
  {
   "cell_type": "code",
   "execution_count": 3,
   "id": "c118ef00-20ae-4fb0-bcef-739ed08c6030",
   "metadata": {},
   "outputs": [],
   "source": [
    "io_directory = '/mnt/ampa_data01/tmurakami/220806_visual_01_R01/morphotrack'\n",
    "vessel = io.imread(os.path.join(io_directory,'R01_ch561_10um.tif'))\n",
    "\n",
    "# load nuclei\n",
    "nuclei = io.imread(os.path.join(io_directory,'R01_ch488_10um.tif'))# autofl_zarr['0'][:]\n",
    "voxel_size = [10, 10, 10]\n",
    "\n",
    "# load a mask of a white matter \n",
    "white_matter = io.imread(os.path.join(io_directory,'white_matter.tif'))!=0\n",
    "\n",
    "# load a mask of a layer 1\n",
    "layer1 = io.imread(os.path.join(io_directory,'l1.tif'))!=0\n",
    "\n",
    "# segmentated tissue\n",
    "segmented_tissue = io.imread(os.path.join(io_directory,'tissue_mask.tif'))!=0\n",
    "\n",
    "# read cellular coordinate\n",
    "cells_info = pd.read_csv('/mnt/ampa_data01/tmurakami/220806_visual_01_R01/R02_R01/R02ch488_to_R01_segmentation/coord_centroids.csv',index_col=0) # the unit is original voxel.\n",
    "scaling_factor = np.asarray([3,0.65,0.65])\n",
    "cell_coords = cells_info.loc[:,['centroid-0','centroid-1','centroid-2']] * scaling_factor / 10# convert unit to 10 um for consistency\n",
    "cell_coords = cell_coords.to_numpy()\n",
    "\n",
    "# load model\n",
    "clf = pickle.load(open(os.path.join(io_directory,'model.pkl'), 'rb'))\n",
    "norm_flow_on_coordinate = morphotrack.points.model_to_norm_flow_func(clf.degree, clf)"
   ]
  },
  {
   "cell_type": "code",
   "execution_count": 4,
   "id": "44394cc2-f4aa-4e44-b4d4-3a64edcdebed",
   "metadata": {},
   "outputs": [
    {
     "data": {
      "text/plain": [
       "<Image layer 'segmented_tissue' at 0x7f6018744a30>"
      ]
     },
     "execution_count": 4,
     "metadata": {},
     "output_type": "execute_result"
    }
   ],
   "source": [
    "# visual sanity check\n",
    "viewer= napari.Viewer()\n",
    "viewer.add_image(layer1)\n",
    "viewer.add_image(white_matter)\n",
    "viewer.add_image(nuclei)\n",
    "viewer.add_image(segmented_tissue)"
   ]
  },
  {
   "cell_type": "code",
   "execution_count": 5,
   "id": "8f7ac669-2a5f-4ee2-877b-34e1dfc45586",
   "metadata": {},
   "outputs": [
    {
     "name": "stdout",
     "output_type": "stream",
     "text": [
      "CPU times: user 5min 47s, sys: 1.96 s, total: 5min 49s\n",
      "Wall time: 5min 49s\n"
     ]
    }
   ],
   "source": [
    "%%time\n",
    "### selection of the outer most cells.\n",
    "# # convex hull is not successful. Try alpha shape instead.\n",
    "# # 750,000 takes ~7 min.\n",
    "ver, nor = morphotrack.points.cloud_to_alphashape(cell_coords, downsample=10, alpha=0.1, return_normal=True)"
   ]
  },
  {
   "cell_type": "code",
   "execution_count": 34,
   "id": "50662fca-fd9b-45f5-983c-48254b62a072",
   "metadata": {},
   "outputs": [],
   "source": [
    "# s = binary_dilation(segmented_tissue,ball(5))[tuple(ver.astype(int).T)]\n",
    "# ver = ver[s]\n",
    "# nor = nor[s]"
   ]
  },
  {
   "cell_type": "code",
   "execution_count": 45,
   "id": "3acd44ac-3d44-42a2-ba90-889f0e4b7404",
   "metadata": {
    "collapsed": true,
    "jupyter": {
     "outputs_hidden": true
    },
    "tags": []
   },
   "outputs": [
    {
     "name": "stderr",
     "output_type": "stream",
     "text": [
      "/home/tmurakami/app/miniconda3/envs/segment/lib/python3.8/site-packages/numpy/core/numeric.py:2449: FutureWarning:\n",
      "\n",
      "elementwise comparison failed; returning scalar instead, but in the future will perform elementwise comparison\n",
      "\n",
      "/home/tmurakami/app/miniconda3/envs/segment/lib/python3.8/site-packages/numpy/core/numeric.py:2449: FutureWarning:\n",
      "\n",
      "elementwise comparison failed; returning scalar instead, but in the future will perform elementwise comparison\n",
      "\n"
     ]
    },
    {
     "data": {
      "text/plain": [
       "<Points layer 'points' at 0x7f6018da8c10>"
      ]
     },
     "execution_count": 45,
     "metadata": {},
     "output_type": "execute_result"
    }
   ],
   "source": [
    "selection = morphotrack.points.face_selection(ver, nor, norm_flow_on_coordinate(ver), n_clusters=3, cluster_selection='min')\n",
    "points = ver[selection]\n",
    "\n",
    "viewer = napari.Viewer()\n",
    "viewer.add_image(nuclei, rgb=False, name='nuclei', colormap='gray', blending='additive')\n",
    "viewer.add_points(\n",
    "    ver,\n",
    "    size=5,\n",
    "    face_color = 'green',\n",
    "    edge_width=0,\n",
    "    symbol='disc',\n",
    ")\n",
    "viewer.add_points(\n",
    "    points,\n",
    "    size=5,\n",
    "    face_color = 'white',\n",
    "    edge_width=0,\n",
    "    symbol='disc',\n",
    ")"
   ]
  },
  {
   "cell_type": "code",
   "execution_count": 7,
   "id": "72074bf2-0f4a-4840-847f-2b6c1ad274a6",
   "metadata": {},
   "outputs": [],
   "source": [
    "# np.save('/mnt/ampa_data01/tmurakami/220305_SMA_nuc_middlehuman/vessel_analysis/surface_points.npy',points)\n",
    "# points = np.load('/mnt/ampa_data01/tmurakami/220305_SMA_nuc_middlehuman/vessel_analysis/surface_points.npy')\n",
    "# seeds_df = pd.DataFrame(ver[selection], columns=['x0','x1','x2'])"
   ]
  },
  {
   "cell_type": "markdown",
   "id": "009998ce-9ef4-472d-b15b-e43119b0af0a",
   "metadata": {},
   "source": [
    "## Seeding and extending"
   ]
  },
  {
   "cell_type": "code",
   "execution_count": 46,
   "id": "19512fb1-da68-4444-bfc8-4e728f6aa286",
   "metadata": {
    "tags": []
   },
   "outputs": [],
   "source": [
    "polynomial_vectorfield = morphotrack.track.polynomial_vectorfield_generator(clf.coef_, clf.degree)\n",
    "tracker = morphotrack.track.FieldTracker(polynomial_vectorfield, points) # make a FieldTracker object\n",
    "\n",
    "# tracing\n",
    "t_start = 0\n",
    "t_end = 500\n",
    "tracker.solve_ode(t_start,t_end)"
   ]
  },
  {
   "cell_type": "code",
   "execution_count": 47,
   "id": "931de2ab-f072-4c8c-ab13-c6aaff369c0f",
   "metadata": {},
   "outputs": [
    {
     "data": {
      "text/plain": [
       "<Image layer 'mask' at 0x7f5e8abba9a0>"
      ]
     },
     "execution_count": 47,
     "metadata": {},
     "output_type": "execute_result"
    }
   ],
   "source": [
    "# Visualize tracks\n",
    "position = tracker.t_positions.stack(pos=['time', 'track']).data.T\n",
    "position[np.isnan(position)] = 0\n",
    "flow_vector = abs(norm_flow_on_coordinate(position))\n",
    "\n",
    "flow_img = np.zeros(vessel.shape+(vessel.ndim,))\n",
    "for i in range(vessel.ndim):\n",
    "    flow_img[...,i] = morphotrack.image.fill_value_in_range(flow_img[...,i],position.T,flow_vector[:,i])\n",
    "    flow_img[...,i] = flow_img[...,i]#*(segmented_tissue!=0)\n",
    "    \n",
    "viewer = napari.Viewer()\n",
    "viewer.add_image(vessel, contrast_limits=[0,20000], rgb=False, name='sma', colormap='gray', blending='additive')\n",
    "\n",
    "palette = [\n",
    "    Colormap([[1.0, 1.0, 1.0, 0.0], [1.0, 0.0, 0.0, 1.0]]),\n",
    "    Colormap([[1.0, 1.0, 1.0, 0.0], [0.0, 1.0, 0.0, 1.0]]),\n",
    "    Colormap([[1.0, 1.0, 1.0, 0.0], [0.0, 0.0, 1.0, 1.0]])]\n",
    "\n",
    "for i in range(vessel.ndim):\n",
    "    viewer.add_image(flow_img[...,i], contrast_limits=[0,1], rgb=False, name=i, colormap=palette[i], blending='translucent')\n",
    "# viewer.add_image(flow_img, rgb=True, contrast_limits=[0,1], name=0,  blending='translucent')\n",
    "viewer.add_image(segmented_tissue, contrast_limits=[0,2], rgb=False, name='mask', colormap='cyan', blending='additive', multiscale=False, visible=False)"
   ]
  },
  {
   "cell_type": "code",
   "execution_count": 48,
   "id": "9c287077-4623-4d39-9307-4ec8b1690eaa",
   "metadata": {},
   "outputs": [],
   "source": [
    "# track = tracker.t_positions\n",
    "flow = tracker.apply_function_to_position(norm_flow_on_coordinate)"
   ]
  },
  {
   "cell_type": "markdown",
   "id": "56e6e5dc-cae2-4b9d-8b73-0f6a3260aa62",
   "metadata": {},
   "source": [
    "## Count in-kernel cells"
   ]
  },
  {
   "cell_type": "code",
   "execution_count": 49,
   "id": "b3b601be-571f-4a46-858b-6067dbdb67ee",
   "metadata": {
    "tags": []
   },
   "outputs": [
    {
     "name": "stdout",
     "output_type": "stream",
     "text": [
      "CPU times: user 6min 49s, sys: 40.7 s, total: 7min 30s\n",
      "Wall time: 4min 49s\n"
     ]
    }
   ],
   "source": [
    "%%time\n",
    "half_thickness = 2.5 # * 10 micrometer. half of the thickness\n",
    "radius = 10 # * 10 micrometer\n",
    "kernel_counts = tracker.count_around_position_in_disk_kernel(cell_coords, half_thickness, radius)\n",
    "kernel_counts = kernel_counts.fillna(0)"
   ]
  },
  {
   "cell_type": "code",
   "execution_count": 50,
   "id": "c8905426-dfbf-406f-84b2-83011a05d905",
   "metadata": {},
   "outputs": [
    {
     "data": {
      "text/plain": [
       "<Image layer 'kernel_counts' at 0x7f6018317100>"
      ]
     },
     "execution_count": 50,
     "metadata": {},
     "output_type": "execute_result"
    }
   ],
   "source": [
    "viewer = napari.Viewer()\n",
    "viewer.add_image(kernel_counts)"
   ]
  },
  {
   "cell_type": "markdown",
   "id": "943ef160-acb5-4671-ab3c-428110f92d36",
   "metadata": {},
   "source": [
    "## Filtering with white matter and tissue shape"
   ]
  },
  {
   "cell_type": "code",
   "execution_count": 51,
   "id": "2ac10b90-2ebd-4087-b0ad-70b9a8a37f7c",
   "metadata": {
    "tags": []
   },
   "outputs": [],
   "source": [
    "# get binary mask for gray matter\n",
    "gray_candidate = (1-white_matter)*segmented_tissue\n",
    "\n",
    "# get segments where tracks are in gray matter\n",
    "gray_loc = tracker.fetch_value_in_position(gray_candidate)\n",
    "gray_loc = gray_loc.astype(float).fillna(0)\n",
    "gray_loc.data = np.apply_along_axis(lambda a:morphotrack.binary.extract_largest_object_from_binary(a, np.ones(3)), axis=1, arr=gray_loc.data) # extract the longest segment\n",
    "\n",
    "# make filter based on the size of the segment\n",
    "filters = []\n",
    "size_threshold = 50\n",
    "filters.append(gray_loc.sum(dim='time')>=size_threshold)\n",
    "\n",
    "# make filter based on one edge is white matter\n",
    "white_loc = tracker.fetch_value_in_position(white_matter)\n",
    "white_loc = white_loc.astype(float).fillna(0)\n",
    "extension_param = 10\n",
    "temp = gray_loc.copy()\n",
    "temp.data = np.apply_along_axis(lambda a:binary_dilation(a, np.hstack([np.zeros(extension_param),np.ones(extension_param)])), axis=1, arr=gray_loc.data)\n",
    "filters.append(((temp.astype(int)-gray_loc.astype(int))*white_loc).sum(dim='time')>0)\n",
    "\n",
    "# make filter based on inclusion of layer1\n",
    "l1_loc = tracker.fetch_value_in_position(layer1)\n",
    "l1_loc = l1_loc.astype(float).fillna(0)\n",
    "filters.append(l1_loc.sum(dim='time')>0)\n",
    "\n",
    "# dilate to obtain redundancy for alignment\n",
    "gray_extension = 20\n",
    "gray_loc.data = np.apply_along_axis(lambda a:binary_dilation(a, np.hstack([np.zeros(gray_extension),np.ones(gray_extension)])), axis=1, arr=gray_loc.data)\n",
    "\n",
    "# summarize filters\n",
    "filters = xr.concat(filters,dim='filt')"
   ]
  },
  {
   "cell_type": "code",
   "execution_count": 52,
   "id": "3cba6234-2ded-441a-978c-c89c09ed5230",
   "metadata": {},
   "outputs": [
    {
     "data": {
      "text/plain": [
       "<Image layer 'mask' at 0x7f60184f4880>"
      ]
     },
     "execution_count": 52,
     "metadata": {},
     "output_type": "execute_result"
    }
   ],
   "source": [
    "# Visualize tracks\n",
    "position = tracker.t_positions.sel(track=filters.track[filters.all(dim='filt').data].data)\n",
    "position = position.stack(pos=['time', 'track']).data.T\n",
    "selection = gray_loc.sel(track=filters.track[filters.all(dim='filt').data].data)\n",
    "selection = selection.stack(pos=['time', 'track']).data\n",
    "\n",
    "position[np.isnan(position)] = 0\n",
    "position[~selection,:] = 0\n",
    "\n",
    "flow_vector = abs(norm_flow_on_coordinate(position))\n",
    "flow_img = np.zeros(vessel.shape+(vessel.ndim,))\n",
    "for i in range(vessel.ndim):\n",
    "    flow_img[...,i] = morphotrack.image.fill_value_in_range(flow_img[...,i],position.T,flow_vector[:,i])\n",
    "    flow_img[...,i] = flow_img[...,i]*segmented_tissue\n",
    "    \n",
    "viewer = napari.Viewer()\n",
    "viewer.add_image(vessel, contrast_limits=[0,20000], rgb=False, name='sma', colormap='gray', blending='additive')\n",
    "\n",
    "palette = [\n",
    "    Colormap([[1.0, 1.0, 1.0, 0.0], [1.0, 0.0, 0.0, 1.0]]),\n",
    "    Colormap([[1.0, 1.0, 1.0, 0.0], [0.0, 1.0, 0.0, 1.0]]),\n",
    "    Colormap([[1.0, 1.0, 1.0, 0.0], [0.0, 0.0, 1.0, 1.0]])]\n",
    "\n",
    "for i in range(vessel.ndim):\n",
    "    viewer.add_image(flow_img[...,i], contrast_limits=[0,1], rgb=False, name=i, colormap=palette[i], blending='translucent')\n",
    "# viewer.add_image(flow_img, rgb=True, contrast_limits=[0,1], name=0,  blending='translucent')\n",
    "viewer.add_image(segmented_tissue, contrast_limits=[0,2], rgb=False, name='mask', colormap='cyan', blending='additive', multiscale=False, visible=False)"
   ]
  },
  {
   "cell_type": "markdown",
   "id": "e5c2fa3b-caa4-44bc-875d-e2c7dc60a182",
   "metadata": {},
   "source": [
    "## Alignment"
   ]
  },
  {
   "cell_type": "markdown",
   "id": "8f8aa40c-86b8-4f74-b72c-1fab9cdef17a",
   "metadata": {},
   "source": [
    "### Linear alignment\n",
    "linearly transform the tracks to fit standard"
   ]
  },
  {
   "cell_type": "code",
   "execution_count": 53,
   "id": "bdda7d3a-5264-4a90-8e42-53d9181d3092",
   "metadata": {},
   "outputs": [],
   "source": [
    "# get tracks for analysis\n",
    "track_selection = filters.track[filters.all(dim='filt')]\n",
    "\n",
    "# create xarray dataset\n",
    "track_ds = xr.Dataset(data_vars={'Kernel_counts': kernel_counts.isel(track=track_selection), 'Gray_loc': gray_loc.isel(track=track_selection)})\n",
    "track_ds['Gray_counts'] = track_ds.Kernel_counts * track_ds.Gray_loc\n",
    "\n",
    "# position and flow for future reference\n",
    "track_ds['Position'] = tracker.t_positions.isel(track=track_selection.data)\n",
    "track_ds['Flow'] = flow.isel(track=track_selection.data)\n",
    "track_ds['Seeds'] = tracker.seeds_xr.isel(track=track_selection.data)\n"
   ]
  },
  {
   "cell_type": "code",
   "execution_count": 62,
   "id": "62e015e6-105c-44e0-b87e-17cb25ffd8c9",
   "metadata": {},
   "outputs": [],
   "source": [
    "# get a standard as a template of alignment\n",
    "# std_pos = morphotrack.points.pick_median_nearest_point(track_ds['Seeds'],1)\n",
    "std_pos = 1792 # or set manually\n",
    "std_seed = track_ds['Seeds'][std_pos,:].track.data\n",
    "standard = morphotrack.align.standard_generator(track_ds.Gray_counts,std_seed)\n",
    "\n",
    "# linear transformation of the tracks to the standard track\n",
    "args, disps = morphotrack.align.linear_shift_to_standard(track_ds.Gray_counts,std_seed)\n",
    "\n",
    "# save to track dataset\n",
    "track_ds['Standard'] = standard\n",
    "track_ds['Linear_arg'] = args\n",
    "track_ds['Linear_warped'] = disps"
   ]
  },
  {
   "cell_type": "code",
   "execution_count": 63,
   "id": "6f8032df-c0d0-430a-a627-b95989bcab98",
   "metadata": {},
   "outputs": [
    {
     "data": {
      "text/plain": [
       "[<matplotlib.lines.Line2D at 0x7f5fee96db20>]"
      ]
     },
     "execution_count": 63,
     "metadata": {},
     "output_type": "execute_result"
    },
    {
     "data": {
      "image/png": "[encoded data removed]",
      "text/plain": [
       "<Figure size 360x360 with 1 Axes>"
      ]
     },
     "metadata": {
      "needs_background": "light"
     },
     "output_type": "display_data"
    }
   ],
   "source": [
    "track_ds_02 = xr.open_dataset('/mnt/ampa_data01/tmurakami/220715_prefrontal_q1_R01/morphotrack/track_ds.nc').load()\n",
    "\n",
    "# standard alignment\n",
    "std_00 = track_ds.Standard.isel(track=0).data\n",
    "std_02 = track_ds_02.Standard.isel(track=0).data\n",
    "\n",
    "std_00_02, arg00_02 = morphotrack.nonlinear_align.non_linear_align_1d(std_02,std_00)\n",
    "\n",
    "fig, axs = plt.subplots(figsize=(5,5))\n",
    "\n",
    "axs.plot(std_00, c='gray')\n",
    "axs.plot(std_02)\n",
    "axs.plot(std_00_02)"
   ]
  },
  {
   "cell_type": "code",
   "execution_count": 58,
   "id": "40aa2546-30a3-4a09-a695-7247570e5153",
   "metadata": {},
   "outputs": [
    {
     "data": {
      "text/plain": [
       "<Image layer 'Image [2]' at 0x7f5fef8f3fd0>"
      ]
     },
     "execution_count": 58,
     "metadata": {},
     "output_type": "execute_result"
    }
   ],
   "source": [
    "viewer = napari.Viewer()\n",
    "viewer.add_image(track_ds.Gray_counts,colormap='green',blending='additive',visible=False)\n",
    "viewer.add_image(track_ds.Standard,colormap='green',blending='additive')\n",
    "viewer.add_image(track_ds.Linear_warped.sel(displacement='t2s'),colormap='magenta',blending='additive')\n",
    "# labels = viewer.add_labels(np.zeros_like(track_ds.Standard.astype(int)), name='labeling')"
   ]
  },
  {
   "cell_type": "code",
   "execution_count": 64,
   "id": "cd1b5fec-d4ac-4024-9435-b0dff0007869",
   "metadata": {},
   "outputs": [
    {
     "data": {
      "text/plain": [
       "[<matplotlib.lines.Line2D at 0x7f5fee53e370>]"
      ]
     },
     "execution_count": 64,
     "metadata": {},
     "output_type": "execute_result"
    },
    {
     "data": {
      "image/png": "[encoded data removed]",
      "text/plain": [
       "<Figure size 360x360 with 1 Axes>"
      ]
     },
     "metadata": {
      "needs_background": "light"
     },
     "output_type": "display_data"
    }
   ],
   "source": [
    "# check FFT filter threshold\n",
    "threshold = 1e3\n",
    "fig, axs = plt.subplots(figsize=(5,5))\n",
    "axs.plot(track_ds.Standard.isel(track=0).data)\n",
    "fft_filtered = morphotrack.dtw.filter_signal(track_ds.Standard.isel(track=0).data,threshold=threshold)\n",
    "fft_filtered[track_ds.Standard.isel(track=0).data==0]=0\n",
    "axs.plot(fft_filtered)"
   ]
  },
  {
   "cell_type": "code",
   "execution_count": 60,
   "id": "087f6128-0c90-4a4a-a02f-fe568bfb2ce9",
   "metadata": {
    "tags": []
   },
   "outputs": [],
   "source": [
    "# track_ds_02 = xr.open_dataset('/mnt/ampa_data01/tmurakami/220715_prefrontal_q1_R01/morphotrack/track_ds.nc').load()\n",
    "# # standard alignment\n",
    "# std_01 = track_ds.Standard.isel(track=0).data\n",
    "# std_02 = track_ds_02.Standard.isel(track=0).data\n",
    "\n",
    "# std_02_warped, arg = morphotrack.nonlinear_align.non_linear_align_1d(std_02,std_01)\n",
    "\n",
    "# plt.plot(std_01)\n",
    "# plt.plot(std_02)\n",
    "# plt.plot(std_02_warped)"
   ]
  },
  {
   "cell_type": "code",
   "execution_count": 26,
   "id": "8252d4ea-61c5-4133-910a-babde2efaaec",
   "metadata": {},
   "outputs": [],
   "source": [
    "# if manual alignment is necessary"
   ]
  },
  {
   "cell_type": "code",
   "execution_count": null,
   "id": "ec8d0be2-891d-4169-9b6b-300aad4132f9",
   "metadata": {},
   "outputs": [],
   "source": [
    "# def find_landmark_index(arr1d, std_landmark=20):\n",
    "#     \"\"\"\n",
    "#     \"\"\"\n",
    "#     if arr1d.sum()==0:\n",
    "#         landmark = std_landmark\n",
    "#     else:\n",
    "# #     landmarks = std_landmark.copy()\n",
    "# #     for i in range(1, std_landmark.size-1):\n",
    "# #         positions = np.where(labels[:,line]==i)[0]\n",
    "# #         if positions.size != 0:\n",
    "# #             landmarks[i] = round(positions.mean())\n",
    "# #         else:\n",
    "# #             landmarks[i] = std_landmark[i]"
   ]
  },
  {
   "cell_type": "markdown",
   "id": "99625c19-d7cc-40a0-aaf4-43551a507409",
   "metadata": {},
   "source": [
    "### Non-linear alignment\n",
    "The alignment is further finely tuned by non-linear 1d registration"
   ]
  },
  {
   "cell_type": "code",
   "execution_count": 65,
   "id": "f32619d3-7cee-4a08-88e4-6e73d1e5fa14",
   "metadata": {},
   "outputs": [],
   "source": [
    "settings = {\n",
    "    'pyramid_levels':3,\n",
    "    'pyramid_stop_level': 0,\n",
    "    'step_size': [1.0, 1.0, 1.0],\n",
    "    'block_size': [128,128,128],\n",
    "    'block_energy_epsilon':1e-7,\n",
    "    'max_iteration_count':100,\n",
    "    'constraints_weight':1000.0,\n",
    "    'regularization_weight': 0.25, # default 0.25\n",
    "    'regularization_scale': 1.0, # default 1.0\n",
    "    'regularization_exponent': 2.0, # default 2.0\n",
    "    'image_slots':[{\n",
    "            'resampler': 'gaussian',\n",
    "            'normalize': True,\n",
    "            'cost_function':[\n",
    "                {\n",
    "                    'function':'ncc',\n",
    "                    'weight':1.0,\n",
    "                    'radius':21\n",
    "                }\n",
    "            ]\n",
    "        }]\n",
    "}"
   ]
  },
  {
   "cell_type": "code",
   "execution_count": 66,
   "id": "94cb2f09-b989-4327-8348-afba4cd8d79a",
   "metadata": {
    "tags": []
   },
   "outputs": [
    {
     "name": "stderr",
     "output_type": "stream",
     "text": [
      "100%|████████████████████████████████████████████████████████████████████████████████████████| 3615/3615 [5:06:36<00:00,  5.09s/it]\n"
     ]
    }
   ],
   "source": [
    "non_linear_args = morphotrack.nonlinear_align.track_wise_aligner(track_ds.Standard.data, track_ds.Linear_warped.sel(displacement='t2s').data,fft_threshold=threshold, settings=settings)"
   ]
  },
  {
   "cell_type": "code",
   "execution_count": 67,
   "id": "27571a84-7d70-461b-99a6-7853d4a9dc01",
   "metadata": {},
   "outputs": [],
   "source": [
    "# store non linear displacement in xarray\n",
    "non_linear_arg_xr = track_ds.Linear_arg.copy()\n",
    "non_linear_arg_xr[:] = np.asarray(non_linear_args[::-1])\n",
    "track_ds['Nonlinear_arg'] = non_linear_arg_xr\n",
    "\n",
    "# make total displacement \n",
    "comp_disps = []\n",
    "for x in track_ds.Nonlinear_arg.displacement.data:\n",
    "    comp_disps.append(morphotrack.align.composite_displacement(track_ds.Linear_arg.sel(displacement=x),track_ds.Nonlinear_arg.sel(displacement=x)))\n",
    "\n",
    "# store total displacement in xarray\n",
    "total_arg_xr = track_ds.Linear_arg.copy()\n",
    "total_arg_xr[:] = np.asarray(comp_disps)\n",
    "track_ds['Total_arg'] = total_arg_xr\n",
    "\n",
    "# make total warped tracks\n",
    "s2t_non_linear_warped = morphotrack.align.positional_mapping(track_ds.Standard, track_ds.Total_arg.sel(displacement='s2t'))\n",
    "t2s_non_linear_warped = morphotrack.align.positional_mapping(track_ds.Gray_counts, track_ds.Total_arg.sel(displacement='t2s'))\n",
    "\n",
    "# store total warp in xarray\n",
    "total_warp_xr = track_ds.Linear_arg.copy()\n",
    "total_warp_xr[:] = np.asarray([s2t_non_linear_warped, t2s_non_linear_warped])\n",
    "track_ds['Total_warped'] = total_warp_xr"
   ]
  },
  {
   "cell_type": "code",
   "execution_count": 68,
   "id": "f0e3106f-fd4c-4528-b67d-94386a3982fe",
   "metadata": {},
   "outputs": [
    {
     "data": {
      "text/plain": [
       "<Image layer 'Image [3]' at 0x7f5fee6f9fd0>"
      ]
     },
     "execution_count": 68,
     "metadata": {},
     "output_type": "execute_result"
    }
   ],
   "source": [
    "viewer = napari.Viewer()\n",
    "viewer.add_image(track_ds.Gray_counts,colormap='green',blending='additive',visible=False)\n",
    "viewer.add_image(track_ds.Standard,colormap='green',blending='additive')\n",
    "viewer.add_image(track_ds.Total_warped.sel(displacement='t2s'),colormap='magenta',blending='additive')\n",
    "viewer.add_image(track_ds.Total_warped.sel(displacement='s2t'),colormap='magenta',blending='additive',visible=False)"
   ]
  },
  {
   "cell_type": "markdown",
   "id": "49730d2e-2b9c-4e39-abc3-c3f9a433cd91",
   "metadata": {},
   "source": [
    "## local flux map. quality metrics.\n",
    "### quality metrics and filitering"
   ]
  },
  {
   "cell_type": "code",
   "execution_count": 69,
   "id": "b8169fdf-5087-4092-ad55-ad5a630823d6",
   "metadata": {},
   "outputs": [],
   "source": [
    "std = track_ds.Total_warped.sel(displacement='t2s',track=std_seed)# track_ds.Standard.sel(track=std_seed)\n",
    "\n",
    "# get cosine similarities\n",
    "cs = np.apply_along_axis(morphotrack.track.cosine_similarity, 1, track_ds.Total_warped.sel(displacement='t2s'), std)\n",
    "# get mutual information\n",
    "mi = np.apply_along_axis(morphotrack.track.mutual_information, 1, track_ds.Total_warped.sel(displacement='t2s'), std)\n",
    "\n",
    "# thresholding with otsu\n",
    "cs_thresh = threshold_otsu(cs)\n",
    "mi_thresh = threshold_otsu(mi)\n",
    "\n",
    "# # selection of tracks\n",
    "# select_tracks = track_ds.track[(cs>=cs_thresh)&(mi>=mi_thresh)]\n",
    "# selected_track_ds = track_ds.sel(track=select_tracks)\n",
    "\n",
    "# save in track_ds\n",
    "qc_array = xr.DataArray(np.stack([cs,mi]).T,\n",
    "                        coords={'track': track_ds.track,\n",
    "                             'metrics': ['cs','mi']},\n",
    "                        dims=['track', 'metrics'],\n",
    "                        attrs=dict(cs_thresh=cs_thresh,mi_thresh=mi_thresh)\n",
    "                        )\n",
    "\n",
    "track_ds['Similarity'] = qc_array"
   ]
  },
  {
   "cell_type": "markdown",
   "id": "4b390b23-86b3-4cd5-971b-616fdc865b7e",
   "metadata": {},
   "source": [
    "### compression map"
   ]
  },
  {
   "cell_type": "code",
   "execution_count": 70,
   "id": "49fbd538-f2ae-490b-a9cf-31243da99433",
   "metadata": {
    "tags": []
   },
   "outputs": [
    {
     "name": "stderr",
     "output_type": "stream",
     "text": [
      "/home/tmurakami/app/miniconda3/envs/segment/lib/python3.8/site-packages/xarray/core/computation.py:771: RuntimeWarning:\n",
      "\n",
      "divide by zero encountered in log2\n",
      "\n",
      "/home/tmurakami/app/miniconda3/envs/segment/lib/python3.8/site-packages/xarray/core/computation.py:771: RuntimeWarning:\n",
      "\n",
      "invalid value encountered in log2\n",
      "\n"
     ]
    }
   ],
   "source": [
    "# convert position to distance\n",
    "dist = morphotrack.distance.position2distance_xr(track_ds.Position)\n",
    "\n",
    "# adjust positions to match the standard, and convert the positions to distance.\n",
    "position_in_standard = morphotrack.distance.map2standard_vectorspace_xr(track_ds.Total_arg.sel(displacement='s2t'),track_ds.Position.sel(track=std_seed))\n",
    "dist_in_standard = morphotrack.distance.position2distance_xr(position_in_standard)\n",
    "\n",
    "# take moving average and get log fold changes. this produces compression map.\n",
    "window = 10\n",
    "logfc = morphotrack.distance.logFC_distance_t2s(dist_in_standard, dist_in_standard.sel(track=std_seed), window)\n",
    "logfc = logfc.assign_attrs(window=window)\n",
    "track_ds['LogCompression'] = logfc"
   ]
  },
  {
   "cell_type": "code",
   "execution_count": 71,
   "id": "939eaa85-3cda-4432-a03a-51517fca696d",
   "metadata": {},
   "outputs": [
    {
     "data": {
      "text/plain": [
       "<Image layer 'logfc' at 0x7f5fee4218b0>"
      ]
     },
     "execution_count": 71,
     "metadata": {},
     "output_type": "execute_result"
    }
   ],
   "source": [
    "viewer = napari.Viewer()\n",
    "viewer.add_image(logfc,contrast_limits=[-2,2],colormap='twilight',blending='additive')"
   ]
  },
  {
   "cell_type": "code",
   "execution_count": 59,
   "id": "e64c6664-6cd1-424c-86e2-b2ad377316a3",
   "metadata": {},
   "outputs": [
    {
     "data": {
      "text/plain": [
       "<Image layer 'nuclei' at 0x7fc4b71aeb20>"
      ]
     },
     "execution_count": 59,
     "metadata": {},
     "output_type": "execute_result"
    }
   ],
   "source": [
    "# img = morphotrack.image.visualize_in_original_space(track_ds.Position, logfc, vessel.shape)\n",
    "\n",
    "# viewer = napari.Viewer()\n",
    "# viewer.add_image(img,contrast_limits=[-2,2],colormap='twilight',blending='additive')\n",
    "# viewer.add_image(nuclei,colormap='gray',blending='additive')"
   ]
  },
  {
   "cell_type": "markdown",
   "id": "2c7a9eec-60f9-4ac1-bbaf-657e0c254d2d",
   "metadata": {},
   "source": [
    "### local flux map"
   ]
  },
  {
   "cell_type": "code",
   "execution_count": 72,
   "id": "71c5239d-c1ae-49f3-a5ab-6decdcc5cba9",
   "metadata": {
    "tags": []
   },
   "outputs": [],
   "source": [
    "layer_position = []\n",
    "for tr in track_ds.track.data:\n",
    "    interp_position = track_ds.Position.sel(track=tr).interp(time=track_ds.Total_arg.sel(displacement='t2s').sel(track=tr).data)\n",
    "    interp_position = interp_position.assign_coords(time=np.arange(t_start,t_end))\n",
    "    layer_position.append(interp_position)\n",
    "layer_position = xr.concat(layer_position,dim='track')\n",
    "layer_position = layer_position.rename(time='warped_time')"
   ]
  },
  {
   "cell_type": "code",
   "execution_count": 73,
   "id": "d793f23d-a55f-47f9-82ee-b5236b4cd8ec",
   "metadata": {
    "tags": []
   },
   "outputs": [
    {
     "name": "stderr",
     "output_type": "stream",
     "text": [
      "100%|████████████████████████████████████████████████████████████████████████████████████████| 500/500 [00:07<00:00, 68.95it/s]\n"
     ]
    }
   ],
   "source": [
    "local_flux = []\n",
    "for t in tqdm(layer_position.warped_time.data):\n",
    "    local_flux.append(morphotrack.points.get_local_flux(layer_position.sel(warped_time=t).data, norm_flow_on_coordinate, radius))\n",
    "local_flux = np.stack(local_flux)\n",
    "local_flux = xr.DataArray(local_flux,\n",
    "                          coords={'warped_time': layer_position.warped_time,\n",
    "                                  'track': layer_position.track},\n",
    "                          dims=['warped_time', 'track'],\n",
    "                          attrs=dict(radius=radius)\n",
    "                          )"
   ]
  },
  {
   "cell_type": "code",
   "execution_count": 74,
   "id": "fa7e62c5-8f9d-4022-bd0c-4f89066f7d23",
   "metadata": {},
   "outputs": [],
   "source": [
    "track_ds['Distance'] = dist.fillna(0).cumsum(dim='time')\n",
    "track_ds['Warped_position'] = layer_position\n",
    "track_ds['Local_flux'] = local_flux"
   ]
  },
  {
   "cell_type": "code",
   "execution_count": 75,
   "id": "60847353-9117-4d92-951b-ac85e2057c81",
   "metadata": {},
   "outputs": [
    {
     "name": "stderr",
     "output_type": "stream",
     "text": [
      "/home/tmurakami/app/miniconda3/envs/segment/lib/python3.8/site-packages/numpy/core/numeric.py:2449: FutureWarning:\n",
      "\n",
      "elementwise comparison failed; returning scalar instead, but in the future will perform elementwise comparison\n",
      "\n"
     ]
    },
    {
     "data": {
      "text/plain": [
       "<Points layer 'pos' at 0x7f60042ed790>"
      ]
     },
     "execution_count": 75,
     "metadata": {},
     "output_type": "execute_result"
    }
   ],
   "source": [
    "reference_time = 140\n",
    "pos = track_ds.Warped_position.sel(warped_time=reference_time).data\n",
    "local_flux = track_ds.Local_flux.sel(warped_time=reference_time).data\n",
    "color_vis = morphotrack.image.vector_color_mapping(local_flux,colormap='plasma')\n",
    "\n",
    "viewer = napari.Viewer()\n",
    "viewer.add_image(nuclei,colormap='gray',blending='additive')\n",
    "viewer.add_points(\n",
    "    pos,\n",
    "    size=10,\n",
    "    face_color = color_vis,\n",
    "    edge_width=0,\n",
    "    symbol='disc'\n",
    ")"
   ]
  },
  {
   "cell_type": "code",
   "execution_count": 77,
   "id": "2aabf74d-4daf-44e1-b543-6699f5d4caea",
   "metadata": {},
   "outputs": [],
   "source": [
    "track_ds.to_netcdf(os.path.join(io_directory,\"track_ds_fft.nc\"))"
   ]
  },
  {
   "cell_type": "code",
   "execution_count": 76,
   "id": "663e8dd6-3aa3-498b-8dc1-3280d7456bae",
   "metadata": {},
   "outputs": [
    {
     "name": "stderr",
     "output_type": "stream",
     "text": [
      "100%|███████████████████████████████████████████████████████████████████████████████████████| 500/500 [00:03<00:00, 157.62it/s]\n"
     ]
    }
   ],
   "source": [
    "layer_distances = []\n",
    "for t in tqdm(track_ds.time.data):\n",
    "    ref_time_in_track = ((track_ds.Total_arg.sel(displacement='t2s') - t)**2).argmin(dim='time')\n",
    "    layer_distance = track_ds.Distance.data[tuple(np.arange(ref_time_in_track.size)),tuple(ref_time_in_track.data)]\n",
    "    layer_distance = xr.DataArray(layer_distance,coords={'track':track_ds.track,'time':t},dims=['track']) # xr.DataArray(layer_distance,coords={'track':track_ds.track},dims=['track'])\n",
    "    layer_distances.append(layer_distance)\n",
    "layer_distances = xr.concat(layer_distances,dim='time')"
   ]
  },
  {
   "cell_type": "code",
   "execution_count": 79,
   "id": "6acbeea7-2699-4aaa-80ff-50a19b847997",
   "metadata": {
    "collapsed": true,
    "jupyter": {
     "outputs_hidden": true
    },
    "tags": []
   },
   "outputs": [
    {
     "name": "stderr",
     "output_type": "stream",
     "text": [
      "/home/tmurakami/app/miniconda3/envs/segment/lib/python3.8/site-packages/numpy/core/numeric.py:2449: FutureWarning:\n",
      "\n",
      "elementwise comparison failed; returning scalar instead, but in the future will perform elementwise comparison\n",
      "\n",
      "/home/tmurakami/app/miniconda3/envs/segment/lib/python3.8/site-packages/numpy/core/numeric.py:2449: FutureWarning:\n",
      "\n",
      "elementwise comparison failed; returning scalar instead, but in the future will perform elementwise comparison\n",
      "\n",
      "/home/tmurakami/app/miniconda3/envs/segment/lib/python3.8/site-packages/numpy/core/numeric.py:2449: FutureWarning:\n",
      "\n",
      "elementwise comparison failed; returning scalar instead, but in the future will perform elementwise comparison\n",
      "\n",
      "/home/tmurakami/app/miniconda3/envs/segment/lib/python3.8/site-packages/numpy/core/numeric.py:2449: FutureWarning:\n",
      "\n",
      "elementwise comparison failed; returning scalar instead, but in the future will perform elementwise comparison\n",
      "\n",
      "/home/tmurakami/app/miniconda3/envs/segment/lib/python3.8/site-packages/numpy/core/numeric.py:2449: FutureWarning:\n",
      "\n",
      "elementwise comparison failed; returning scalar instead, but in the future will perform elementwise comparison\n",
      "\n",
      "/home/tmurakami/app/miniconda3/envs/segment/lib/python3.8/site-packages/numpy/core/numeric.py:2449: FutureWarning:\n",
      "\n",
      "elementwise comparison failed; returning scalar instead, but in the future will perform elementwise comparison\n",
      "\n",
      "/home/tmurakami/app/miniconda3/envs/segment/lib/python3.8/site-packages/numpy/core/numeric.py:2449: FutureWarning:\n",
      "\n",
      "elementwise comparison failed; returning scalar instead, but in the future will perform elementwise comparison\n",
      "\n"
     ]
    }
   ],
   "source": [
    "# this is for manual removal of the mis-aligned tracks\n",
    "import hdbscan\n",
    "from sklearn.preprocessing import StandardScaler\n",
    "\n",
    "clusterer = hdbscan.HDBSCAN(min_cluster_size=15, min_samples=5)\n",
    "# reference_time = 130\n",
    "ld = layer_distances.sel(time=reference_time).data\n",
    "pos = track_ds.Warped_position.sel(warped_time=reference_time).data\n",
    "features = pos#np.hstack([pos,ld[:,np.newaxis]])\n",
    "scaler = StandardScaler().fit(features)\n",
    "\n",
    "clusterer.fit(scaler.transform(features))\n",
    "cluster_label = clusterer.labels_\n",
    "\n",
    "color_vis = morphotrack.image.vector_color_mapping(clusterer.labels_,colormap='plasma')\n",
    "\n",
    "viewer = napari.Viewer()\n",
    "viewer.add_image(nuclei,colormap='gray',blending='additive')\n",
    "for c in np.unique(cluster_label):\n",
    "    selector = (cluster_label==c)\n",
    "    viewer.add_points(\n",
    "        pos[selector],\n",
    "        size=10,\n",
    "        face_color = color_vis[selector],\n",
    "        edge_width=0,\n",
    "        name=str(c),\n",
    "        symbol='disc'\n",
    "    )"
   ]
  },
  {
   "cell_type": "code",
   "execution_count": 80,
   "id": "a7563fad-375a-4f49-9d3d-54259eb131c6",
   "metadata": {},
   "outputs": [],
   "source": [
    "outliers = np.asarray([-1,0,1,2,3,4])\n",
    "manual_filt = xr.DataArray(~np.isin(cluster_label,outliers),coords={'track':track_ds.track},dims=['track'])\n",
    "similarity_filt = xr.DataArray((cs>=cs_thresh)&(mi>=mi_thresh),coords={'track':track_ds.track},dims=['track'])\n",
    "filter_xr = xr.concat([manual_filt,similarity_filt],dim='filt')\n",
    "filter_xr.to_netcdf(os.path.join(io_directory,\"filter_da_fft.nc\"))"
   ]
  },
  {
   "cell_type": "code",
   "execution_count": 85,
   "id": "a49281f0-5900-40a5-9ed6-b857a1c1a53d",
   "metadata": {},
   "outputs": [
    {
     "data": {
      "text/plain": [
       "<Image layer 'Image' at 0x7f5fee2d6fd0>"
      ]
     },
     "execution_count": 85,
     "metadata": {},
     "output_type": "execute_result"
    }
   ],
   "source": [
    "# \n",
    "track_selection = filter_xr.track[filter_xr.all(axis=0)]\n",
    "track_ = track_ds.copy().sel(track=track_selection.data)\n",
    "\n",
    "viewer = napari.Viewer()\n",
    "viewer.add_image(track_.Total_warped.sel(displacement='t2s'),colormap='gray',blending='additive')"
   ]
  },
  {
   "cell_type": "code",
   "execution_count": 82,
   "id": "c018be86-5953-44f6-9196-86fc86e9f6c4",
   "metadata": {
    "tags": []
   },
   "outputs": [
    {
     "name": "stderr",
     "output_type": "stream",
     "text": [
      "/home/tmurakami/app/miniconda3/envs/segment/lib/python3.8/site-packages/numpy/core/numeric.py:2449: FutureWarning:\n",
      "\n",
      "elementwise comparison failed; returning scalar instead, but in the future will perform elementwise comparison\n",
      "\n",
      "/home/tmurakami/app/miniconda3/envs/segment/lib/python3.8/site-packages/napari/layers/utils/color_transformations.py:53: UserWarning:\n",
      "\n",
      "The provided colors parameter has 2807 entries, while the data contains 2164 entries. Setting colors to white.\n",
      "\n"
     ]
    },
    {
     "data": {
      "text/plain": [
       "<Points layer 'pos' at 0x7f5febcee9a0>"
      ]
     },
     "execution_count": 82,
     "metadata": {},
     "output_type": "execute_result"
    }
   ],
   "source": [
    "# visualization of the selected tracks\n",
    "reference_time = 100\n",
    "\n",
    "track_selection = filter_xr.track[filter_xr.all(axis=0)]\n",
    "track_ = track_ds.copy().sel(track=track_selection.data)\n",
    "pos = track_.Warped_position.sel(warped_time=reference_time).data\n",
    "\n",
    "viewer = napari.Viewer()\n",
    "viewer.add_image(nuclei,colormap='gray',blending='additive')\n",
    "viewer.add_points(\n",
    "    pos,\n",
    "    size=10,\n",
    "    face_color = color_vis[selector],\n",
    "    edge_width=0,\n",
    "    symbol='disc'\n",
    ")"
   ]
  },
  {
   "cell_type": "code",
   "execution_count": null,
   "id": "93521910-fc6c-4dd9-9665-838268fbd452",
   "metadata": {},
   "outputs": [],
   "source": []
  },
  {
   "cell_type": "code",
   "execution_count": 334,
   "id": "f0b11e9c-59c1-401e-bb73-c07e2cdfc8e7",
   "metadata": {},
   "outputs": [],
   "source": [
    "# make feature matrix for isolation forest\n",
    "# from sklearn.ensemble import IsolationForest\n",
    "# from sklearn.preprocessing import StandardScaler\n",
    "# from sklearn.cluster import KMeans\n",
    "# from sklearn.neighbors import LocalOutlierFactor\n",
    "\n",
    "reference_time = 100\n",
    "ld = layer_distances.sel(time=reference_time).data\n",
    "pos = track_ds.Warped_position.sel(warped_time=reference_time).data\n",
    "# features = np.hstack([pos,ld[:,np.newaxis]])\n",
    "# clf = IsolationForest(random_state=42).fit(features)\n",
    "# tes = clf.predict(features)\n",
    "spline = interpolate.RBFInterpolator(pos, ld, smoothing=1000.0, kernel='thin_plate_spline')\n",
    "fit_ld = spline(pos)\n",
    "cf = np.sqrt((fit_ld-ld)**2)\n"
   ]
  },
  {
   "cell_type": "code",
   "execution_count": 312,
   "id": "327be650-66a1-4333-a95e-99c513188ba0",
   "metadata": {},
   "outputs": [
    {
     "name": "stderr",
     "output_type": "stream",
     "text": [
      "/home/tmurakami/app/miniconda3/envs/segment/lib/python3.8/site-packages/numpy/core/numeric.py:2449: FutureWarning:\n",
      "\n",
      "elementwise comparison failed; returning scalar instead, but in the future will perform elementwise comparison\n",
      "\n",
      "/home/tmurakami/app/miniconda3/envs/segment/lib/python3.8/site-packages/numpy/core/numeric.py:2449: FutureWarning:\n",
      "\n",
      "elementwise comparison failed; returning scalar instead, but in the future will perform elementwise comparison\n",
      "\n"
     ]
    },
    {
     "data": {
      "text/plain": [
       "<Points layer 'pos' at 0x7f17854fdfa0>"
      ]
     },
     "execution_count": 312,
     "metadata": {},
     "output_type": "execute_result"
    }
   ],
   "source": [
    "# sp_fit = np.vstack([tesx,tesy,tesz]).T\n",
    "\n",
    "# viewer = napari.Viewer()\n",
    "# viewer.add_image(nuclei,colormap='gray',blending='additive')\n",
    "# viewer.add_points(\n",
    "#     sp_fit,\n",
    "#     size=10,\n",
    "#     face_color = 'white',\n",
    "#     edge_width=0,\n",
    "#     symbol='disc'\n",
    "# )\n",
    "# reference_time = 100\n",
    "# pos = track_ds.Warped_position.sel(warped_time=reference_time).data\n",
    "# viewer.add_points(\n",
    "#     pos,\n",
    "#     size=10,\n",
    "#     face_color = 'green',\n",
    "#     edge_width=0,\n",
    "#     symbol='disc'\n",
    "# )"
   ]
  },
  {
   "cell_type": "code",
   "execution_count": 335,
   "id": "307dbc9b-8358-411a-8462-d1048ef6272d",
   "metadata": {},
   "outputs": [
    {
     "name": "stderr",
     "output_type": "stream",
     "text": [
      "/home/tmurakami/app/miniconda3/envs/segment/lib/python3.8/site-packages/numpy/core/numeric.py:2449: FutureWarning:\n",
      "\n",
      "elementwise comparison failed; returning scalar instead, but in the future will perform elementwise comparison\n",
      "\n"
     ]
    },
    {
     "data": {
      "text/plain": [
       "<Points layer 'pos' at 0x7f173c13c2e0>"
      ]
     },
     "execution_count": 335,
     "metadata": {},
     "output_type": "execute_result"
    }
   ],
   "source": [
    "pos = track_ds.Warped_position.sel(warped_time=reference_time).data\n",
    "color_vis = morphotrack.track.vector_color_mapping(cf,colormap='plasma')\n",
    "\n",
    "viewer = napari.Viewer()\n",
    "viewer.add_image(nuclei,colormap='gray',blending='additive')\n",
    "viewer.add_points(\n",
    "    pos,\n",
    "    size=10,\n",
    "    face_color = color_vis,\n",
    "    edge_width=0,\n",
    "    symbol='disc'\n",
    ")"
   ]
  },
  {
   "cell_type": "code",
   "execution_count": null,
   "id": "1ad157d2-7d1b-4967-ac42-c53a2a60dbb4",
   "metadata": {},
   "outputs": [],
   "source": []
  }
 ],
 "metadata": {
  "kernelspec": {
   "display_name": "segment",
   "language": "python",
   "name": "segment"
  },
  "language_info": {
   "codemirror_mode": {
    "name": "ipython",
    "version": 3
   },
   "file_extension": ".py",
   "mimetype": "text/x-python",
   "name": "python",
   "nbconvert_exporter": "python",
   "pygments_lexer": "ipython3",
   "version": "3.8.10"
  }
 },
 "nbformat": 4,
 "nbformat_minor": 5
}
