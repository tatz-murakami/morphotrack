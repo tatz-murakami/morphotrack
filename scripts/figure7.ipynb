{
 "cells": [
  {
   "cell_type": "code",
   "execution_count": 1,
   "id": "f19d5783-0cd3-4448-8c8d-b266e747c185",
   "metadata": {},
   "outputs": [
    {
     "name": "stderr",
     "output_type": "stream",
     "text": [
      "/home/tmurakami/app/miniconda3/envs/segment/lib/python3.8/site-packages/skimage/io/manage_plugins.py:23: UserWarning: Your installed pillow version is < 8.1.2. Several security issues (CVE-2021-27921, CVE-2021-25290, CVE-2021-25291, CVE-2021-25293, and more) have been fixed in pillow 8.1.2 or higher. We recommend to upgrade this library.\n",
      "  from .collection import imread_collection_wrapper\n"
     ]
    }
   ],
   "source": [
    "import numpy as np\n",
    "import pandas as pd\n",
    "import seaborn as sns\n",
    "import xarray as xr\n",
    "import napari\n",
    "import os\n",
    "from skimage import io\n",
    "import morphotrack.image\n",
    "import morphotrack.points\n",
    "import morphotrack.align\n",
    "import morphotrack.nonlinear_align\n",
    "import morphotrack.track\n",
    "import morphotrack.distance\n",
    "\n",
    "import pickle\n",
    "from matplotlib import pyplot as plt\n",
    "from scipy import interpolate\n",
    "\n",
    "import importlib\n",
    "\n",
    "\n",
    "# sns.set(font_scale = 1.3)\n",
    "# sns.set_style({'font.family':'sans-serif', 'font.sans-serif':['Arial']})\n",
    "# sns.set_style(\"ticks\")"
   ]
  },
  {
   "cell_type": "code",
   "execution_count": 7,
   "id": "c4843755-bdd5-485e-b58f-55775ba35bcf",
   "metadata": {},
   "outputs": [],
   "source": [
    "tracks = xr.open_dataset('/mnt/ampa_data01/tmurakami/220305_SMA_nuc_middlehuman/morphotrack/track_ds_fft.nc').load()\n",
    "cell_coords_original = pd.read_csv('/mnt/ampa_data01/tmurakami/220305_SMA_nuc_middlehuman/coord_centroids.csv',index_col=0)\n",
    "image_set = {\n",
    "        'nuclei':io.imread('/mnt/ampa_data01/tmurakami/220305_SMA_nuc_middlehuman/morphotrack/R01_ch488_10um.tif'),\n",
    "        'vessel':io.imread('/mnt/ampa_data01/tmurakami/220305_SMA_nuc_middlehuman/morphotrack/R01_ch561_10um.tif')\n",
    "    }"
   ]
  },
  {
   "cell_type": "code",
   "execution_count": 10,
   "id": "a3cdd985-8574-4132-b524-ff0225c521d2",
   "metadata": {},
   "outputs": [],
   "source": [
    "scaling_factor = np.asarray([3,0.65,0.65])\n",
    "coords = cell_coords_original.loc[:,['centroid-0','centroid-1','centroid-2']] * scaling_factor / 10"
   ]
  },
  {
   "cell_type": "code",
   "execution_count": 19,
   "id": "45e91821-4022-4f24-bb5f-0b7b764249d7",
   "metadata": {},
   "outputs": [
    {
     "name": "stderr",
     "output_type": "stream",
     "text": [
      "/home/tmurakami/app/miniconda3/envs/segment/lib/python3.8/site-packages/numpy/core/numeric.py:2449: FutureWarning: elementwise comparison failed; returning scalar instead, but in the future will perform elementwise comparison\n",
      "  return bool(asarray(a1 == a2).all())\n"
     ]
    },
    {
     "data": {
      "text/plain": [
       "<Points layer 'Points' at 0x7f024dd68580>"
      ]
     },
     "execution_count": 19,
     "metadata": {},
     "output_type": "execute_result"
    }
   ],
   "source": [
    "skip = 10\n",
    "zslice = slice(0,150)\n",
    "viewer = napari.Viewer()\n",
    "# viewer.add_image(image_set['vessel'][zslice,...].max(axis=0))\n",
    "viewer.add_points(\n",
    "    coords.values[::skip,:],\n",
    "    size=3,\n",
    "    face_color = 'white',\n",
    "    edge_width=0,\n",
    "    symbol='disc'\n",
    ")"
   ]
  },
  {
   "cell_type": "code",
   "execution_count": null,
   "id": "2146f37f-1fce-4755-9558-93910127f8de",
   "metadata": {},
   "outputs": [],
   "source": []
  }
 ],
 "metadata": {
  "kernelspec": {
   "display_name": "segment",
   "language": "python",
   "name": "segment"
  },
  "language_info": {
   "codemirror_mode": {
    "name": "ipython",
    "version": 3
   },
   "file_extension": ".py",
   "mimetype": "text/x-python",
   "name": "python",
   "nbconvert_exporter": "python",
   "pygments_lexer": "ipython3",
   "version": "3.8.10"
  }
 },
 "nbformat": 4,
 "nbformat_minor": 5
}
