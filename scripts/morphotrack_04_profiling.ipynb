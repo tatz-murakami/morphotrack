{
 "cells": [
  {
   "cell_type": "code",
   "execution_count": null,
   "id": "e4ca8588-929b-422c-8011-1d8bfc2a6cd5",
   "metadata": {
    "tags": []
   },
   "outputs": [],
   "source": [
    "import numpy as np\n",
    "import pandas as pd\n",
    "\n",
    "from skimage import io\n",
    "from skimage.filters import threshold_otsu\n",
    "\n",
    "import os\n",
    "import napari\n",
    "from tqdm import tqdm\n",
    "import pickle\n",
    "import xarray as xr\n",
    "\n",
    "import morphotrack.flow\n",
    "import morphotrack.points\n",
    "import morphotrack.track\n",
    "import morphotrack.image\n",
    "import morphotrack.distance"
   ]
  },
  {
   "cell_type": "code",
   "execution_count": null,
   "id": "c118ef00-20ae-4fb0-bcef-739ed08c6030",
   "metadata": {},
   "outputs": [],
   "source": [
    "io_directory = 'path_to_directory'\n",
    "\n",
    "# load blood vessel\n",
    "vessel = io.imread(os.path.join(io_directory,'R01_ch561_10um.tif'))\n",
    "\n",
    "# load nuclei\n",
    "nuclei = io.imread(os.path.join(io_directory,'R02_ch488_10um.tif'))\n",
    "\n",
    "# load track information from the previous step\n",
    "track_ds = xr.open_dataset(os.path.join(io_directory,\"track_alignment.nc\")).load()\n",
    "\n",
    "# load regression model, this will be used for flux calculation\n",
    "reg = pickle.load(open(os.path.join(io_directory,'model_.pkl'), 'rb'))"
   ]
  },
  {
   "cell_type": "markdown",
   "id": "49730d2e-2b9c-4e39-abc3-c3f9a433cd91",
   "metadata": {},
   "source": [
    "## local flux map. quality metrics.\n",
    "### quality metrics and filitering"
   ]
  },
  {
   "cell_type": "code",
   "execution_count": null,
   "id": "b8169fdf-5087-4092-ad55-ad5a630823d6",
   "metadata": {},
   "outputs": [],
   "source": [
    "std = track_ds.Total_warped.sel(displacement='t2s',track=track_ds.Standard.attrs['standard_seed'])\n",
    "\n",
    "# get cosine similarities\n",
    "cs = np.apply_along_axis(morphotrack.track.cosine_similarity, 1, track_ds.Total_warped.sel(displacement='t2s'), std)\n",
    "# get mutual information\n",
    "mi = np.apply_along_axis(morphotrack.track.mutual_information, 1, track_ds.Total_warped.sel(displacement='t2s'), std)\n",
    "\n",
    "# thresholding with otsu\n",
    "cs_thresh = threshold_otsu(cs)\n",
    "mi_thresh = threshold_otsu(mi)\n",
    "\n",
    "# save in track_ds\n",
    "qc_array = xr.DataArray(np.stack([cs,mi]).T,\n",
    "                        coords={'track': track_ds.track,\n",
    "                             'metrics': ['cs','mi']},\n",
    "                        dims=['track', 'metrics'],\n",
    "                        attrs=dict(cs_thresh=cs_thresh,mi_thresh=mi_thresh)\n",
    "                        )\n",
    "\n",
    "track_ds['Similarity'] = qc_array"
   ]
  },
  {
   "cell_type": "markdown",
   "id": "2c7a9eec-60f9-4ac1-bbaf-657e0c254d2d",
   "metadata": {},
   "source": [
    "### Get various properties"
   ]
  },
  {
   "cell_type": "code",
   "execution_count": null,
   "id": "436ed144-edd2-4d8f-876c-1f4648972737",
   "metadata": {},
   "outputs": [],
   "source": [
    "# convert position to distance from surface\n",
    "intervals = morphotrack.distance.position2distance_xr(track_ds.Position)\n",
    "dist = intervals.fillna(0).cumsum(dim='time')"
   ]
  },
  {
   "cell_type": "code",
   "execution_count": null,
   "id": "71c5239d-c1ae-49f3-a5ab-6decdcc5cba9",
   "metadata": {
    "tags": []
   },
   "outputs": [],
   "source": [
    "# convert time to laminar position\n",
    "laminar_position = []\n",
    "for tr in track_ds.track.data:\n",
    "    interp_position = track_ds.Position.sel(track=tr).interp(time=track_ds.Total_arg.sel(displacement='t2s').sel(track=tr).data)\n",
    "    interp_position = interp_position.assign_coords(time=track_ds.time)\n",
    "    laminar_position.append(interp_position)\n",
    "laminar_position = xr.concat(laminar_position,dim='track')\n",
    "laminar_position = laminar_position.rename(time='warped_time')"
   ]
  },
  {
   "cell_type": "code",
   "execution_count": null,
   "id": "d793f23d-a55f-47f9-82ee-b5236b4cd8ec",
   "metadata": {
    "tags": []
   },
   "outputs": [],
   "source": [
    "# calculate local flux\n",
    "radius = 10 # * 10 micrometer\n",
    "get_norm_flow = morphotrack.flow.flow_to_normflow(reg)\n",
    "local_flux = []\n",
    "for t in tqdm(laminar_position.warped_time.data):\n",
    "    local_flux.append(morphotrack.points.get_local_flux(laminar_position.sel(warped_time=t).data, get_norm_flow, radius))\n",
    "local_flux = np.stack(local_flux)\n",
    "local_flux = xr.DataArray(local_flux,\n",
    "                          coords={'warped_time': laminar_position.warped_time,\n",
    "                                  'track': laminar_position.track},\n",
    "                          dims=['warped_time', 'track'],\n",
    "                          attrs=dict(radius=radius)\n",
    "                          )"
   ]
  },
  {
   "cell_type": "code",
   "execution_count": null,
   "id": "fa7e62c5-8f9d-4022-bd0c-4f89066f7d23",
   "metadata": {},
   "outputs": [],
   "source": [
    "track_ds['Distance'] = dist\n",
    "track_ds['Warped_position'] = laminar_position\n",
    "track_ds['Local_flux'] = local_flux"
   ]
  },
  {
   "cell_type": "code",
   "execution_count": null,
   "id": "2aabf74d-4daf-44e1-b543-6699f5d4caea",
   "metadata": {},
   "outputs": [],
   "source": [
    "track_ds.to_netcdf(os.path.join(io_directory,\"track_ds_profiles.nc\"))"
   ]
  },
  {
   "cell_type": "code",
   "execution_count": null,
   "id": "93521910-fc6c-4dd9-9665-838268fbd452",
   "metadata": {},
   "outputs": [],
   "source": []
  }
 ],
 "metadata": {
  "kernelspec": {
   "display_name": "Python 3 (ipykernel)",
   "language": "python",
   "name": "python3"
  },
  "language_info": {
   "codemirror_mode": {
    "name": "ipython",
    "version": 3
   },
   "file_extension": ".py",
   "mimetype": "text/x-python",
   "name": "python",
   "nbconvert_exporter": "python",
   "pygments_lexer": "ipython3",
   "version": "3.8.10"
  }
 },
 "nbformat": 4,
 "nbformat_minor": 5
}
