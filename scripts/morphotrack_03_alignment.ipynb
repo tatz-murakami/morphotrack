{
 "cells": [
  {
   "cell_type": "code",
   "execution_count": 1,
   "id": "e4ca8588-929b-422c-8011-1d8bfc2a6cd5",
   "metadata": {
    "tags": []
   },
   "outputs": [
    {
     "name": "stderr",
     "output_type": "stream",
     "text": [
      "/home/tmurakami/app/miniconda3/envs/segment/lib/python3.8/site-packages/skimage/io/manage_plugins.py:23: UserWarning: Your installed pillow version is < 8.1.2. Several security issues (CVE-2021-27921, CVE-2021-25290, CVE-2021-25291, CVE-2021-25293, and more) have been fixed in pillow 8.1.2 or higher. We recommend to upgrade this library.\n",
      "  from .collection import imread_collection_wrapper\n"
     ]
    }
   ],
   "source": [
    "import numpy as np\n",
    "import pandas as pd\n",
    "\n",
    "from skimage import io\n",
    "from skimage.filters import threshold_otsu\n",
    "from skimage.morphology import binary_dilation\n",
    "\n",
    "import os\n",
    "from matplotlib import pyplot as plt\n",
    "import napari\n",
    "import pickle\n",
    "import xarray as xr\n",
    "\n",
    "import pydeform.sitk_api as pydeform\n",
    "\n",
    "import morphotrack.variables\n",
    "import morphotrack.points\n",
    "import morphotrack.track\n",
    "import morphotrack.image\n",
    "import morphotrack.align\n",
    "import morphotrack.nonlinear_align\n",
    "# import importlib\n",
    "# importlib.reload(morphotrack.track)"
   ]
  },
  {
   "cell_type": "code",
   "execution_count": 3,
   "id": "c118ef00-20ae-4fb0-bcef-739ed08c6030",
   "metadata": {},
   "outputs": [],
   "source": [
    "io_directory = '/mnt/ampa_data01/tmurakami/220715_prefrontal_q2_R01/morphotrack'\n",
    "\n",
    "# load blood vessel\n",
    "vessel = io.imread(os.path.join(io_directory,'R01_ch561_10um.tif'))\n",
    "\n",
    "# load nuclei\n",
    "nuclei = io.imread(os.path.join(io_directory,'R02_ch488_10um.tif'))\n",
    "\n",
    "# load a mask of a white matter \n",
    "white_matter = io.imread(os.path.join(io_directory,'white_matter.tif'))!=0\n",
    "\n",
    "# load a mask of a layer 1\n",
    "layer1 = io.imread(os.path.join(io_directory,'l1.tif'))!=0\n",
    "\n",
    "# segmentated tissue\n",
    "segmented_tissue = io.imread(os.path.join(io_directory,'tissue_mask.tif'))!=0\n",
    "\n",
    "# read cellular coordinate\n",
    "cells_info = pd.read_csv('/mnt/ampa_data01/tmurakami/220715_prefrontal_q2_R01/R02_R01/R02ch488_to_R01_segmentation/coord_centroids.csv',index_col=0) # the unit is original voxel.\n",
    "scaling_factor = np.asarray([3,0.65,0.65])\n",
    "cell_coords = cells_info.loc[:,['centroid-0','centroid-1','centroid-2']] * scaling_factor / 10# convert unit to 10 um for consistency\n",
    "cell_coords = cell_coords.to_numpy()\n",
    "\n",
    "# load track information from the previous step\n",
    "track_info = xr.open_dataset(os.path.join(io_directory,\"track_info.nc\")).load()"
   ]
  },
  {
   "cell_type": "code",
   "execution_count": 4,
   "id": "44394cc2-f4aa-4e44-b4d4-3a64edcdebed",
   "metadata": {},
   "outputs": [
    {
     "data": {
      "text/plain": [
       "<Image layer 'segmented_tissue' at 0x7f1be757afa0>"
      ]
     },
     "execution_count": 4,
     "metadata": {},
     "output_type": "execute_result"
    }
   ],
   "source": [
    "# visual sanity check\n",
    "viewer= napari.Viewer()\n",
    "viewer.add_image(layer1, blending='additive')\n",
    "viewer.add_image(white_matter, blending='additive')\n",
    "viewer.add_image(nuclei, blending='additive')\n",
    "viewer.add_image(segmented_tissue, blending='additive')"
   ]
  },
  {
   "cell_type": "markdown",
   "id": "56e6e5dc-cae2-4b9d-8b73-0f6a3260aa62",
   "metadata": {},
   "source": [
    "## Count in-kernel cells"
   ]
  },
  {
   "cell_type": "code",
   "execution_count": 5,
   "id": "b3b601be-571f-4a46-858b-6067dbdb67ee",
   "metadata": {
    "tags": []
   },
   "outputs": [
    {
     "name": "stdout",
     "output_type": "stream",
     "text": [
      "CPU times: user 6min 32s, sys: 43 s, total: 7min 15s\n",
      "Wall time: 4min 38s\n"
     ]
    }
   ],
   "source": [
    "%%time\n",
    "half_thickness = 2.5 # * 10 micrometer. half of the thickness\n",
    "radius = 10 # * 10 micrometer\n",
    "kernel_counts = morphotrack.points.count_around_position_in_disk_kernel(track_info.Position, cell_coords, half_thickness, radius)\n",
    "kernel_counts = kernel_counts.fillna(0)"
   ]
  },
  {
   "cell_type": "markdown",
   "id": "943ef160-acb5-4671-ab3c-428110f92d36",
   "metadata": {},
   "source": [
    "## Exclude tracks that are not stretch between the surface and white matter"
   ]
  },
  {
   "cell_type": "code",
   "execution_count": 18,
   "id": "2ac10b90-2ebd-4087-b0ad-70b9a8a37f7c",
   "metadata": {
    "tags": []
   },
   "outputs": [],
   "source": [
    "# get binary mask for gray matter\n",
    "gray_candidate = (1-white_matter)*segmented_tissue\n",
    "\n",
    "# get segments where tracks are in gray matter, white matter and layer1\n",
    "gray_loc = morphotrack.track.find_region(track_info.Position, gray_candidate, extract_largest=True)\n",
    "white_loc = morphotrack.track.find_region(track_info.Position, white_matter)\n",
    "l1_loc = morphotrack.track.find_region(track_info.Position, layer1)\n",
    "\n",
    "# design filtering condition\n",
    "filters = []\n",
    "\n",
    "# make filter based on the size of the segment\n",
    "size_threshold = 50\n",
    "filters.append(gray_loc.sum(dim='time')>=size_threshold)\n",
    "\n",
    "# make filter based on one edge is white matter\n",
    "extension_param = 10\n",
    "temp = gray_loc.copy()\n",
    "temp.data = np.apply_along_axis(lambda a:binary_dilation(a, np.hstack([np.zeros(extension_param),np.ones(extension_param)])), axis=1, arr=gray_loc.data)\n",
    "filters.append(((temp.astype(int)-gray_loc.astype(int))*white_loc).sum(dim='time')>0)\n",
    "\n",
    "# make filter based on inclusion of layer1\n",
    "filters.append(l1_loc.sum(dim='time')>0)\n",
    "\n",
    "# dilate to obtain redundancy for alignment\n",
    "gray_extension = 5\n",
    "gray_loc.data = np.apply_along_axis(lambda a:binary_dilation(a, np.hstack([np.zeros(gray_extension),np.ones(gray_extension)])), axis=1, arr=gray_loc.data)\n",
    "\n",
    "# summarize filters\n",
    "filters = xr.concat(filters,dim='filt')\n",
    "track_sel = filters.track[filters.all(dim='filt')]"
   ]
  },
  {
   "cell_type": "code",
   "execution_count": 19,
   "id": "70d615fa-25ec-479f-b4c3-208524ba8331",
   "metadata": {},
   "outputs": [],
   "source": [
    "# get tracks for analysis\n",
    "# create a new xarray dataset with filtered tracks.\n",
    "track_ds = xr.Dataset(data_vars={'Kernel_counts': kernel_counts.isel(track=track_sel), 'Gray_loc': gray_loc.isel(track=track_sel)})\n",
    "track_ds['Gray_counts'] = track_ds.Kernel_counts * track_ds.Gray_loc\n",
    "track_ds['Position'] = track_info.Position.isel(track=track_sel.data)\n",
    "track_ds['Flow'] = track_info.Flow.isel(track=track_sel.data)\n",
    "track_ds['Seeds'] = track_info.Seed.isel(track=track_sel.data)"
   ]
  },
  {
   "cell_type": "code",
   "execution_count": 61,
   "id": "03bab970-85c2-4a3b-a3a3-b732bd5f2d4b",
   "metadata": {},
   "outputs": [
    {
     "data": {
      "text/plain": [
       "<Image layer 'nuclei' at 0x7f09fdc0b220>"
      ]
     },
     "execution_count": 61,
     "metadata": {},
     "output_type": "execute_result"
    }
   ],
   "source": [
    "# Visualize tracks in gray matter\n",
    "img = morphotrack.image.visualize_in_original_space(track_ds.Position, track_ds.Gray_counts, vessel.shape)\n",
    "\n",
    "viewer = napari.Viewer()\n",
    "viewer.add_image(img,colormap='turbo',blending='additive')\n",
    "viewer.add_image(nuclei,colormap='gray',blending='additive')"
   ]
  },
  {
   "cell_type": "markdown",
   "id": "e5c2fa3b-caa4-44bc-875d-e2c7dc60a182",
   "metadata": {},
   "source": [
    "## Alignment\n",
    "### Linear alignment"
   ]
  },
  {
   "cell_type": "code",
   "execution_count": 32,
   "id": "62e015e6-105c-44e0-b87e-17cb25ffd8c9",
   "metadata": {
    "tags": []
   },
   "outputs": [],
   "source": [
    "# get a standard as a template of alignment\n",
    "std_pos = morphotrack.points.pick_median_nearest_point(track_ds['Seeds'],1)\n",
    "# std_pos = 1147 # or set manually\n",
    "std_seed = track_ds['Seeds'][std_pos,:].track.data\n",
    "standard = morphotrack.align.standard_generator(track_ds.Gray_counts,std_seed)\n",
    "\n",
    "# linear transformation of the tracks to the standard track\n",
    "args, disps = morphotrack.align.linear_shift_to_standard(track_ds.Gray_counts,std_seed)\n",
    "\n",
    "# save to track dataset\n",
    "track_ds['Standard'] = standard\n",
    "track_ds['Linear_arg'] = args\n",
    "track_ds['Linear_warped'] = disps"
   ]
  },
  {
   "cell_type": "code",
   "execution_count": 33,
   "id": "40aa2546-30a3-4a09-a695-7247570e5153",
   "metadata": {},
   "outputs": [
    {
     "data": {
      "text/plain": [
       "<Image layer 'Image [2]' at 0x7f09ff4afe50>"
      ]
     },
     "execution_count": 33,
     "metadata": {},
     "output_type": "execute_result"
    }
   ],
   "source": [
    "viewer = napari.Viewer()\n",
    "viewer.add_image(track_ds.Gray_counts,colormap='green',blending='additive',visible=False)\n",
    "viewer.add_image(track_ds.Standard,colormap='green',blending='additive')\n",
    "viewer.add_image(track_ds.Linear_warped.sel(displacement='t2s'),colormap='magenta',blending='additive')"
   ]
  },
  {
   "cell_type": "code",
   "execution_count": 35,
   "id": "cd1b5fec-d4ac-4024-9435-b0dff0007869",
   "metadata": {},
   "outputs": [
    {
     "data": {
      "text/plain": [
       "[<matplotlib.lines.Line2D at 0x7f09fef488e0>]"
      ]
     },
     "execution_count": 35,
     "metadata": {},
     "output_type": "execute_result"
    },
    {
     "data": {
      "image/png": "[encoded data removed]",
      "text/plain": [
       "<Figure size 360x360 with 1 Axes>"
      ]
     },
     "metadata": {
      "needs_background": "light"
     },
     "output_type": "display_data"
    }
   ],
   "source": [
    "# check FFT filter threshold\n",
    "threshold = 5e2\n",
    "fig, axs = plt.subplots(figsize=(5,5))\n",
    "axs.plot(track_ds.Standard.isel(track=0).data)\n",
    "\n",
    "fft_filtered = morphotrack.nonlinear_align.filter_signal(track_ds.Standard.isel(track=0).data,threshold=threshold)\n",
    "fft_filtered[track_ds.Standard.isel(track=0).data==0]=0\n",
    "axs.plot(fft_filtered)"
   ]
  },
  {
   "cell_type": "markdown",
   "id": "99625c19-d7cc-40a0-aaf4-43551a507409",
   "metadata": {},
   "source": [
    "### Non-linear alignment\n",
    "Finely tune the alignments by non-linear 1d registration or dynamic time warping"
   ]
  },
  {
   "cell_type": "code",
   "execution_count": 46,
   "id": "f32619d3-7cee-4a08-88e4-6e73d1e5fa14",
   "metadata": {},
   "outputs": [],
   "source": [
    "settings = {\n",
    "    'pyramid_levels':3,\n",
    "    'pyramid_stop_level': 0,\n",
    "    'step_size': [1.0, 1.0, 1.0],\n",
    "    'block_size': [512,512,512],\n",
    "    'block_energy_epsilon':1e-7,\n",
    "    'max_iteration_count':100,\n",
    "    'constraints_weight':1000.0,\n",
    "    'regularization_weight': 0.25, # default 0.25\n",
    "    'regularization_scale': 1.0, # default 1.0\n",
    "    'regularization_exponent': 2.0, # default 2.0\n",
    "    'image_slots':[{\n",
    "            'resampler': 'gaussian',\n",
    "            'normalize': True,\n",
    "            'cost_function':[\n",
    "                {\n",
    "                    'function':'ncc',\n",
    "                    'weight':1.0,\n",
    "                    'radius':21\n",
    "                }\n",
    "            ]\n",
    "        }]\n",
    "}"
   ]
  },
  {
   "cell_type": "code",
   "execution_count": 47,
   "id": "94cb2f09-b989-4327-8348-afba4cd8d79a",
   "metadata": {
    "tags": []
   },
   "outputs": [
    {
     "name": "stderr",
     "output_type": "stream",
     "text": [
      "100%|██████████████████████████████████████████████████████████████████████████████████████████| 2863/2863 [04:26<00:00, 10.76it/s]\n"
     ]
    }
   ],
   "source": [
    "# non-linear transformation of the tracks to the standard track\n",
    "non_linear_args = morphotrack.nonlinear_align.track_wise_aligner(\n",
    "    track_ds.Standard.data, \n",
    "    track_ds.Linear_warped.sel(displacement='t2s').data,\n",
    "    fft_threshold=threshold, \n",
    "    settings=settings# morphotrack.variables.settings\n",
    ")"
   ]
  },
  {
   "cell_type": "code",
   "execution_count": 48,
   "id": "27571a84-7d70-461b-99a6-7853d4a9dc01",
   "metadata": {},
   "outputs": [],
   "source": [
    "# store non linear displacement in xarray\n",
    "non_linear_arg_xr = track_ds.Linear_arg.copy()\n",
    "non_linear_arg_xr[:] = np.asarray(non_linear_args[::-1])\n",
    "track_ds['Nonlinear_arg'] = non_linear_arg_xr\n",
    "\n",
    "# make total displacement \n",
    "comp_disps = []\n",
    "for x in track_ds.Nonlinear_arg.displacement.data:\n",
    "    comp_disps.append(morphotrack.align.composite_displacement(track_ds.Linear_arg.sel(displacement=x),track_ds.Nonlinear_arg.sel(displacement=x)))\n",
    "\n",
    "# store total displacement in xarray\n",
    "total_arg_xr = track_ds.Linear_arg.copy()\n",
    "total_arg_xr[:] = np.asarray(comp_disps)\n",
    "track_ds['Total_arg'] = total_arg_xr\n",
    "\n",
    "# make total warped tracks\n",
    "s2t_non_linear_warped = morphotrack.align.positional_mapping(track_ds.Standard, track_ds.Total_arg.sel(displacement='s2t'))\n",
    "t2s_non_linear_warped = morphotrack.align.positional_mapping(track_ds.Gray_counts, track_ds.Total_arg.sel(displacement='t2s'))\n",
    "\n",
    "# store total warp in xarray\n",
    "total_warp_xr = track_ds.Linear_arg.copy()\n",
    "total_warp_xr[:] = np.asarray([s2t_non_linear_warped, t2s_non_linear_warped])\n",
    "track_ds['Total_warped'] = total_warp_xr"
   ]
  },
  {
   "cell_type": "code",
   "execution_count": 49,
   "id": "f0e3106f-fd4c-4528-b67d-94386a3982fe",
   "metadata": {},
   "outputs": [
    {
     "data": {
      "text/plain": [
       "<Image layer 'Image [3]' at 0x7f09fe840bb0>"
      ]
     },
     "execution_count": 49,
     "metadata": {},
     "output_type": "execute_result"
    }
   ],
   "source": [
    "# visual quality check\n",
    "viewer = napari.Viewer()\n",
    "viewer.add_image(track_ds.Gray_counts,colormap='green',blending='additive',visible=False)\n",
    "viewer.add_image(track_ds.Standard,colormap='green',blending='additive')\n",
    "viewer.add_image(track_ds.Total_warped.sel(displacement='t2s'),colormap='magenta',blending='additive')\n",
    "viewer.add_image(track_ds.Total_warped.sel(displacement='s2t'),colormap='magenta',blending='additive',visible=False)"
   ]
  },
  {
   "cell_type": "code",
   "execution_count": 59,
   "id": "0ec98263-9b91-472b-9053-5e9d3d18e8b4",
   "metadata": {},
   "outputs": [
    {
     "data": {
      "text/plain": [
       "<Image layer 'nuclei' at 0x7f09fd9489d0>"
      ]
     },
     "execution_count": 59,
     "metadata": {},
     "output_type": "execute_result"
    }
   ],
   "source": [
    "# visual quality check in the original space\n",
    "img = morphotrack.image.visualize_in_original_space(track_ds.Position, track_ds.Total_arg.sel(displacement='s2t'), vessel.shape)\n",
    "\n",
    "viewer = napari.Viewer()\n",
    "viewer.add_image(img,colormap='turbo',blending='additive')\n",
    "viewer.add_image(nuclei,colormap='gray',blending='additive')"
   ]
  },
  {
   "cell_type": "code",
   "execution_count": 60,
   "id": "93d865ed-4d37-496d-8e50-02db74006e0a",
   "metadata": {},
   "outputs": [],
   "source": [
    "track_ds.to_netcdf(os.path.join(io_directory,\"track_alignment.nc\"))"
   ]
  },
  {
   "cell_type": "code",
   "execution_count": null,
   "id": "dce90d91-0d16-4fe3-a718-4472ab3c7dd4",
   "metadata": {},
   "outputs": [],
   "source": []
  }
 ],
 "metadata": {
  "kernelspec": {
   "display_name": "segment",
   "language": "python",
   "name": "segment"
  },
  "language_info": {
   "codemirror_mode": {
    "name": "ipython",
    "version": 3
   },
   "file_extension": ".py",
   "mimetype": "text/x-python",
   "name": "python",
   "nbconvert_exporter": "python",
   "pygments_lexer": "ipython3",
   "version": "3.8.10"
  }
 },
 "nbformat": 4,
 "nbformat_minor": 5
}
