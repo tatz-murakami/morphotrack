{
 "cells": [
  {
   "cell_type": "code",
   "execution_count": 79,
   "id": "758f9151-7ee0-406b-b6e2-871c79ec29e1",
   "metadata": {
    "tags": []
   },
   "outputs": [
    {
     "data": {
      "text/plain": [
       "<module 'morphotrack.points' from '/home/tmurakami/src/morphotrack/morphotrack/points.py'>"
      ]
     },
     "execution_count": 79,
     "metadata": {},
     "output_type": "execute_result"
    }
   ],
   "source": [
    "import numpy as np\n",
    "import pandas as pd\n",
    "import xarray as xr\n",
    "import napari\n",
    "import os\n",
    "from skimage import io\n",
    "import morphotrack.image\n",
    "import morphotrack.points\n",
    "import morphotrack.align\n",
    "import pickle\n",
    "from matplotlib import pyplot as plt\n",
    "\n",
    "import importlib\n",
    "importlib.reload(morphotrack.points)\n",
    "# from scipy import spatial"
   ]
  },
  {
   "cell_type": "code",
   "execution_count": 9,
   "id": "5660e3f8-c185-4f32-b0d8-2a7f4ef15fda",
   "metadata": {},
   "outputs": [],
   "source": [
    "base_path = '/mnt/ampa_data01/tmurakami/220615_slc17a7_nuc_sma_human_03'\n",
    "io_directory = os.path.join(base_path,'morphotrack')\n",
    "track_ds = xr.open_dataset(os.path.join(io_directory,\"track_ds.nc\")).load()"
   ]
  },
  {
   "cell_type": "code",
   "execution_count": 32,
   "id": "f4acea58-bb19-4ff3-b315-159ce3deb786",
   "metadata": {},
   "outputs": [],
   "source": [
    "# read images\n",
    "imgs = {\n",
    "    'nuclei': io.imread(os.path.join(io_directory,'R02_ch488_10um.tif')),\n",
    "    'slc17a7': io.imread(os.path.join(io_directory,'R01_ch640_10um.tif')),\n",
    "    'plp1': io.imread(os.path.join(io_directory,'R02_ch640_10um.tif')),\n",
    "    'vessel': io.imread(os.path.join(io_directory,'R01_ch561_10um.tif')),\n",
    "}\n"
   ]
  },
  {
   "cell_type": "code",
   "execution_count": 10,
   "id": "2fa86502-b87f-4190-87e5-f7680e4915cc",
   "metadata": {},
   "outputs": [],
   "source": [
    "# read cellular coordinate\n",
    "coord_path = {\n",
    "    'slc17a7':os.path.join(base_path,'R01_R01/R01ch640_to_R01_segmentation','coord_centroids.csv'),\n",
    "    'plp1':os.path.join(base_path,'R02_R01/R02ch640_to_R01_segmentation','coord_centroids.csv')\n",
    "}\n",
    "\n",
    "coords = {}\n",
    "scaling_factor = np.asarray([3,0.65,0.65])\n",
    "for key in coord_path:\n",
    "    cells_info = pd.read_csv(coord_path[key],index_col=0) # the unit is original voxel.\n",
    "    cell_coords = cells_info.loc[:,['centroid-0','centroid-1','centroid-2']] * scaling_factor / 10# convert unit to 10 um for consistency\n",
    "    cell_coords = cell_coords.to_numpy()\n",
    "    coords[key] = cell_coords"
   ]
  },
  {
   "cell_type": "code",
   "execution_count": 13,
   "id": "c34b8fbf-8dca-4249-972e-af9dbfbaa3c3",
   "metadata": {},
   "outputs": [
    {
     "name": "stderr",
     "output_type": "stream",
     "text": [
      "/home/tmurakami/app/miniconda3/envs/segment/lib/python3.8/site-packages/numpy/core/numeric.py:2449: FutureWarning: elementwise comparison failed; returning scalar instead, but in the future will perform elementwise comparison\n",
      "  return bool(asarray(a1 == a2).all())\n"
     ]
    },
    {
     "data": {
      "text/plain": [
       "<Points layer 'Points' at 0x7f5514423370>"
      ]
     },
     "execution_count": 13,
     "metadata": {},
     "output_type": "execute_result"
    }
   ],
   "source": [
    "viewer = napari.Viewer()\n",
    "# viewer.add_image(nuclei,colormap='gray',blending='additive')\n",
    "viewer.add_points(\n",
    "    coords['slc17a7'],\n",
    "    size=2,\n",
    "    face_color = 'white',\n",
    "    edge_width=0,\n",
    "    symbol='disc'\n",
    ")"
   ]
  },
  {
   "cell_type": "code",
   "execution_count": 21,
   "id": "58daaa44-a7a2-45a9-a31c-180166f541bc",
   "metadata": {},
   "outputs": [],
   "source": [
    "# selection of tracks based on the quality of the alignment\n",
    "cond1 = track_ds.Similarity.sel(metrics='cs') >= track_ds.Similarity.attrs['cs_thresh']\n",
    "cond2 = track_ds.Similarity.sel(metrics='mi') >= track_ds.Similarity.attrs['mi_thresh']\n",
    "select_tracks = track_ds.track[cond1&cond2]\n",
    "track_ds = track_ds.sel(track=select_tracks)"
   ]
  },
  {
   "cell_type": "code",
   "execution_count": 45,
   "id": "1d127817-3ad8-48bc-8c1b-df26b1c74ab1",
   "metadata": {},
   "outputs": [
    {
     "name": "stderr",
     "output_type": "stream",
     "text": [
      "/home/tmurakami/app/miniconda3/envs/segment/lib/python3.8/site-packages/numpy/core/numeric.py:2449: FutureWarning: elementwise comparison failed; returning scalar instead, but in the future will perform elementwise comparison\n",
      "  return bool(asarray(a1 == a2).all())\n"
     ]
    }
   ],
   "source": [
    "img = morphotrack.image.visualize_in_original_space(track_ds.Position, track_ds.Total_arg.sel(displacement='s2t'), nuclei.shape)\n",
    "\n",
    "viewer = napari.Viewer()\n",
    "viewer.add_image(img,colormap='turbo',blending='additive')\n",
    "viewer.add_image(imgs['nuclei'],colormap='gray',blending='additive')\n",
    "viewer.add_image(imgs['slc17a7'],colormap='gray',blending='additive')\n",
    "points = viewer.add_points(\n",
    "    track_ds.Seeds.data,\n",
    "    features = track_ds.track.data, \n",
    "    size=10,\n",
    "    face_color = 'white',\n",
    "    edge_width=0,\n",
    "    symbol='disc'\n",
    ")"
   ]
  },
  {
   "cell_type": "code",
   "execution_count": 69,
   "id": "fb9a095e-2850-4713-b7d0-2607871e60fe",
   "metadata": {},
   "outputs": [],
   "source": [
    "half_thickness = 2.5 # * 10 micrometer. half of the thickness\n",
    "radius = 10 # * 10 micrometer\n",
    "\n",
    "kernel_counts = morphotrack.points.count_around_position_in_disk_kernel(track_ds.Position, coords['plp1'], half_thickness, radius)\n",
    "kernel_counts = kernel_counts.fillna(0)"
   ]
  },
  {
   "cell_type": "code",
   "execution_count": 70,
   "id": "c5cfce59-3e7a-4016-b739-bb9f14b34c3f",
   "metadata": {
    "tags": []
   },
   "outputs": [],
   "source": [
    "t2s_non_linear_warped = morphotrack.align.positional_mapping(kernel_counts*track_ds.Gray_loc, track_ds.Total_arg.sel(displacement='t2s'))"
   ]
  },
  {
   "cell_type": "code",
   "execution_count": 72,
   "id": "c9b6c16a-48e4-4094-a45d-9a3b7959b33a",
   "metadata": {
    "tags": []
   },
   "outputs": [
    {
     "data": {
      "text/plain": [
       "<Image layer 'Image [2]' at 0x7f555b8f8d30>"
      ]
     },
     "execution_count": 72,
     "metadata": {},
     "output_type": "execute_result"
    }
   ],
   "source": [
    "viewer = napari.Viewer()\n",
    "viewer.add_image(track_ds.Gray_counts,colormap='green',blending='additive',visible=False)\n",
    "viewer.add_image(track_ds.Standard,colormap='green',blending='additive')\n",
    "viewer.add_image(t2s_non_linear_warped,colormap='magenta',blending='additive')\n",
    "viewer.add_image(track_ds.Total_warped.sel(displacement='t2s'),colormap='magenta',blending='additive')"
   ]
  },
  {
   "cell_type": "code",
   "execution_count": 76,
   "id": "4d4f129a-29d3-46b3-ab7b-c3fabdb45eb5",
   "metadata": {},
   "outputs": [],
   "source": [
    "reference_time = 170 # time corresponding to layer IV is a good choice.\n",
    "ref_time_in_standard = track_ds.Total_arg.sel(displacement='t2s').sel(time=reference_time)\n",
    "layer_position = []\n",
    "for ti, tr in zip(ref_time_in_standard.data,ref_time_in_standard.track.data):\n",
    "    layer_position.append(track_ds.Position.sel(track=tr).interp(time=ti))\n",
    "layer_position = xr.concat(layer_position,dim='track')\n",
    "\n",
    "clf = pickle.load(open(os.path.join(io_directory,'model.pkl'), 'rb'))\n",
    "norm_flow_on_coordinate = morphotrack.points.model_to_get_flow_func(clf.degree, clf)\n",
    "local_flux = morphotrack.points.get_local_flux(layer_position.data, norm_flow_on_coordinate, radius)"
   ]
  },
  {
   "cell_type": "code",
   "execution_count": 80,
   "id": "00e78fdd-80bc-4960-8967-f1437e95696a",
   "metadata": {},
   "outputs": [
    {
     "data": {
      "text/plain": [
       "[<matplotlib.lines.Line2D at 0x7f555a884df0>]"
      ]
     },
     "execution_count": 80,
     "metadata": {},
     "output_type": "execute_result"
    },
    {
     "data": {
      "image/png": "[encoded data removed]",
      "text/plain": [
       "<Figure size 432x288 with 1 Axes>"
      ]
     },
     "metadata": {
      "needs_background": "light"
     },
     "output_type": "display_data"
    }
   ],
   "source": [
    "plt.plot(local_flux)"
   ]
  },
  {
   "cell_type": "code",
   "execution_count": null,
   "id": "42679492-f052-4075-a49f-d8816f446e65",
   "metadata": {},
   "outputs": [],
   "source": []
  }
 ],
 "metadata": {
  "kernelspec": {
   "display_name": "segment",
   "language": "python",
   "name": "segment"
  },
  "language_info": {
   "codemirror_mode": {
    "name": "ipython",
    "version": 3
   },
   "file_extension": ".py",
   "mimetype": "text/x-python",
   "name": "python",
   "nbconvert_exporter": "python",
   "pygments_lexer": "ipython3",
   "version": "3.8.10"
  }
 },
 "nbformat": 4,
 "nbformat_minor": 5
}
